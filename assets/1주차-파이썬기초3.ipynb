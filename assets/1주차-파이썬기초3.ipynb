{
 "cells": [
  {
   "cell_type": "markdown",
   "id": "9f4da887",
   "metadata": {},
   "source": [
    "# 파이썬에서 조건문과 루프\n",
    "\n",
    "![](https://i.imgur.com/7RfcHV0.png)\n",
    "\n",
    "이 노트북에서 다룰내용:\n",
    "\n",
    "1. `if`, `else` 그리고 `elif` 분기\n",
    "2. 중첩 조건 및 `if` 표현식\n",
    "3. `while` 루프를 사용한 반복\n",
    "4. `for`루프를 사용한 반복\n",
    "5. 중첩루프, `break`그리고 `continue`문\n",
    " \n",
    " "
   ]
  },
  {
   "cell_type": "markdown",
   "id": "8928dc54",
   "metadata": {},
   "source": [
    "## `if`, `else` 그리고 `elif` 분기\n",
    "\n",
    "프로그래밍 언어의 강력한 기능 중 하나는 *분기(branching)*임: 하나 이상의 조건이 참인지 여부를 결정하고 다른 명령문 집합을 실행함\n",
    "\n",
    "### `if` 문\n",
    "\n",
    "파이썬에서 분기는 아래와 같이 작성된 `if` 문을 사용함:\n",
    "\n",
    "```\n",
    "if 조건:\n",
    "    명령문1\n",
    "    명령문2\n",
    "```\n",
    "\n",
    "`조건(condition)`은 값, 변수, 표현식이 될 수 있다. 조건이 `참(True)`이면, *`if`문 블록* 내의 명령문이 실행된다.\n",
    "\n",
    "`명령문1`, `명령문2` 등의 앞에 있는 공백이 중요하다. 이러한 공백은 명령문이 위의 `if`문과 연결되어 있음을 알려주는 것이다. \n",
    "\n",
    "공백을 추가해 코드를 구조화하는 기술을 *들여쓰기(indentation)*라고 한다.\n",
    "\n",
    "> **들여쓰기(Indentation)**: 파이썬은 코드 구조를 정의하기 위해 *들여쓰기*에 의존한다.\n",
    "\n",
    "들여쓰기가 파이썬 코드를 읽고 쉽게 이해할 수 있도록 도와준다. 들여쓰기를 제대로 사용하지 않으면 많은 문제를 겪을 수 있다.\n",
    "\n",
    "줄 시작 부분에 커서를 놓고 `Tab`키를 한번 누르면 자동으로 공백이 생성되어 코드 들여쓰기를 적용할 수 있다.  \n",
    "\n",
    "`Tab`키를 다시 한번 누르면 코드가 4칸 더 들여쓰기가 되고 `Shift+Tab`을 누르면 들여쓰기가 4칸 줄어든다."
   ]
  },
  {
   "cell_type": "code",
   "execution_count": 151,
   "id": "9d5a1395",
   "metadata": {},
   "outputs": [],
   "source": [
    "a_number = 34"
   ]
  },
  {
   "cell_type": "code",
   "execution_count": 152,
   "id": "367130eb",
   "metadata": {},
   "outputs": [
    {
     "name": "stdout",
     "output_type": "stream",
     "text": [
      "We're inside an if block\n",
      "The given number 34 is even.\n"
     ]
    }
   ],
   "source": [
    "if a_number % 2 == 0:\n",
    "    print(\"We're inside an if block\")\n",
    "    print('The given number {} is even.'.format(a_number))"
   ]
  },
  {
   "cell_type": "markdown",
   "id": "2cf96a36",
   "metadata": {},
   "source": [
    "모듈러 연산자를 사용해 짝수를 2로 나눈 나머지 값을 활용해 `if`문을 활용하는 예제를 살펴보았다.\n",
    "홀수인 경우도 살펴보자."
   ]
  },
  {
   "cell_type": "code",
   "execution_count": 3,
   "id": "4ddc2538",
   "metadata": {},
   "outputs": [],
   "source": [
    "another_number = 33"
   ]
  },
  {
   "cell_type": "code",
   "execution_count": 4,
   "id": "5278dd58",
   "metadata": {},
   "outputs": [],
   "source": [
    "if another_number % 2 == 0:\n",
    "    print('The given number {} is even.'.format(a_number))"
   ]
  },
  {
   "cell_type": "markdown",
   "id": "ffbfc10b",
   "metadata": {},
   "source": [
    "\n",
    "### The `else` 문\n",
    "\n",
    "위의 예시에서도 숫자가 아닌경우 다른 메시지를 출력할 수 있다.\n",
    "\n",
    "이러한 기능은 `else` 문으로 수행할 수 있고, 아래와 같이 작성됨:\n",
    "\n",
    "```\n",
    "if condition:\n",
    "    명령문1\n",
    "    명령문2\n",
    "else:\n",
    "    명령문3\n",
    "    명령문4\n",
    "\n",
    "```\n",
    "\n",
    "만약 `조건`이 `참`으로 판단되면, `if`블록의 명령문이 실행된다. `거짓`으로 판단되면, `else` 블록의 명령문이 실행된다."
   ]
  },
  {
   "cell_type": "code",
   "execution_count": 5,
   "id": "8767fa52",
   "metadata": {},
   "outputs": [],
   "source": [
    "a_number = 34"
   ]
  },
  {
   "cell_type": "code",
   "execution_count": 6,
   "id": "be5d3ad8",
   "metadata": {},
   "outputs": [
    {
     "name": "stdout",
     "output_type": "stream",
     "text": [
      "The given number 34 is even.\n"
     ]
    }
   ],
   "source": [
    "if a_number % 2 == 0:\n",
    "    print('The given number {} is even.'.format(a_number))\n",
    "else:\n",
    "    print('The given number {} is odd.'.format(a_number))"
   ]
  },
  {
   "cell_type": "code",
   "execution_count": 8,
   "id": "690dd84e",
   "metadata": {},
   "outputs": [],
   "source": [
    "another_number = 33"
   ]
  },
  {
   "cell_type": "code",
   "execution_count": 9,
   "id": "a0d11d79",
   "metadata": {},
   "outputs": [
    {
     "name": "stdout",
     "output_type": "stream",
     "text": [
      "The given number 33 is odd.\n"
     ]
    }
   ],
   "source": [
    "if another_number % 2 == 0:\n",
    "    print('The given number {} is even.'.format(another_number))\n",
    "else:\n",
    "    print('The given number {} is odd.'.format(another_number))"
   ]
  },
  {
   "cell_type": "markdown",
   "id": "1831aa77",
   "metadata": {},
   "source": [
    " 아래는 튜플내에 요소들을 확인하기 위해 `in` 연산자를 사용하는 예시이다."
   ]
  },
  {
   "cell_type": "code",
   "execution_count": 11,
   "id": "d6f829dd",
   "metadata": {},
   "outputs": [],
   "source": [
    "the_3_musketeers = ('Athos', 'Porthos', 'Aramis')\n",
    "a_candidate = \"D'Artagnan\""
   ]
  },
  {
   "cell_type": "code",
   "execution_count": 12,
   "id": "db6fc2d6",
   "metadata": {},
   "outputs": [
    {
     "name": "stdout",
     "output_type": "stream",
     "text": [
      "D'Artagnan is not a musketeer\n"
     ]
    }
   ],
   "source": [
    "if a_candidate in the_3_musketeers:\n",
    "    print(\"{} is a musketeer\".format(a_candidate))\n",
    "else:\n",
    "    print(\"{} is not a musketeer\".format(a_candidate))"
   ]
  },
  {
   "cell_type": "markdown",
   "id": "5858f122",
   "metadata": {},
   "source": [
    "### `elif`문\n",
    "\n",
    "파이썬은 조건부 블록을 연결하기 위해 `elif`문(\"else if\"의 줄임)을 제공한다. 조건은 하나씩 평가되며, `참`으로 평가되는 첫번째 조건에 대해 그 아래의 명령문 블록이 실행된다. 나머지 조건 및 명령문을 평가하지 않는다.\n",
    "\n",
    "다시말해 `if`, `elif`, `elif`의 연속에서 최대 한 블록의 명령문이 실행되며,하나는 `참`으로 평가되는 첫번째 조건에 해당한다. "
   ]
  },
  {
   "cell_type": "code",
   "execution_count": 13,
   "id": "00f6f1d6",
   "metadata": {},
   "outputs": [],
   "source": [
    "today = 'Wednesday'"
   ]
  },
  {
   "cell_type": "code",
   "execution_count": 14,
   "id": "a9b87d43",
   "metadata": {},
   "outputs": [
    {
     "name": "stdout",
     "output_type": "stream",
     "text": [
      "Today is the day of Odin, the supreme diety.\n"
     ]
    }
   ],
   "source": [
    "if today == 'Sunday':\n",
    "    print(\"Today is the day of the sun.\")\n",
    "elif today == 'Monday':\n",
    "    print(\"Today is the day of the moon.\")\n",
    "elif today == 'Tuesday':\n",
    "    print(\"Today is the day of Tyr, the god of war.\")\n",
    "elif today == 'Wednesday':\n",
    "    print(\"Today is the day of Odin, the supreme diety.\")\n",
    "elif today == 'Thursday':\n",
    "    print(\"Today is the day of Thor, the god of thunder.\")\n",
    "elif today == 'Friday':\n",
    "    print(\"Today is the day of Frigga, the goddess of beauty.\")\n",
    "elif today == 'Saturday':\n",
    "    print(\"Today is the day of Saturn, the god of fun and feasting.\")"
   ]
  },
  {
   "cell_type": "code",
   "execution_count": 15,
   "id": "88a6a326",
   "metadata": {},
   "outputs": [],
   "source": [
    "a_number = 15"
   ]
  },
  {
   "cell_type": "code",
   "execution_count": 16,
   "id": "22482bf4",
   "metadata": {},
   "outputs": [
    {
     "name": "stdout",
     "output_type": "stream",
     "text": [
      "15 is divisible by 3\n"
     ]
    }
   ],
   "source": [
    "if a_number % 2 == 0:\n",
    "    print('{} is divisible by 2'.format(a_number))\n",
    "elif a_number % 3 == 0:\n",
    "    print('{} is divisible by 3'.format(a_number))\n",
    "elif a_number % 5 == 0:\n",
    "    print('{} is divisible by 5'.format(a_number))\n",
    "elif a_number % 7 == 0:\n",
    "    print('{} is divisible by 7'.format(a_number))"
   ]
  },
  {
   "cell_type": "code",
   "execution_count": 17,
   "id": "5dce587c",
   "metadata": {},
   "outputs": [
    {
     "name": "stdout",
     "output_type": "stream",
     "text": [
      "15 is divisible by 3\n",
      "15 is divisible by 5\n"
     ]
    }
   ],
   "source": [
    "if a_number % 2 == 0:\n",
    "    print('{} is divisible by 2'.format(a_number))\n",
    "if a_number % 3 == 0:\n",
    "    print('{} is divisible by 3'.format(a_number))\n",
    "if a_number % 5 == 0:\n",
    "    print('{} is divisible by 5'.format(a_number))\n",
    "if a_number % 7 == 0:\n",
    "    print('{} is divisible by 7'.format(a_number))"
   ]
  },
  {
   "cell_type": "markdown",
   "id": "08ff8d2f",
   "metadata": {},
   "source": [
    "### `if`, `elif`와 `else` 같이 사용\n",
    "\n",
    "`if`, `elif`문 끝에 `else`문을 포함할 수도 있다. `else` 블록 내의 코드는 어떤 조건도 참이 아닐때 실행된다."
   ]
  },
  {
   "cell_type": "code",
   "execution_count": 18,
   "id": "75789432",
   "metadata": {},
   "outputs": [],
   "source": [
    "a_number = 49"
   ]
  },
  {
   "cell_type": "code",
   "execution_count": 19,
   "id": "9fca92e1",
   "metadata": {},
   "outputs": [
    {
     "name": "stdout",
     "output_type": "stream",
     "text": [
      "All checks failed!\n",
      "49 is not divisible by 2, 3 or 5\n"
     ]
    }
   ],
   "source": [
    "if a_number % 2 == 0:\n",
    "    print('{} is divisible by 2'.format(a_number))\n",
    "elif a_number % 3 == 0:\n",
    "    print('{} is divisible by 3'.format(a_number))\n",
    "elif a_number % 5 == 0:\n",
    "    print('{} is divisible by 5'.format(a_number))\n",
    "else:\n",
    "    print('All checks failed!')\n",
    "    print('{} is not divisible by 2, 3 or 5'.format(a_number))"
   ]
  },
  {
   "cell_type": "code",
   "execution_count": 20,
   "id": "e596bbe6",
   "metadata": {},
   "outputs": [],
   "source": [
    "#논리 연산자를 활용한 예제\n",
    "a_number = 12"
   ]
  },
  {
   "cell_type": "code",
   "execution_count": 21,
   "id": "9f1379a8",
   "metadata": {},
   "outputs": [
    {
     "name": "stdout",
     "output_type": "stream",
     "text": [
      "The number 12 is not divisible by 5\n"
     ]
    }
   ],
   "source": [
    "if a_number % 3 == 0 and a_number % 5 == 0:\n",
    "    print(\"The number {} is divisible by 3 and 5\".format(a_number))\n",
    "elif not a_number % 5 == 0:\n",
    "    print(\"The number {} is not divisible by 5\".format(a_number))"
   ]
  },
  {
   "cell_type": "markdown",
   "id": "d1e8c62a",
   "metadata": {},
   "source": [
    "### Boolean이 아닌 조건\n",
    "\n",
    "조건문은 반드시 불리언일 필요는 없다.\n",
    "\n",
    "실제로 조건은 모든 갑싱 될 수 있고, 값은 `bool`연산자를 사용해 자동으로 불리언으로 변환된다. `0`, `''`, `{}`, `[]`과 같은 값은 `거짓` 으로 판단되고 이외의 다른 값 들은 `True`로 판단된다."
   ]
  },
  {
   "cell_type": "code",
   "execution_count": 22,
   "id": "20db0a61",
   "metadata": {},
   "outputs": [
    {
     "name": "stdout",
     "output_type": "stream",
     "text": [
      "The condition evaluted to False\n"
     ]
    }
   ],
   "source": [
    "if '':\n",
    "    print('The condition evaluted to True')\n",
    "else:\n",
    "    print('The condition evaluted to False')"
   ]
  },
  {
   "cell_type": "code",
   "execution_count": 23,
   "id": "42085089",
   "metadata": {},
   "outputs": [
    {
     "name": "stdout",
     "output_type": "stream",
     "text": [
      "The condition evaluted to True\n"
     ]
    }
   ],
   "source": [
    "if 'Hello':\n",
    "    print('The condition evaluted to True')\n",
    "else:\n",
    "    print('The condition evaluted to False')"
   ]
  },
  {
   "cell_type": "code",
   "execution_count": 24,
   "id": "a3087001",
   "metadata": {},
   "outputs": [
    {
     "name": "stdout",
     "output_type": "stream",
     "text": [
      "The condition evaluted to True\n"
     ]
    }
   ],
   "source": [
    "if { 'a': 34 }:\n",
    "    print('The condition evaluted to True')\n",
    "else:\n",
    "    print('The condition evaluted to False')"
   ]
  },
  {
   "cell_type": "code",
   "execution_count": 25,
   "id": "7553560a",
   "metadata": {},
   "outputs": [
    {
     "name": "stdout",
     "output_type": "stream",
     "text": [
      "The condition evaluted to False\n"
     ]
    }
   ],
   "source": [
    "if None:\n",
    "    print('The condition evaluted to True')\n",
    "else:\n",
    "    print('The condition evaluted to False')"
   ]
  },
  {
   "cell_type": "markdown",
   "id": "c5887e07",
   "metadata": {},
   "source": [
    "### 조건문 중첩\n",
    "\n",
    "`if`블록 안의 코드는 그 안에 `if`문을 또 포함할 수 있다.\n",
    "\n",
    "이러한 패턴을 `중첩`이라고 하며 특정 조건이 참인 후 다른 조건을 확인하는데 사용된다."
   ]
  },
  {
   "cell_type": "code",
   "execution_count": 26,
   "id": "cae73f72",
   "metadata": {},
   "outputs": [],
   "source": [
    "a_number = 15"
   ]
  },
  {
   "cell_type": "code",
   "execution_count": 27,
   "id": "1ff3611e",
   "metadata": {},
   "outputs": [
    {
     "name": "stdout",
     "output_type": "stream",
     "text": [
      "15 is odd\n",
      "15 is also divisible by 5\n"
     ]
    }
   ],
   "source": [
    "if a_number % 2 == 0:\n",
    "    print(\"{} is even\".format(a_number))\n",
    "    if a_number % 3 == 0:\n",
    "        print(\"{} is also divisible by 3\".format(a_number))\n",
    "    else:\n",
    "        print(\"{} is not divisibule by 3\".format(a_number))\n",
    "else:\n",
    "    print(\"{} is odd\".format(a_number))\n",
    "    if a_number % 5 == 0:\n",
    "        print(\"{} is also divisible by 5\".format(a_number))\n",
    "    else:\n",
    "        print(\"{} is not divisibule by 5\".format(a_number))"
   ]
  },
  {
   "cell_type": "markdown",
   "id": "126dc400",
   "metadata": {},
   "source": [
    "`print` 문이 내부 `if`/`else` 블록의 일부임을 나타내기 위해 8개의 공백의 들여쓰기를 사용한 것이 중요하다.\n",
    "\n",
    "> 중첩된 'if', 'else' 문은 읽기에 혼동을 줄 수 있고 사람이 실수하기 쉽다. 가능하면 중첩을 피하거나 중첩을 1 또는 2 수준으로 제한하는 것이 좋다."
   ]
  },
  {
   "cell_type": "markdown",
   "id": "e98f890f",
   "metadata": {},
   "source": [
    "### 약식 `if` 조건문\n",
    "\n",
    "`if` 문은 대체로 조건을 테스트하고 조건에 따라 변수 값을 설정하는 것이다."
   ]
  },
  {
   "cell_type": "code",
   "execution_count": 28,
   "id": "bd3ad72f",
   "metadata": {},
   "outputs": [
    {
     "name": "stdout",
     "output_type": "stream",
     "text": [
      "The number 13 is odd.\n"
     ]
    }
   ],
   "source": [
    "a_number = 13\n",
    "\n",
    "if a_number % 2 == 0:\n",
    "    parity = 'even'\n",
    "else:\n",
    "    parity = 'odd'\n",
    "\n",
    "print('The number {} is {}.'.format(a_number, parity))"
   ]
  },
  {
   "cell_type": "code",
   "execution_count": 29,
   "id": "add1934a",
   "metadata": {},
   "outputs": [],
   "source": [
    "#한줄에 표현한 조건문\n",
    "parity = 'even' if a_number % 2 == 0 else 'odd'"
   ]
  },
  {
   "cell_type": "code",
   "execution_count": 30,
   "id": "d9cae4f9",
   "metadata": {},
   "outputs": [
    {
     "name": "stdout",
     "output_type": "stream",
     "text": [
      "The number 13 is odd.\n"
     ]
    }
   ],
   "source": [
    "print('The number {} is {}.'.format(a_number, parity))"
   ]
  },
  {
   "cell_type": "markdown",
   "id": "c993be69",
   "metadata": {},
   "source": [
    "### `pass` 문\n",
    "\n",
    "`if`문은 비워둘 수 없으며 모든 `if` 및 `elif` 블록에 하나 이상의 명령문이 있어야 한다. \n",
    "\n",
    "`pass`문을 사용하여 아무 작업도 하지 않고 오류가 발생하지 않도록 할 수 있다."
   ]
  },
  {
   "cell_type": "code",
   "execution_count": 31,
   "id": "5d548b93",
   "metadata": {},
   "outputs": [],
   "source": [
    "a_number = 9"
   ]
  },
  {
   "cell_type": "code",
   "execution_count": 32,
   "id": "a0cc25ee",
   "metadata": {},
   "outputs": [
    {
     "ename": "IndentationError",
     "evalue": "expected an indented block (<ipython-input-32-77268dd66617>, line 2)",
     "output_type": "error",
     "traceback": [
      "\u001b[0;36m  File \u001b[0;32m\"<ipython-input-32-77268dd66617>\"\u001b[0;36m, line \u001b[0;32m2\u001b[0m\n\u001b[0;31m    elif a_number % 3 == 0:\u001b[0m\n\u001b[0m    ^\u001b[0m\n\u001b[0;31mIndentationError\u001b[0m\u001b[0;31m:\u001b[0m expected an indented block\n"
     ]
    }
   ],
   "source": [
    "if a_number % 2 == 0:\n",
    "elif a_number % 3 == 0:\n",
    "    print('{} is divisible by 3 but not divisible by 2')"
   ]
  },
  {
   "cell_type": "code",
   "execution_count": 33,
   "id": "b581f8f0",
   "metadata": {},
   "outputs": [
    {
     "name": "stdout",
     "output_type": "stream",
     "text": [
      "9 is divisible by 3 but not divisible by 2\n"
     ]
    }
   ],
   "source": [
    "if a_number % 2 == 0:\n",
    "    pass\n",
    "elif a_number % 3 == 0:\n",
    "    print('{} is divisible by 3 but not divisible by 2'.format(a_number))"
   ]
  },
  {
   "cell_type": "markdown",
   "id": "358a4ec1",
   "metadata": {},
   "source": [
    "## 'while' 루프를 사용한 반복\n",
    "\n",
    "분기와 밀접하게 관련된 프로그래밍 언어의 또 다른 강력한 기능은 하나 이상의 명령문을 여러 번 실행하는 것이다. \n",
    "\n",
    "이 기능은 종종 *반복*이라고 하며, 파이썬에서 이를 수행하는 두 가지 방법이 있다.(`while` 루프와 `for` 루프를 사용하는 것)\n",
    "\n",
    "`while` 루프의 구문은 아래와 같다.\n",
    "\n",
    "```\n",
    "while 조건:\n",
    "     명령문\n",
    "```\n",
    "\n",
    "`while` 아래의 코드 블록에 있는 명령문은 `조건`이 `참`으로 평가되는 한 반복적으로 실행된다. \n",
    "\n",
    "일반적으로 `while` 아래의 문 중 하나는 특정 반복 횟수 후에 조건이 `False`로 평가되도록 하는 변수를 일부 변경한다.\n",
    "\n",
    "`while` 루프를 사용하여 `100`의 계승을 계산해 보겠습니다. \n",
    "\n",
    "숫자 `n`의 계승은 `1`에서 `n`까지의 모든 숫자의 곱(곱셈)이다. \n",
    "\n",
    "즉, `1*2*3*...*(n-2)*(n-1 )*n`."
   ]
  },
  {
   "cell_type": "code",
   "execution_count": 34,
   "id": "192a156f",
   "metadata": {},
   "outputs": [
    {
     "name": "stdout",
     "output_type": "stream",
     "text": [
      "The factorial of 100 is: 93326215443944152681699238856266700490715968264381621468592963895217599993229915608941463976156518286253697920827223758251185210916864000000000000000000000000\n"
     ]
    }
   ],
   "source": [
    "result = 1\n",
    "i = 1\n",
    "\n",
    "while i <= 100:\n",
    "    result = result * i\n",
    "    i = i+1\n",
    "\n",
    "print('The factorial of 100 is: {}'.format(result))"
   ]
  },
  {
   "cell_type": "code",
   "execution_count": 35,
   "id": "9929c88a",
   "metadata": {},
   "outputs": [
    {
     "name": "stdout",
     "output_type": "stream",
     "text": [
      "402387260077093773543702433923003985719374864210714632543799910429938512398629020592044208486969404800479988610197196058631666872994808558901323829669944590997424504087073759918823627727188732519779505950995276120874975462497043601418278094646496291056393887437886487337119181045825783647849977012476632889835955735432513185323958463075557409114262417474349347553428646576611667797396668820291207379143853719588249808126867838374559731746136085379534524221586593201928090878297308431392844403281231558611036976801357304216168747609675871348312025478589320767169132448426236131412508780208000261683151027341827977704784635868170164365024153691398281264810213092761244896359928705114964975419909342221566832572080821333186116811553615836546984046708975602900950537616475847728421889679646244945160765353408198901385442487984959953319101723355556602139450399736280750137837615307127761926849034352625200015888535147331611702103968175921510907788019393178114194545257223865541461062892187960223838971476088506276862967146674697562911234082439208160153780889893964518263243671616762179168909779911903754031274622289988005195444414282012187361745992642956581746628302955570299024324153181617210465832036786906117260158783520751516284225540265170483304226143974286933061690897968482590125458327168226458066526769958652682272807075781391858178889652208164348344825993266043367660176999612831860788386150279465955131156552036093988180612138558600301435694527224206344631797460594682573103790084024432438465657245014402821885252470935190620929023136493273497565513958720559654228749774011413346962715422845862377387538230483865688976461927383814900140767310446640259899490222221765904339901886018566526485061799702356193897017860040811889729918311021171229845901641921068884387121855646124960798722908519296819372388642614839657382291123125024186649353143970137428531926649875337218940694281434118520158014123344828015051399694290153483077644569099073152433278288269864602789864321139083506217095002597389863554277196742822248757586765752344220207573630569498825087968928162753848863396909959826280956121450994871701244516461260379029309120889086942028510640182154399457156805941872748998094254742173582401063677404595741785160829230135358081840096996372524230560855903700624271243416909004153690105933983835777939410970027753472000000000000000000000000000000000000000000000000000000000000000000000000000000000000000000000000000000000000000000000000000000000000000000000000000000000000000000000000000000000000000000000000000000000000000000000000000000000000000000000000000000000\n",
      "CPU times: user 213 µs, sys: 172 µs, total: 385 µs\n",
      "Wall time: 388 µs\n"
     ]
    }
   ],
   "source": [
    "%%time\n",
    "\n",
    "result = 1\n",
    "i = 1\n",
    "\n",
    "while i <= 1000:\n",
    "    result *= i # same as result = result * i\n",
    "    i += 1 # same as i = i+1\n",
    "\n",
    "print(result)"
   ]
  },
  {
   "cell_type": "markdown",
   "id": "170a0ff6",
   "metadata": {},
   "source": [
    " 아래는 두개의 `while` 루프를 사용하여 흥미로운 패턴을 만드는 또 다른 예이다."
   ]
  },
  {
   "cell_type": "code",
   "execution_count": 38,
   "id": "f04ea25e",
   "metadata": {},
   "outputs": [
    {
     "name": "stdout",
     "output_type": "stream",
     "text": [
      "*\n",
      "**\n",
      "***\n",
      "****\n",
      "*****\n",
      "******\n",
      "*******\n",
      "********\n",
      "*********\n",
      "**********\n",
      "***********\n",
      "**********\n",
      "*********\n",
      "********\n",
      "*******\n",
      "******\n",
      "*****\n",
      "****\n",
      "***\n",
      "**\n",
      "*\n"
     ]
    }
   ],
   "source": [
    "line = '*'\n",
    "max_length = 10\n",
    "\n",
    "while len(line) <= max_length:\n",
    "    print(line)\n",
    "    line += \"*\"\n",
    "    \n",
    "while len(line) > 0:\n",
    "    print(line)\n",
    "    line = line[:-1]"
   ]
  },
  {
   "cell_type": "code",
   "execution_count": 97,
   "id": "d3ad8f58",
   "metadata": {},
   "outputs": [
    {
     "name": "stdout",
     "output_type": "stream",
     "text": [
      "     *\n",
      "    **\n",
      "   ***\n",
      "  ****\n",
      " *****\n",
      "******\n",
      " *****\n",
      "  ****\n",
      "   ***\n",
      "    **\n",
      "     *\n"
     ]
    }
   ],
   "source": [
    "line = '*'\n",
    "max_length = 6\n",
    "while len(line) <= max_length:\n",
    "    print(\" \"*(max_length-len(line))+line)\n",
    "    line += \"*\"\n",
    "line = line[:-2]\n",
    "while len(line) > 0:\n",
    "    print(\" \"*(max_length-len(line))+line)\n",
    "    line = line[:-1]"
   ]
  },
  {
   "cell_type": "markdown",
   "id": "4c2d8ab8",
   "metadata": {},
   "source": [
    "### 무한 루프\n",
    "\n",
    "`while` 루프의 조건이 항상 참이라고 가정한다.\n",
    "\n",
    "이 경우 파이썬은 루프 내에서 코드를 영원히 반복적으로 실행하고 코드 실행이 완료되지 않는다.\n",
    "\n",
    "이러한 상황을 무한 루프라고 하고, 대개 코드에 실수가 있는 경우에 해당한다.\n",
    "\n",
    "실행하는 동안 코드가 무한 루프에 *머물러* 있으면 도구 모음에서 (``실행`` 옆)에서 ``중지`` 버튼을 누르거나 메뉴 모음에서 `kernel` > `interrupt`를 선택하면 된다."
   ]
  },
  {
   "cell_type": "code",
   "execution_count": 123,
   "id": "ed405605",
   "metadata": {},
   "outputs": [
    {
     "ename": "KeyboardInterrupt",
     "evalue": "",
     "output_type": "error",
     "traceback": [
      "\u001b[0;31m---------------------------------------------------------------------------\u001b[0m",
      "\u001b[0;31mKeyboardInterrupt\u001b[0m                         Traceback (most recent call last)",
      "\u001b[0;32m<ipython-input-123-5234d8c241fc>\u001b[0m in \u001b[0;36m<module>\u001b[0;34m\u001b[0m\n\u001b[1;32m      5\u001b[0m \u001b[0;34m\u001b[0m\u001b[0m\n\u001b[1;32m      6\u001b[0m \u001b[0;32mwhile\u001b[0m \u001b[0mi\u001b[0m \u001b[0;34m<=\u001b[0m \u001b[0;36m100\u001b[0m\u001b[0;34m:\u001b[0m\u001b[0;34m\u001b[0m\u001b[0;34m\u001b[0m\u001b[0m\n\u001b[0;32m----> 7\u001b[0;31m     \u001b[0mresult\u001b[0m \u001b[0;34m=\u001b[0m \u001b[0mresult\u001b[0m \u001b[0;34m*\u001b[0m \u001b[0mi\u001b[0m\u001b[0;34m\u001b[0m\u001b[0;34m\u001b[0m\u001b[0m\n\u001b[0m\u001b[1;32m      8\u001b[0m     \u001b[0;31m# forgot to increment i\u001b[0m\u001b[0;34m\u001b[0m\u001b[0;34m\u001b[0m\u001b[0;34m\u001b[0m\u001b[0m\n",
      "\u001b[0;31mKeyboardInterrupt\u001b[0m: "
     ]
    }
   ],
   "source": [
    "# INFINITE LOOP - INTERRUPT THIS CELL\n",
    "\n",
    "result = 1\n",
    "i = 1\n",
    "\n",
    "while i <= 100:\n",
    "    result = result * i\n",
    "    # forgot to increment i"
   ]
  },
  {
   "cell_type": "code",
   "execution_count": 124,
   "id": "92c7d490",
   "metadata": {},
   "outputs": [
    {
     "ename": "KeyboardInterrupt",
     "evalue": "",
     "output_type": "error",
     "traceback": [
      "\u001b[0;31m---------------------------------------------------------------------------\u001b[0m",
      "\u001b[0;31mKeyboardInterrupt\u001b[0m                         Traceback (most recent call last)",
      "\u001b[0;32m<ipython-input-124-c4abf72fce4d>\u001b[0m in \u001b[0;36m<module>\u001b[0;34m\u001b[0m\n\u001b[1;32m      5\u001b[0m \u001b[0;34m\u001b[0m\u001b[0m\n\u001b[1;32m      6\u001b[0m \u001b[0;32mwhile\u001b[0m \u001b[0mi\u001b[0m \u001b[0;34m>\u001b[0m \u001b[0;36m0\u001b[0m \u001b[0;34m:\u001b[0m \u001b[0;31m# wrong condition\u001b[0m\u001b[0;34m\u001b[0m\u001b[0;34m\u001b[0m\u001b[0m\n\u001b[0;32m----> 7\u001b[0;31m     \u001b[0mresult\u001b[0m \u001b[0;34m*=\u001b[0m \u001b[0mi\u001b[0m\u001b[0;34m\u001b[0m\u001b[0;34m\u001b[0m\u001b[0m\n\u001b[0m\u001b[1;32m      8\u001b[0m     \u001b[0mi\u001b[0m \u001b[0;34m+=\u001b[0m \u001b[0;36m1\u001b[0m\u001b[0;34m\u001b[0m\u001b[0;34m\u001b[0m\u001b[0m\n",
      "\u001b[0;31mKeyboardInterrupt\u001b[0m: "
     ]
    }
   ],
   "source": [
    "# INFINITE LOOP - INTERRUPT THIS CELL\n",
    "\n",
    "result = 1\n",
    "i = 1\n",
    "\n",
    "while i > 0 : # wrong condition\n",
    "    result *= i\n",
    "    i += 1"
   ]
  },
  {
   "cell_type": "markdown",
   "id": "8455363f",
   "metadata": {},
   "source": [
    "### `break`와 `continue` 문\n",
    "\n",
    "루프 본문 내에서 `break` 문을 사용하여 실행을 즉시 중지하고 루프에서 *멈춤(break)* 할 수 있다(`while`에 제공된 조건이 여전히 참인 경우에도)."
   ]
  },
  {
   "cell_type": "code",
   "execution_count": 125,
   "id": "11107cc0",
   "metadata": {},
   "outputs": [
    {
     "name": "stdout",
     "output_type": "stream",
     "text": [
      "Magic number 42 reached! Stopping execution..\n",
      "i: 42\n",
      "result: 1405006117752879898543142606244511569936384000000000\n"
     ]
    }
   ],
   "source": [
    "i = 1\n",
    "result = 1\n",
    "\n",
    "while i <= 100:\n",
    "    result *= i\n",
    "    if i == 42:\n",
    "        print('Magic number 42 reached! Stopping execution..')\n",
    "        break\n",
    "    i += 1\n",
    "    \n",
    "print('i:', i)\n",
    "print('result:', result)"
   ]
  },
  {
   "cell_type": "code",
   "execution_count": 126,
   "id": "85c796b5",
   "metadata": {},
   "outputs": [
    {
     "name": "stdout",
     "output_type": "stream",
     "text": [
      "Skipping 2\n",
      "Multiplying with 3\n",
      "Skipping 4\n",
      "Multiplying with 5\n",
      "Skipping 6\n",
      "Multiplying with 7\n",
      "Skipping 8\n",
      "Multiplying with 9\n",
      "Skipping 10\n",
      "Multiplying with 11\n",
      "Skipping 12\n",
      "Multiplying with 13\n",
      "Skipping 14\n",
      "Multiplying with 15\n",
      "Skipping 16\n",
      "Multiplying with 17\n",
      "Skipping 18\n",
      "Multiplying with 19\n",
      "Skipping 20\n",
      "i: 20\n",
      "result: 654729075\n"
     ]
    }
   ],
   "source": [
    "#루프를 멈추고 싶지 않을 경우 continue 사용\n",
    "i = 1\n",
    "result = 1\n",
    "\n",
    "while i < 20:\n",
    "    i += 1\n",
    "    if i % 2 == 0:\n",
    "        print('Skipping {}'.format(i))\n",
    "        continue\n",
    "    print('Multiplying with {}'.format(i))\n",
    "    result = result * i\n",
    "    \n",
    "print('i:', i)\n",
    "print('result:', result)"
   ]
  },
  {
   "cell_type": "markdown",
   "id": "82e83ac8",
   "metadata": {},
   "source": [
    "## `for` 루프를 사용한 반복\n",
    "\n",
    "`for` 루프는 목록, 튜플, 사전, 문자열 및 *range*와 같은 시퀀스를 반복하거나 반복하는 데 사용된다.\n",
    "\n",
    "For 루프의 구문은 아래와 같음:\n",
    "\n",
    "```\n",
    "값을 순서대로:\n",
    "     명령문\n",
    "```\n",
    "\n",
    "루프 내의 명령문은 `sequence`의 각 요소에 대해 한 번 실행된다."
   ]
  },
  {
   "cell_type": "code",
   "execution_count": 127,
   "id": "b65ac8b6",
   "metadata": {},
   "outputs": [
    {
     "name": "stdout",
     "output_type": "stream",
     "text": [
      "Monday\n",
      "Tuesday\n",
      "Wednesday\n",
      "Thursday\n",
      "Friday\n"
     ]
    }
   ],
   "source": [
    "days = ['Monday', 'Tuesday', 'Wednesday', 'Thursday', 'Friday']\n",
    "\n",
    "for day in days:\n",
    "    print(day)"
   ]
  },
  {
   "cell_type": "code",
   "execution_count": 136,
   "id": "f491ad1f",
   "metadata": {},
   "outputs": [
    {
     "name": "stdout",
     "output_type": "stream",
     "text": [
      "M\n",
      "o\n",
      "n\n",
      "d\n",
      "a\n",
      "y\n"
     ]
    }
   ],
   "source": [
    "# 문자열에서 루프 사용\n",
    "for char in 'Monday':\n",
    "    print(char)"
   ]
  },
  {
   "cell_type": "code",
   "execution_count": 137,
   "id": "32f08177",
   "metadata": {},
   "outputs": [
    {
     "name": "stdout",
     "output_type": "stream",
     "text": [
      "Here's a fruit: Apple\n",
      "Here's a fruit: Banana\n",
      "Here's a fruit: Guava\n"
     ]
    }
   ],
   "source": [
    "# 튜플에서 루프 사용\n",
    "for fruit in ['Apple', 'Banana', 'Guava']:\n",
    "    print(\"Here's a fruit:\", fruit)"
   ]
  },
  {
   "cell_type": "code",
   "execution_count": 138,
   "id": "b1863750",
   "metadata": {},
   "outputs": [
    {
     "name": "stdout",
     "output_type": "stream",
     "text": [
      "Key: name , Value: John Doe\n",
      "Key: sex , Value: Male\n",
      "Key: age , Value: 32\n",
      "Key: married , Value: True\n"
     ]
    }
   ],
   "source": [
    "# 사전에 루프 사용\n",
    "person = {\n",
    "    'name': 'John Doe',\n",
    "    'sex': 'Male',\n",
    "    'age': 32,\n",
    "    'married': True\n",
    "}\n",
    "\n",
    "for key in person:\n",
    "    print(\"Key:\", key, \",\", \"Value:\", person[key])"
   ]
  },
  {
   "cell_type": "code",
   "execution_count": 139,
   "id": "4135594e",
   "metadata": {},
   "outputs": [
    {
     "name": "stdout",
     "output_type": "stream",
     "text": [
      "John Doe\n",
      "Male\n",
      "32\n",
      "True\n"
     ]
    }
   ],
   "source": [
    "#사전에서 값 출력하기\n",
    "for value in person.values():\n",
    "    print(value)"
   ]
  },
  {
   "cell_type": "code",
   "execution_count": 140,
   "id": "560f9bf5",
   "metadata": {},
   "outputs": [
    {
     "name": "stdout",
     "output_type": "stream",
     "text": [
      "('name', 'John Doe')\n",
      "('sex', 'Male')\n",
      "('age', 32)\n",
      "('married', True)\n"
     ]
    }
   ],
   "source": [
    "for key_value_pair in person.items():\n",
    "    print(key_value_pair)"
   ]
  },
  {
   "cell_type": "markdown",
   "id": "69d8b026",
   "metadata": {},
   "source": [
    "### `range`와 `enumerate`를 사용하여 반복\n",
    "\n",
    "`range` 함수는 `for` 루프를 사용하여 반복할 수 있는 숫자 시퀀스를 만드는 데 사용된다.\n",
    " \n",
    "* `range(n)` - `0`에서 `n-1`까지 일련의 숫자를 생성한다.\n",
    "* `range(a, b)` - `a`에서 `b-1`까지 일련의 숫자를 생성한다.\n",
    "* `range(a, b, step)` - `a`에서 `b-1`까지의 숫자 시퀀스를 `step` 단위로 생성한다."
   ]
  },
  {
   "cell_type": "code",
   "execution_count": 141,
   "id": "bce40257",
   "metadata": {},
   "outputs": [
    {
     "name": "stdout",
     "output_type": "stream",
     "text": [
      "0\n",
      "1\n",
      "2\n",
      "3\n",
      "4\n",
      "5\n",
      "6\n"
     ]
    }
   ],
   "source": [
    "for i in range(7):\n",
    "    print(i)"
   ]
  },
  {
   "cell_type": "code",
   "execution_count": 142,
   "id": "19af049d",
   "metadata": {},
   "outputs": [
    {
     "name": "stdout",
     "output_type": "stream",
     "text": [
      "3\n",
      "4\n",
      "5\n",
      "6\n",
      "7\n",
      "8\n",
      "9\n"
     ]
    }
   ],
   "source": [
    "for i in range(3, 10):\n",
    "    print(i)"
   ]
  },
  {
   "cell_type": "code",
   "execution_count": 143,
   "id": "6694d794",
   "metadata": {},
   "outputs": [
    {
     "name": "stdout",
     "output_type": "stream",
     "text": [
      "3\n",
      "7\n",
      "11\n"
     ]
    }
   ],
   "source": [
    "for i in range(3, 14, 4):\n",
    "    print(i)"
   ]
  },
  {
   "cell_type": "code",
   "execution_count": 144,
   "id": "b34753f4",
   "metadata": {},
   "outputs": [
    {
     "name": "stdout",
     "output_type": "stream",
     "text": [
      "The value at position 0 is Monday.\n",
      "The value at position 1 is Tuesday.\n",
      "The value at position 2 is Wednesday.\n",
      "The value at position 3 is Thursday.\n",
      "The value at position 4 is Friday.\n"
     ]
    }
   ],
   "source": [
    "#리스트를 반복하는데에도 활용 가능함\n",
    "a_list = ['Monday', 'Tuesday', 'Wednesday', 'Thursday', 'Friday']\n",
    "\n",
    "for i in range(len(a_list)):\n",
    "    print('The value at position {} is {}.'.format(i, a_list[i]))"
   ]
  },
  {
   "cell_type": "markdown",
   "id": "7521dd11",
   "metadata": {},
   "source": [
    "또 다른 방법은 `a_list`를 입력으로 사용하는 `enumerate` 함수를 활용하는 것이다.\n",
    "\n",
    "이 함수는 인덱스와 해당 요소가 포함된 튜플을 반환한다."
   ]
  },
  {
   "cell_type": "code",
   "execution_count": 145,
   "id": "5fbcddf4",
   "metadata": {},
   "outputs": [
    {
     "name": "stdout",
     "output_type": "stream",
     "text": [
      "The value at position 0 is Monday.\n",
      "The value at position 1 is Tuesday.\n",
      "The value at position 2 is Wednesday.\n",
      "The value at position 3 is Thursday.\n",
      "The value at position 4 is Friday.\n"
     ]
    }
   ],
   "source": [
    "for i, val in enumerate(a_list):\n",
    "    print('The value at position {} is {}.'.format(i, val))"
   ]
  },
  {
   "cell_type": "markdown",
   "id": "02d20810",
   "metadata": {},
   "source": [
    "### `break`, `continue` 및 `pass` 문\n",
    "\n",
    "`while` 루프와 유사하게 `for` 루프는 `break` 및 `continue` 문도 지원한다. \n",
    "`break`는 루프를 벗어나는 데 사용되며, `continue`는 다음 반복으로 건너뛸 때 사용한다."
   ]
  },
  {
   "cell_type": "code",
   "execution_count": 146,
   "id": "c1f7a90c",
   "metadata": {},
   "outputs": [
    {
     "name": "stdout",
     "output_type": "stream",
     "text": [
      "Today is Monday\n",
      "Today is Tuesday\n",
      "Today is Wednesday\n",
      "I don't work beyond Wednesday!\n"
     ]
    }
   ],
   "source": [
    "weekdays = ['Monday', 'Tuesday', 'Wednesday', 'Thursday', 'Friday']\n",
    "for day in weekdays:\n",
    "    print('Today is {}'.format(day))\n",
    "    if (day == 'Wednesday'):\n",
    "        print(\"I don't work beyond Wednesday!\")\n",
    "        break"
   ]
  },
  {
   "cell_type": "code",
   "execution_count": 147,
   "id": "543f4094",
   "metadata": {},
   "outputs": [
    {
     "name": "stdout",
     "output_type": "stream",
     "text": [
      "Today is Monday\n",
      "Today is Tuesday\n",
      "I don't work on Wednesday!\n",
      "Today is Thursday\n",
      "Today is Friday\n"
     ]
    }
   ],
   "source": [
    "for day in weekdays:\n",
    "    if (day == 'Wednesday'):\n",
    "        print(\"I don't work on Wednesday!\")\n",
    "        continue\n",
    "    print('Today is {}'.format(day))"
   ]
  },
  {
   "cell_type": "markdown",
   "id": "c79bc356",
   "metadata": {},
   "source": [
    "`if`문과 마찬가지로 `for` 루프는 비어 있을 수 없으므로 루프 내에서 어떤 문도 실행하지 않으려면 `pass`문을 사용할 수 있다."
   ]
  },
  {
   "cell_type": "code",
   "execution_count": 148,
   "id": "40af69fc",
   "metadata": {},
   "outputs": [],
   "source": [
    "for day in weekdays:\n",
    "    pass"
   ]
  },
  {
   "cell_type": "markdown",
   "id": "328230a0",
   "metadata": {},
   "source": [
    "### 중첩 `for` 및 `while` 루프\n",
    "\n",
    "조건문과 유사하게 루프는 다른 루프 내부에 중첩될 수 있다. \n",
    "이것은 리스트, 사전 등의 리스트를 반복하는 데 유용하다."
   ]
  },
  {
   "cell_type": "code",
   "execution_count": 149,
   "id": "79ad314b",
   "metadata": {},
   "outputs": [
    {
     "name": "stdout",
     "output_type": "stream",
     "text": [
      "name : John\n",
      "sex : Male\n",
      " \n",
      "name : Jane\n",
      "sex : Female\n",
      " \n"
     ]
    }
   ],
   "source": [
    "persons = [{'name': 'John', 'sex': 'Male'}, {'name': 'Jane', 'sex': 'Female'}]\n",
    "\n",
    "for person in persons:\n",
    "    for key in person:\n",
    "        print(key, \":\", person[key])\n",
    "    print(\" \")"
   ]
  },
  {
   "cell_type": "code",
   "execution_count": 150,
   "id": "bb85f5f2",
   "metadata": {},
   "outputs": [
    {
     "name": "stdout",
     "output_type": "stream",
     "text": [
      "Monday apple\n",
      "Monday banana\n",
      "Monday guava\n",
      "Tuesday apple\n",
      "Tuesday banana\n",
      "Tuesday guava\n",
      "Wednesday apple\n",
      "Wednesday banana\n",
      "Wednesday guava\n"
     ]
    }
   ],
   "source": [
    "days = ['Monday', 'Tuesday', 'Wednesday']\n",
    "fruits = ['apple', 'banana', 'guava']\n",
    "\n",
    "for day in days:\n",
    "    for fruit in fruits:\n",
    "        print(day, fruit)"
   ]
  },
  {
   "cell_type": "code",
   "execution_count": null,
   "id": "fba57b10",
   "metadata": {},
   "outputs": [],
   "source": []
  }
 ],
 "metadata": {
  "kernelspec": {
   "display_name": "Python 3",
   "language": "python",
   "name": "python3"
  },
  "language_info": {
   "codemirror_mode": {
    "name": "ipython",
    "version": 3
   },
   "file_extension": ".py",
   "mimetype": "text/x-python",
   "name": "python",
   "nbconvert_exporter": "python",
   "pygments_lexer": "ipython3",
   "version": "3.8.8"
  }
 },
 "nbformat": 4,
 "nbformat_minor": 5
}
