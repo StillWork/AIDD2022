{
 "cells": [
  {
   "cell_type": "markdown",
   "id": "5c282d53",
   "metadata": {},
   "source": [
    "# 파이썬의 변수와 데이터 유형\n",
    "## 이 노트북에서 다룰 내용\n",
    "![](https://i.imgur.com/6cg2E9Q.png)\n",
    "1. 변수를 이용한 정보 저장\n",
    "2. 파이썬의 기본 데이터 유형: 정수, 부동 소수점, 부울, None과 문자열\n",
    "3. 파이썬 내장 데이터 구조: 리스트, 튜플, 사전\n",
    "4. 내장 데이터 유형이 지원하는 메소드 및 연산자\n",
    "\n",
    "\n"
   ]
  },
  {
   "cell_type": "markdown",
   "id": "c30289fd",
   "metadata": {},
   "source": [
    "## 변수를 사용한 정보 저장\n",
    "\n",
    "컴퓨터는 정보 저장(데이터라고도 함)과 저장된 데이터에 대한 작업 수행 목적에 유용하다. \n",
    "Python과 같은 프로그래밍 언어로 작업하는 동안 데이터는 변수에 저장된다. \n",
    "변수는 데이터를 저장하는 컨테이너라고 생각할 수 있다.\n",
    "변수에 저장된 데이터를 값이라고 한다.\n",
    "이전 노트북에서 보았듯이 파이썬에서 변수를 만드는 것은 매우 쉽다.\n",
    "\n",
    "\n",
    " Creating variables in Python is pretty easy, as we've already seen in the [previous tutorial](https://jovian.ml/aakashns/first-steps-with-python/v/4#C15).\n"
   ]
  },
  {
   "cell_type": "code",
   "execution_count": 3,
   "id": "2eee48db",
   "metadata": {},
   "outputs": [],
   "source": [
    "my_favorite_color = \"blue\""
   ]
  },
  {
   "cell_type": "code",
   "execution_count": 5,
   "id": "b6e79aae",
   "metadata": {},
   "outputs": [
    {
     "data": {
      "text/plain": [
       "'blue'"
      ]
     },
     "execution_count": 5,
     "metadata": {},
     "output_type": "execute_result"
    }
   ],
   "source": [
    "my_favorite_color"
   ]
  },
  {
   "cell_type": "markdown",
   "id": "b47c4221",
   "metadata": {},
   "source": [
    "변수는 대입(할당)문을 사용하여 생성된다.\n",
    "\n",
    "대입문은 변수의 이름으로 시작하고, 할당 연산자 `=` 뒤에 변수에 저장할 값이 오게 된다. \n",
    "할당 연산자는 `=` 같음 연산자 `==`와는 다르다.\n",
    "변수 이름과 값을 쉼표롷 구분하여 한 줄의 코드에서 여러 변수에 값을 할당할 수 있다."
   ]
  },
  {
   "cell_type": "code",
   "execution_count": 7,
   "id": "df139aaf",
   "metadata": {},
   "outputs": [],
   "source": [
    "color1, color2, color3 = \"red\", \"green\", \"blue\""
   ]
  },
  {
   "cell_type": "code",
   "execution_count": 8,
   "id": "cb98538b",
   "metadata": {},
   "outputs": [
    {
     "data": {
      "text/plain": [
       "'red'"
      ]
     },
     "execution_count": 8,
     "metadata": {},
     "output_type": "execute_result"
    }
   ],
   "source": [
    "color1"
   ]
  },
  {
   "cell_type": "code",
   "execution_count": 9,
   "id": "eeaaf724",
   "metadata": {},
   "outputs": [
    {
     "data": {
      "text/plain": [
       "'green'"
      ]
     },
     "execution_count": 9,
     "metadata": {},
     "output_type": "execute_result"
    }
   ],
   "source": [
    "color2"
   ]
  },
  {
   "cell_type": "code",
   "execution_count": 10,
   "id": "fce3e9df",
   "metadata": {},
   "outputs": [
    {
     "data": {
      "text/plain": [
       "'blue'"
      ]
     },
     "execution_count": 10,
     "metadata": {},
     "output_type": "execute_result"
    }
   ],
   "source": [
    "color3"
   ]
  },
  {
   "cell_type": "markdown",
   "id": "d480105a",
   "metadata": {},
   "source": [
    "한줄에 여러 할당작업을 연결하여 여러 변수에 동일한 값을 할당할 수도 있다."
   ]
  },
  {
   "cell_type": "code",
   "execution_count": 11,
   "id": "47f0192a",
   "metadata": {},
   "outputs": [],
   "source": [
    "color4 = color5 = color6 = \"magenta\""
   ]
  },
  {
   "cell_type": "code",
   "execution_count": 12,
   "id": "6ef26ea5",
   "metadata": {},
   "outputs": [
    {
     "data": {
      "text/plain": [
       "'magenta'"
      ]
     },
     "execution_count": 12,
     "metadata": {},
     "output_type": "execute_result"
    }
   ],
   "source": [
    "color4"
   ]
  },
  {
   "cell_type": "code",
   "execution_count": 13,
   "id": "42fd831d",
   "metadata": {},
   "outputs": [
    {
     "data": {
      "text/plain": [
       "'magenta'"
      ]
     },
     "execution_count": 13,
     "metadata": {},
     "output_type": "execute_result"
    }
   ],
   "source": [
    "color5"
   ]
  },
  {
   "cell_type": "code",
   "execution_count": 14,
   "id": "e1ced13b",
   "metadata": {},
   "outputs": [
    {
     "data": {
      "text/plain": [
       "'magenta'"
      ]
     },
     "execution_count": 14,
     "metadata": {},
     "output_type": "execute_result"
    }
   ],
   "source": [
    "color6"
   ]
  },
  {
   "cell_type": "markdown",
   "id": "6f229f89",
   "metadata": {},
   "source": [
    "다른 할당문으로 변수에 새 값을 지정해서 변수 내 저장된 값을 변경할 수 있다.\n",
    "변수에 새 값을 할당하면, 이전 값이 손실되고 더 이상 접근할 수 없게 된다."
   ]
  },
  {
   "cell_type": "code",
   "execution_count": 15,
   "id": "b34c9e00",
   "metadata": {},
   "outputs": [],
   "source": [
    "my_favorite_color = \"red\""
   ]
  },
  {
   "cell_type": "code",
   "execution_count": 16,
   "id": "80b3f647",
   "metadata": {},
   "outputs": [
    {
     "data": {
      "text/plain": [
       "'red'"
      ]
     },
     "execution_count": 16,
     "metadata": {},
     "output_type": "execute_result"
    }
   ],
   "source": [
    "my_favorite_color"
   ]
  },
  {
   "cell_type": "markdown",
   "id": "47d03c1f",
   "metadata": {},
   "source": [
    "변수 재할당 법칙으로 변수의 이전 값을 사용해 새 값을 계산할 수도 있다."
   ]
  },
  {
   "cell_type": "code",
   "execution_count": 17,
   "id": "3b00de67",
   "metadata": {},
   "outputs": [
    {
     "data": {
      "text/plain": [
       "11"
      ]
     },
     "execution_count": 17,
     "metadata": {},
     "output_type": "execute_result"
    }
   ],
   "source": [
    "counter = 10\n",
    "counter = counter + 1\n",
    "counter"
   ]
  },
  {
   "cell_type": "code",
   "execution_count": 18,
   "id": "984b59b6",
   "metadata": {},
   "outputs": [
    {
     "data": {
      "text/plain": [
       "11"
      ]
     },
     "execution_count": 18,
     "metadata": {},
     "output_type": "execute_result"
    }
   ],
   "source": [
    "counter = 10\n",
    "counter += 1\n",
    "counter"
   ]
  },
  {
   "cell_type": "markdown",
   "id": "03957a44",
   "metadata": {},
   "source": [
    "변수의 이름은 짧은 수록 좋으며 (`a`, `x`, `y`, etc.) 변수에 담긴 값을 설명하면 더 좋다( `my_favorite_color`, `profit_margin`, `the_3_musketeers`, etc.). 하지만, 파이썬에서 변수 이름을 지정할때에는 다음 규칙을 따라야 한다.\n",
    "\n",
    "* 변수 이름은 문자나 `_`문자로 시작해야한다(숫자로 시작할 수 없음).\n",
    "* 변수 이름에는 소문자 또는 대문자, 숫자, 밑줄만 사용할 수 있다(`a`-`z`, `A`-`Z`, `0`-`9`, and `_`).\n",
    "* 변수 이름은 대소문자를 구분한다. 예를들어, `a_variable`, `A_Variable`과 `A_VARIABLE`은 모두 다른 변수이다."
   ]
  },
  {
   "cell_type": "code",
   "execution_count": 22,
   "id": "1f98dc01",
   "metadata": {},
   "outputs": [],
   "source": [
    "#유효한 변수들\n",
    "a_variable = 23\n",
    "is_today_Saturday = False\n",
    "my_favorite_car = \"Delorean\"\n",
    "the_3_musketeers = [\"Athos\", \"Porthos\", \"Aramis\"]"
   ]
  },
  {
   "cell_type": "markdown",
   "id": "8e96709a",
   "metadata": {},
   "source": [
    "유효하지 않은 이름을 가진 변수를 생성해보자.\n",
    "변수 이름이 유효하지 않은 경우 Python은 Syntex error를 출력한다.\n",
    "> **구문(Syntax)**: 프로그래밍 언어의 구문은 유효한 명령어 또는 *statement*의 구조를 제어하는 규칙을 나타낸다.\n",
    "\n",
    "명령문이 이러한 규칙을 따르지 않으면 Python은 실행을 중지하고 **Syntax error**가 있음을 출력한다.\n",
    "구문은 프로그래밍 언어의 문법 규칙이라고 생각할 수 있다."
   ]
  },
  {
   "cell_type": "code",
   "execution_count": 24,
   "id": "72c1989e",
   "metadata": {},
   "outputs": [
    {
     "ename": "SyntaxError",
     "evalue": "invalid syntax (<ipython-input-24-b4f9daa715a5>, line 1)",
     "output_type": "error",
     "traceback": [
      "\u001b[0;36m  File \u001b[0;32m\"<ipython-input-24-b4f9daa715a5>\"\u001b[0;36m, line \u001b[0;32m1\u001b[0m\n\u001b[0;31m    a variable = 23\u001b[0m\n\u001b[0m      ^\u001b[0m\n\u001b[0;31mSyntaxError\u001b[0m\u001b[0;31m:\u001b[0m invalid syntax\n"
     ]
    }
   ],
   "source": [
    "a variable = 23"
   ]
  },
  {
   "cell_type": "code",
   "execution_count": 25,
   "id": "a001384d",
   "metadata": {},
   "outputs": [
    {
     "ename": "SyntaxError",
     "evalue": "invalid syntax (<ipython-input-25-3785425ca227>, line 1)",
     "output_type": "error",
     "traceback": [
      "\u001b[0;36m  File \u001b[0;32m\"<ipython-input-25-3785425ca227>\"\u001b[0;36m, line \u001b[0;32m1\u001b[0m\n\u001b[0;31m    is_today_$aturday = False\u001b[0m\n\u001b[0m             ^\u001b[0m\n\u001b[0;31mSyntaxError\u001b[0m\u001b[0;31m:\u001b[0m invalid syntax\n"
     ]
    }
   ],
   "source": [
    "is_today_$aturday = False"
   ]
  },
  {
   "cell_type": "code",
   "execution_count": 26,
   "id": "d3f247c9",
   "metadata": {},
   "outputs": [
    {
     "ename": "SyntaxError",
     "evalue": "cannot assign to operator (<ipython-input-26-829f5ed5b10b>, line 1)",
     "output_type": "error",
     "traceback": [
      "\u001b[0;36m  File \u001b[0;32m\"<ipython-input-26-829f5ed5b10b>\"\u001b[0;36m, line \u001b[0;32m1\u001b[0m\n\u001b[0;31m    my-favorite-car = \"Delorean\"\u001b[0m\n\u001b[0m    ^\u001b[0m\n\u001b[0;31mSyntaxError\u001b[0m\u001b[0;31m:\u001b[0m cannot assign to operator\n"
     ]
    }
   ],
   "source": [
    "my-favorite-car = \"Delorean\""
   ]
  },
  {
   "cell_type": "code",
   "execution_count": 27,
   "id": "a5a1b0c5",
   "metadata": {},
   "outputs": [
    {
     "ename": "SyntaxError",
     "evalue": "invalid decimal literal (<ipython-input-27-41d8638a15bb>, line 1)",
     "output_type": "error",
     "traceback": [
      "\u001b[0;36m  File \u001b[0;32m\"<ipython-input-27-41d8638a15bb>\"\u001b[0;36m, line \u001b[0;32m1\u001b[0m\n\u001b[0;31m    3_musketeers = [\"Athos\", \"Porthos\", \"Aramis\"]\u001b[0m\n\u001b[0m     ^\u001b[0m\n\u001b[0;31mSyntaxError\u001b[0m\u001b[0;31m:\u001b[0m invalid decimal literal\n"
     ]
    }
   ],
   "source": [
    "3_musketeers = [\"Athos\", \"Porthos\", \"Aramis\"]"
   ]
  },
  {
   "cell_type": "markdown",
   "id": "20acaff0",
   "metadata": {},
   "source": [
    "## 파이썬 내장 데이터 유형\n",
    "\n",
    "\n",
    "Python 변수에 저장된 모든 데이터 또는 정보에는 *유형*이 있다.\n",
    "\n",
    "`type` 함수를 사용하여 변수에 저장된 데이터의 유형을 볼 수 있다."
   ]
  },
  {
   "cell_type": "code",
   "execution_count": 28,
   "id": "60df1418",
   "metadata": {},
   "outputs": [
    {
     "data": {
      "text/plain": [
       "23"
      ]
     },
     "execution_count": 28,
     "metadata": {},
     "output_type": "execute_result"
    }
   ],
   "source": [
    "a_variable"
   ]
  },
  {
   "cell_type": "code",
   "execution_count": 29,
   "id": "f6bf8d09",
   "metadata": {},
   "outputs": [
    {
     "data": {
      "text/plain": [
       "int"
      ]
     },
     "execution_count": 29,
     "metadata": {},
     "output_type": "execute_result"
    }
   ],
   "source": [
    "type(a_variable)"
   ]
  },
  {
   "cell_type": "code",
   "execution_count": 30,
   "id": "755c9c8f",
   "metadata": {},
   "outputs": [
    {
     "data": {
      "text/plain": [
       "False"
      ]
     },
     "execution_count": 30,
     "metadata": {},
     "output_type": "execute_result"
    }
   ],
   "source": [
    "is_today_Saturday"
   ]
  },
  {
   "cell_type": "code",
   "execution_count": 31,
   "id": "f33189c5",
   "metadata": {},
   "outputs": [
    {
     "data": {
      "text/plain": [
       "bool"
      ]
     },
     "execution_count": 31,
     "metadata": {},
     "output_type": "execute_result"
    }
   ],
   "source": [
    "type(is_today_Saturday)"
   ]
  },
  {
   "cell_type": "code",
   "execution_count": 32,
   "id": "c4ab7518",
   "metadata": {},
   "outputs": [
    {
     "data": {
      "text/plain": [
       "'Delorean'"
      ]
     },
     "execution_count": 32,
     "metadata": {},
     "output_type": "execute_result"
    }
   ],
   "source": [
    "my_favorite_car"
   ]
  },
  {
   "cell_type": "code",
   "execution_count": 33,
   "id": "c4ed6e8e",
   "metadata": {},
   "outputs": [
    {
     "data": {
      "text/plain": [
       "str"
      ]
     },
     "execution_count": 33,
     "metadata": {},
     "output_type": "execute_result"
    }
   ],
   "source": [
    "type(my_favorite_car)"
   ]
  },
  {
   "cell_type": "code",
   "execution_count": 34,
   "id": "c77c5497",
   "metadata": {},
   "outputs": [
    {
     "data": {
      "text/plain": [
       "['Athos', 'Porthos', 'Aramis']"
      ]
     },
     "execution_count": 34,
     "metadata": {},
     "output_type": "execute_result"
    }
   ],
   "source": [
    "the_3_musketeers"
   ]
  },
  {
   "cell_type": "code",
   "execution_count": 35,
   "id": "9047e74b",
   "metadata": {},
   "outputs": [
    {
     "data": {
      "text/plain": [
       "list"
      ]
     },
     "execution_count": 35,
     "metadata": {},
     "output_type": "execute_result"
    }
   ],
   "source": [
    "type(the_3_musketeers)"
   ]
  },
  {
   "cell_type": "markdown",
   "id": "bed2bcb3",
   "metadata": {},
   "source": [
    "Python에는 다양한 종류의 정보를 변수에 저장하기 위한 몇 가지 내장 데이터 유형이 있습니다.\n",
    "1. Integer\n",
    "2. Float\n",
    "3. Boolean\n",
    "4. None\n",
    "5. String\n",
    "6. List\n",
    "7. Tuple\n",
    "8. Dictionary\n",
    "\n",
    "Integer, float, boolean, None과 string은 하나의 값만 가지기에 *기본 데이터 유형*이라고 한다.리스트, 튜플, 사전과 같이 다른 데이터 유형은 여러개의 데이터를 보유할 수 있기에 *data structures* or *containers*라고 한다."
   ]
  },
  {
   "cell_type": "markdown",
   "id": "a799f47f",
   "metadata": {},
   "source": [
    "### Integer\n",
    "\n",
    "정수는 음의 무한대에서 무한대까지 양수 또는 음수 정수를 나타낸다.\n",
    "\n",
    "정수에는 소수점이 포함되어서는 안 된다. 정수에는 'int' 유형이 있다."
   ]
  },
  {
   "cell_type": "code",
   "execution_count": 36,
   "id": "0bdf80e0",
   "metadata": {},
   "outputs": [],
   "source": [
    "current_year = 2020"
   ]
  },
  {
   "cell_type": "code",
   "execution_count": 37,
   "id": "f093e803",
   "metadata": {},
   "outputs": [
    {
     "data": {
      "text/plain": [
       "2020"
      ]
     },
     "execution_count": 37,
     "metadata": {},
     "output_type": "execute_result"
    }
   ],
   "source": [
    "current_year"
   ]
  },
  {
   "cell_type": "code",
   "execution_count": 38,
   "id": "88412a30",
   "metadata": {},
   "outputs": [
    {
     "data": {
      "text/plain": [
       "int"
      ]
     },
     "execution_count": 38,
     "metadata": {},
     "output_type": "execute_result"
    }
   ],
   "source": [
    "type(current_year)"
   ]
  },
  {
   "cell_type": "markdown",
   "id": "4dabfe42",
   "metadata": {},
   "source": [
    "### Float\n",
    "\n",
    "부동 소수점(또는 부동 소수점 숫자)은 소수점이 있는 숫자이다.\n",
    "소수점 앞이나 뒤의 값이나 자릿수에는 제한이 없다.\n",
    "부동 소수점 숫자의 유형은 `float`이다."
   ]
  },
  {
   "cell_type": "code",
   "execution_count": 39,
   "id": "1b5d6114",
   "metadata": {},
   "outputs": [],
   "source": [
    "pi = 3.141592653589793238"
   ]
  },
  {
   "cell_type": "code",
   "execution_count": 40,
   "id": "92dfd741",
   "metadata": {},
   "outputs": [
    {
     "data": {
      "text/plain": [
       "3.141592653589793"
      ]
     },
     "execution_count": 40,
     "metadata": {},
     "output_type": "execute_result"
    }
   ],
   "source": [
    "pi"
   ]
  },
  {
   "cell_type": "code",
   "execution_count": 41,
   "id": "3d8e7e89",
   "metadata": {},
   "outputs": [
    {
     "data": {
      "text/plain": [
       "float"
      ]
     },
     "execution_count": 41,
     "metadata": {},
     "output_type": "execute_result"
    }
   ],
   "source": [
    "type(pi)"
   ]
  },
  {
   "cell_type": "markdown",
   "id": "cdf9abef",
   "metadata": {},
   "source": [
    "숫자에서 소수부분이 0인 경우에도 부동 소수점으로 처리된다."
   ]
  },
  {
   "cell_type": "code",
   "execution_count": 42,
   "id": "b87946e4",
   "metadata": {},
   "outputs": [],
   "source": [
    "a_number = 3.0"
   ]
  },
  {
   "cell_type": "code",
   "execution_count": 43,
   "id": "9b373b73",
   "metadata": {},
   "outputs": [
    {
     "data": {
      "text/plain": [
       "3.0"
      ]
     },
     "execution_count": 43,
     "metadata": {},
     "output_type": "execute_result"
    }
   ],
   "source": [
    "a_number"
   ]
  },
  {
   "cell_type": "code",
   "execution_count": 44,
   "id": "07e101cd",
   "metadata": {},
   "outputs": [
    {
     "data": {
      "text/plain": [
       "float"
      ]
     },
     "execution_count": 44,
     "metadata": {},
     "output_type": "execute_result"
    }
   ],
   "source": [
    "type(a_number)"
   ]
  },
  {
   "cell_type": "code",
   "execution_count": 45,
   "id": "cb581d35",
   "metadata": {},
   "outputs": [],
   "source": [
    "another_number = 4."
   ]
  },
  {
   "cell_type": "code",
   "execution_count": 46,
   "id": "09aaaae3",
   "metadata": {},
   "outputs": [
    {
     "data": {
      "text/plain": [
       "float"
      ]
     },
     "execution_count": 46,
     "metadata": {},
     "output_type": "execute_result"
    }
   ],
   "source": [
    "type(another_number)"
   ]
  },
  {
   "cell_type": "markdown",
   "id": "6797aaa9",
   "metadata": {},
   "source": [
    "부동 소수점은 숫자 10의 거듭 제곱을 나타내기 위해 \"e\"가 있는 과학적 표기법을 사용하기도 한다."
   ]
  },
  {
   "cell_type": "code",
   "execution_count": 47,
   "id": "d22f2e16",
   "metadata": {},
   "outputs": [],
   "source": [
    "one_hundredth = 1e-2"
   ]
  },
  {
   "cell_type": "code",
   "execution_count": 48,
   "id": "f3d15379",
   "metadata": {},
   "outputs": [
    {
     "data": {
      "text/plain": [
       "0.01"
      ]
     },
     "execution_count": 48,
     "metadata": {},
     "output_type": "execute_result"
    }
   ],
   "source": [
    "one_hundredth"
   ]
  },
  {
   "cell_type": "code",
   "execution_count": 49,
   "id": "30780c74",
   "metadata": {},
   "outputs": [
    {
     "data": {
      "text/plain": [
       "float"
      ]
     },
     "execution_count": 49,
     "metadata": {},
     "output_type": "execute_result"
    }
   ],
   "source": [
    "type(one_hundredth)"
   ]
  },
  {
   "cell_type": "code",
   "execution_count": 50,
   "id": "e3c7b9b6",
   "metadata": {},
   "outputs": [],
   "source": [
    "avogadro_number = 6.02214076e23"
   ]
  },
  {
   "cell_type": "code",
   "execution_count": 51,
   "id": "19fad6cb",
   "metadata": {},
   "outputs": [
    {
     "data": {
      "text/plain": [
       "6.02214076e+23"
      ]
     },
     "execution_count": 51,
     "metadata": {},
     "output_type": "execute_result"
    }
   ],
   "source": [
    "avogadro_number"
   ]
  },
  {
   "cell_type": "code",
   "execution_count": 52,
   "id": "cbb2b862",
   "metadata": {},
   "outputs": [
    {
     "data": {
      "text/plain": [
       "float"
      ]
     },
     "execution_count": 52,
     "metadata": {},
     "output_type": "execute_result"
    }
   ],
   "source": [
    "type(avogadro_number)"
   ]
  },
  {
   "cell_type": "markdown",
   "id": "426e5398",
   "metadata": {},
   "source": [
    "`float`와 `int`함수를 사용해 소수를 정수로, 정수를 소수로 변환할 수 있다.\n",
    "한 유형의 값을 다른 유형의 값으로 변환하는 작업을 __캐스팅__이라고 한다."
   ]
  },
  {
   "cell_type": "code",
   "execution_count": 53,
   "id": "63dd1966",
   "metadata": {},
   "outputs": [
    {
     "data": {
      "text/plain": [
       "2020.0"
      ]
     },
     "execution_count": 53,
     "metadata": {},
     "output_type": "execute_result"
    }
   ],
   "source": [
    "float(current_year)"
   ]
  },
  {
   "cell_type": "code",
   "execution_count": 55,
   "id": "769c1e82",
   "metadata": {},
   "outputs": [
    {
     "data": {
      "text/plain": [
       "3"
      ]
     },
     "execution_count": 55,
     "metadata": {},
     "output_type": "execute_result"
    }
   ],
   "source": [
    "int(pi)"
   ]
  },
  {
   "cell_type": "code",
   "execution_count": 56,
   "id": "5b32cb30",
   "metadata": {},
   "outputs": [
    {
     "data": {
      "text/plain": [
       "602214075999999987023872"
      ]
     },
     "execution_count": 56,
     "metadata": {},
     "output_type": "execute_result"
    }
   ],
   "source": [
    "int(avogadro_number)"
   ]
  },
  {
   "cell_type": "markdown",
   "id": "694feae3",
   "metadata": {},
   "source": [
    "산술 연산을 수행하는 동안 피연산자 중 하나라도 `float`이면 정수가 `float`로 자동 변환된다.\n",
    "\n",
    "또한 나누기 연산자 `/`는 두 피연산자가 모두 정수인 경우에도 항상 `float`를 반환한다.\n",
    "\n",
    "나누기 결과가 `int`가 되도록 하려면 `//` 연산자를 사용하면 된다."
   ]
  },
  {
   "cell_type": "code",
   "execution_count": 57,
   "id": "b08972b1",
   "metadata": {},
   "outputs": [
    {
     "data": {
      "text/plain": [
       "float"
      ]
     },
     "execution_count": 57,
     "metadata": {},
     "output_type": "execute_result"
    }
   ],
   "source": [
    "type(45 * 3.0)"
   ]
  },
  {
   "cell_type": "code",
   "execution_count": 58,
   "id": "b7ec16df",
   "metadata": {},
   "outputs": [
    {
     "data": {
      "text/plain": [
       "int"
      ]
     },
     "execution_count": 58,
     "metadata": {},
     "output_type": "execute_result"
    }
   ],
   "source": [
    "type(45 * 3)"
   ]
  },
  {
   "cell_type": "code",
   "execution_count": 59,
   "id": "602d19cb",
   "metadata": {},
   "outputs": [
    {
     "data": {
      "text/plain": [
       "float"
      ]
     },
     "execution_count": 59,
     "metadata": {},
     "output_type": "execute_result"
    }
   ],
   "source": [
    "type(10/3)"
   ]
  },
  {
   "cell_type": "code",
   "execution_count": 60,
   "id": "5677cf88",
   "metadata": {},
   "outputs": [
    {
     "data": {
      "text/plain": [
       "float"
      ]
     },
     "execution_count": 60,
     "metadata": {},
     "output_type": "execute_result"
    }
   ],
   "source": [
    "type(10/2)"
   ]
  },
  {
   "cell_type": "code",
   "execution_count": 61,
   "id": "1c24c3c4",
   "metadata": {},
   "outputs": [
    {
     "data": {
      "text/plain": [
       "int"
      ]
     },
     "execution_count": 61,
     "metadata": {},
     "output_type": "execute_result"
    }
   ],
   "source": [
    "type(10//2)"
   ]
  },
  {
   "cell_type": "markdown",
   "id": "909a53cd",
   "metadata": {},
   "source": [
    "### Boolean\n",
    "\n",
    "불리언은 2 가지 값 중 하나를 나타냄: `True`와 `False`. \n",
    "\n",
    "불리언을 `bool` 유형이라고 한다."
   ]
  },
  {
   "cell_type": "code",
   "execution_count": 62,
   "id": "cd79b46a",
   "metadata": {},
   "outputs": [
    {
     "data": {
      "text/plain": [
       "True"
      ]
     },
     "execution_count": 62,
     "metadata": {},
     "output_type": "execute_result"
    }
   ],
   "source": [
    "is_today_Sunday = True\n",
    "is_today_Sunday"
   ]
  },
  {
   "cell_type": "code",
   "execution_count": 63,
   "id": "49d144f4",
   "metadata": {},
   "outputs": [
    {
     "data": {
      "text/plain": [
       "bool"
      ]
     },
     "execution_count": 63,
     "metadata": {},
     "output_type": "execute_result"
    }
   ],
   "source": [
    "type(is_today_Saturday)"
   ]
  },
  {
   "cell_type": "markdown",
   "id": "3e1654d5",
   "metadata": {},
   "source": [
    "부울은 일반적으로 `==`, `>=` 등과 같은 비교 연산의 결과이다."
   ]
  },
  {
   "cell_type": "code",
   "execution_count": 65,
   "id": "eac5f9ea",
   "metadata": {},
   "outputs": [
    {
     "data": {
      "text/plain": [
       "False"
      ]
     },
     "execution_count": 65,
     "metadata": {},
     "output_type": "execute_result"
    }
   ],
   "source": [
    "cost_of_ice_bag = 1.25\n",
    "is_ice_bag_expensive = cost_of_ice_bag >= 10\n",
    "is_ice_bag_expensive"
   ]
  },
  {
   "cell_type": "code",
   "execution_count": 66,
   "id": "4bdd7736",
   "metadata": {},
   "outputs": [
    {
     "data": {
      "text/plain": [
       "bool"
      ]
     },
     "execution_count": 66,
     "metadata": {},
     "output_type": "execute_result"
    }
   ],
   "source": [
    "type(is_ice_bag_expensive)"
   ]
  },
  {
   "cell_type": "markdown",
   "id": "143dac3c",
   "metadata": {},
   "source": [
    "부울은 산술 연산에 사용될 때 자동으로 `int`로 변환된다.\n",
    "\n",
    "`True`는 `1`로 변환되고 `False`는 `0`으로 변환된다."
   ]
  },
  {
   "cell_type": "code",
   "execution_count": 67,
   "id": "8c1b3874",
   "metadata": {},
   "outputs": [
    {
     "data": {
      "text/plain": [
       "5"
      ]
     },
     "execution_count": 67,
     "metadata": {},
     "output_type": "execute_result"
    }
   ],
   "source": [
    "5 + False"
   ]
  },
  {
   "cell_type": "code",
   "execution_count": 68,
   "id": "ba542af6",
   "metadata": {},
   "outputs": [
    {
     "data": {
      "text/plain": [
       "4.0"
      ]
     },
     "execution_count": 68,
     "metadata": {},
     "output_type": "execute_result"
    }
   ],
   "source": [
    "3. + True"
   ]
  },
  {
   "cell_type": "markdown",
   "id": "fbed156b",
   "metadata": {},
   "source": [
    "### None\n",
    "\n",
    "None 유형은 값이 없음을 나타내는 것으로 `None`을 포함한다. \n",
    "\n",
    "나중에 값이 할당될 수 있는 변수를 선언하는 데 자주 사용된다."
   ]
  },
  {
   "cell_type": "code",
   "execution_count": 69,
   "id": "57b1e752",
   "metadata": {},
   "outputs": [],
   "source": [
    "nothing = None"
   ]
  },
  {
   "cell_type": "code",
   "execution_count": 70,
   "id": "09ce65fd",
   "metadata": {},
   "outputs": [
    {
     "data": {
      "text/plain": [
       "NoneType"
      ]
     },
     "execution_count": 70,
     "metadata": {},
     "output_type": "execute_result"
    }
   ],
   "source": [
    "type(nothing)"
   ]
  },
  {
   "cell_type": "markdown",
   "id": "bead9d32",
   "metadata": {},
   "source": [
    "### String\n",
    "\n",
    "문자열은 파이썬에서 텍스트(*문자열*)을 나태내는데 사용된다. \n",
    "\n",
    "문자열은 따옴표로 묶어야 한다.(작은 따옴표 `'`나 큰 따옴표 `\"` 사용)\n",
    "\n",
    "문자열은`string`유형이다."
   ]
  },
  {
   "cell_type": "code",
   "execution_count": 71,
   "id": "aaa08f0a",
   "metadata": {},
   "outputs": [],
   "source": [
    "today = \"Saturday\""
   ]
  },
  {
   "cell_type": "code",
   "execution_count": 72,
   "id": "0f9bbf4b",
   "metadata": {},
   "outputs": [
    {
     "data": {
      "text/plain": [
       "'Saturday'"
      ]
     },
     "execution_count": 72,
     "metadata": {},
     "output_type": "execute_result"
    }
   ],
   "source": [
    "today"
   ]
  },
  {
   "cell_type": "code",
   "execution_count": 73,
   "id": "da1b6265",
   "metadata": {},
   "outputs": [
    {
     "data": {
      "text/plain": [
       "str"
      ]
     },
     "execution_count": 73,
     "metadata": {},
     "output_type": "execute_result"
    }
   ],
   "source": [
    "type(today)"
   ]
  },
  {
   "cell_type": "markdown",
   "id": "ef089285",
   "metadata": {},
   "source": [
    "큰따옴표로 작성된 문자열 안에 작은따옴표를 사용할 수 있으며 그 반대의 경우도 마찬가지이다."
   ]
  },
  {
   "cell_type": "code",
   "execution_count": 75,
   "id": "ff742a64",
   "metadata": {},
   "outputs": [],
   "source": [
    "my_favorite_movie = \"The Great Gatsby\" "
   ]
  },
  {
   "cell_type": "code",
   "execution_count": 76,
   "id": "eb08c6e0",
   "metadata": {},
   "outputs": [
    {
     "data": {
      "text/plain": [
       "'The Great Gatsby'"
      ]
     },
     "execution_count": 76,
     "metadata": {},
     "output_type": "execute_result"
    }
   ],
   "source": [
    "my_favorite_movie"
   ]
  },
  {
   "cell_type": "code",
   "execution_count": 77,
   "id": "4b6d10b3",
   "metadata": {},
   "outputs": [],
   "source": [
    "my_favorite_pun = 'Thanks for explaining the word \"many\" to me, it means a lot.'"
   ]
  },
  {
   "cell_type": "code",
   "execution_count": 78,
   "id": "73c98468",
   "metadata": {},
   "outputs": [
    {
     "data": {
      "text/plain": [
       "'Thanks for explaining the word \"many\" to me, it means a lot.'"
      ]
     },
     "execution_count": 78,
     "metadata": {},
     "output_type": "execute_result"
    }
   ],
   "source": [
    "my_favorite_pun"
   ]
  },
  {
   "cell_type": "markdown",
   "id": "ba600e37",
   "metadata": {},
   "source": [
    "큰따옴표로 작성된 문자열 내에서 큰따옴표를 사용하려면 내부 따옴표 앞에 \\ 문자를 붙여서 사용한다."
   ]
  },
  {
   "cell_type": "code",
   "execution_count": 80,
   "id": "576ca8fa",
   "metadata": {},
   "outputs": [],
   "source": [
    "another_pun = \"The first time I got a universal remote control, I thought to myself \\\"This changes everything\\\".\""
   ]
  },
  {
   "cell_type": "code",
   "execution_count": 82,
   "id": "111419ab",
   "metadata": {},
   "outputs": [
    {
     "data": {
      "text/plain": [
       "'The first time I got a universal remote control, I thought to myself \"This changes everything\".'"
      ]
     },
     "execution_count": 82,
     "metadata": {},
     "output_type": "execute_result"
    }
   ],
   "source": [
    "another_pun"
   ]
  },
  {
   "cell_type": "markdown",
   "id": "ad2bade8",
   "metadata": {},
   "source": [
    "작은따옴표나 큰따옴표를 사용하여 만든 문자열은 같은 줄에서 시작하고 끝나야 한다.\n",
    "\n",
    "여러 줄 문자열을 만드려면 세 개의 작은따옴표 `'''` 또는 세 개의 큰따옴표 `\"\"\"`를 사용하여 문자열을 시작하고 끝내야 한다.\n",
    "\n",
    "줄 바꿈은 줄 바꿈 문자 `\\n`을 사용하여 표시된다."
   ]
  },
  {
   "cell_type": "code",
   "execution_count": 83,
   "id": "e9ac9e6d",
   "metadata": {},
   "outputs": [],
   "source": [
    "yet_another_pun = '''Son: \"Dad, can you tell me what a solar eclipse is?\" \n",
    "Dad: \"No sun.\"'''"
   ]
  },
  {
   "cell_type": "code",
   "execution_count": 84,
   "id": "c80c4b29",
   "metadata": {},
   "outputs": [
    {
     "data": {
      "text/plain": [
       "'Son: \"Dad, can you tell me what a solar eclipse is?\" \\nDad: \"No sun.\"'"
      ]
     },
     "execution_count": 84,
     "metadata": {},
     "output_type": "execute_result"
    }
   ],
   "source": [
    "yet_another_pun"
   ]
  },
  {
   "cell_type": "code",
   "execution_count": 85,
   "id": "a12c70ef",
   "metadata": {},
   "outputs": [
    {
     "name": "stdout",
     "output_type": "stream",
     "text": [
      "Son: \"Dad, can you tell me what a solar eclipse is?\" \n",
      "Dad: \"No sun.\"\n"
     ]
    }
   ],
   "source": [
    "print(yet_another_pun)"
   ]
  },
  {
   "cell_type": "code",
   "execution_count": 86,
   "id": "62abfbd1",
   "metadata": {},
   "outputs": [],
   "source": [
    "a_music_pun = \"\"\"\n",
    "Two windmills are standing in a field and one asks the other, \n",
    "\"What kind of music do you like?\"  \n",
    "\n",
    "The other says, \n",
    "\"I'm a big metal fan.\"\n",
    "\"\"\""
   ]
  },
  {
   "cell_type": "code",
   "execution_count": 87,
   "id": "26793795",
   "metadata": {},
   "outputs": [
    {
     "name": "stdout",
     "output_type": "stream",
     "text": [
      "\n",
      "Two windmills are standing in a field and one asks the other, \n",
      "\"What kind of music do you like?\"  \n",
      "\n",
      "The other says, \n",
      "\"I'm a big metal fan.\"\n",
      "\n"
     ]
    }
   ],
   "source": [
    "print(a_music_pun)"
   ]
  },
  {
   "cell_type": "markdown",
   "id": "3dd1e2d8",
   "metadata": {},
   "source": [
    "`len`함수를 사용해 문자열의 길이를 확인할 수 있다."
   ]
  },
  {
   "cell_type": "code",
   "execution_count": 88,
   "id": "f9366690",
   "metadata": {},
   "outputs": [
    {
     "data": {
      "text/plain": [
       "16"
      ]
     },
     "execution_count": 88,
     "metadata": {},
     "output_type": "execute_result"
    }
   ],
   "source": [
    "len(my_favorite_movie)"
   ]
  },
  {
   "cell_type": "markdown",
   "id": "70e37675",
   "metadata": {},
   "source": [
    "`\\n`과 같은 특수 문자와 `\\\"`와 같은 이스케이프 문자는 두 개의 문자로 쓰여지고 때때로 출력되더라도 단일 문자로 계산된다."
   ]
  },
  {
   "cell_type": "code",
   "execution_count": 89,
   "id": "0f24f8e7",
   "metadata": {},
   "outputs": [
    {
     "data": {
      "text/plain": [
       "'a\\nb'"
      ]
     },
     "execution_count": 89,
     "metadata": {},
     "output_type": "execute_result"
    }
   ],
   "source": [
    "multiline_string = \"\"\"a\n",
    "b\"\"\"\n",
    "multiline_string"
   ]
  },
  {
   "cell_type": "code",
   "execution_count": 91,
   "id": "13241724",
   "metadata": {},
   "outputs": [
    {
     "data": {
      "text/plain": [
       "3"
      ]
     },
     "execution_count": 91,
     "metadata": {},
     "output_type": "execute_result"
    }
   ],
   "source": [
    "len(multiline_string)"
   ]
  },
  {
   "cell_type": "code",
   "execution_count": 92,
   "id": "106dd23d",
   "metadata": {},
   "outputs": [
    {
     "data": {
      "text/plain": [
       "['a', '\\n', 'b']"
      ]
     },
     "execution_count": 92,
     "metadata": {},
     "output_type": "execute_result"
    }
   ],
   "source": [
    "list(multiline_string)"
   ]
  },
  {
   "cell_type": "markdown",
   "id": "ef3bd37b",
   "metadata": {},
   "source": [
    "문자열은 여러 리스트 연산자를 지원한다.\n",
    "\n",
    "`[]` 인덱싱 표기법을 사용하여 문자열 내의 개별 문자에 접근할 수 있다.\n",
    "\n",
    "문자 인덱스는 `0`에서 `n-1`로 이동가능하고 여기서 `n`은 문자열의 길이다."
   ]
  },
  {
   "cell_type": "code",
   "execution_count": 93,
   "id": "d6b544a6",
   "metadata": {},
   "outputs": [],
   "source": [
    "today = \"Saturday\""
   ]
  },
  {
   "cell_type": "code",
   "execution_count": 94,
   "id": "f2d74f32",
   "metadata": {},
   "outputs": [
    {
     "data": {
      "text/plain": [
       "'S'"
      ]
     },
     "execution_count": 94,
     "metadata": {},
     "output_type": "execute_result"
    }
   ],
   "source": [
    "today[0]"
   ]
  },
  {
   "cell_type": "code",
   "execution_count": 95,
   "id": "d733f17b",
   "metadata": {},
   "outputs": [
    {
     "data": {
      "text/plain": [
       "'a'"
      ]
     },
     "execution_count": 95,
     "metadata": {},
     "output_type": "execute_result"
    }
   ],
   "source": [
    "today[1]"
   ]
  },
  {
   "cell_type": "code",
   "execution_count": 96,
   "id": "91e5f179",
   "metadata": {},
   "outputs": [
    {
     "name": "stdout",
     "output_type": "stream",
     "text": [
      "u y\n"
     ]
    }
   ],
   "source": [
    "print(today[3], today[7])"
   ]
  },
  {
   "cell_type": "code",
   "execution_count": 97,
   "id": "44d56d71",
   "metadata": {},
   "outputs": [
    {
     "data": {
      "text/plain": [
       "'day'"
      ]
     },
     "execution_count": 97,
     "metadata": {},
     "output_type": "execute_result"
    }
   ],
   "source": [
    "today[5:8]"
   ]
  },
  {
   "cell_type": "code",
   "execution_count": 98,
   "id": "fa65ff1e",
   "metadata": {},
   "outputs": [
    {
     "data": {
      "text/plain": [
       "True"
      ]
     },
     "execution_count": 98,
     "metadata": {},
     "output_type": "execute_result"
    }
   ],
   "source": [
    "'day' in today"
   ]
  },
  {
   "cell_type": "code",
   "execution_count": 99,
   "id": "239fa350",
   "metadata": {},
   "outputs": [
    {
     "data": {
      "text/plain": [
       "False"
      ]
     },
     "execution_count": 99,
     "metadata": {},
     "output_type": "execute_result"
    }
   ],
   "source": [
    "'Sun' in today"
   ]
  },
  {
   "cell_type": "markdown",
   "id": "c3111560",
   "metadata": {},
   "source": [
    "(+)연산자를 사용하여 둘 이상의 문자열을 결합하거나 연결할 수 있다.\n",
    "\n",
    "문자열을 연결할때 주의해야 한다.\n",
    "\n",
    "단어 사이에 공백 문자를 추가해야할 수도 있다."
   ]
  },
  {
   "cell_type": "code",
   "execution_count": 100,
   "id": "7ffd7932",
   "metadata": {},
   "outputs": [],
   "source": [
    "full_name = \"Derek O'Brien\""
   ]
  },
  {
   "cell_type": "code",
   "execution_count": 101,
   "id": "97c5fb43",
   "metadata": {},
   "outputs": [],
   "source": [
    "greeting = \"Hello\""
   ]
  },
  {
   "cell_type": "code",
   "execution_count": 102,
   "id": "52719131",
   "metadata": {},
   "outputs": [
    {
     "data": {
      "text/plain": [
       "\"HelloDerek O'Brien\""
      ]
     },
     "execution_count": 102,
     "metadata": {},
     "output_type": "execute_result"
    }
   ],
   "source": [
    "greeting + full_name"
   ]
  },
  {
   "cell_type": "code",
   "execution_count": 103,
   "id": "0e92eb2c",
   "metadata": {},
   "outputs": [
    {
     "data": {
      "text/plain": [
       "\"Hello Derek O'Brien!\""
      ]
     },
     "execution_count": 103,
     "metadata": {},
     "output_type": "execute_result"
    }
   ],
   "source": [
    "greeting + \" \" + full_name + \"!\" # additional space"
   ]
  },
  {
   "cell_type": "markdown",
   "id": "35e00679",
   "metadata": {},
   "source": [
    "Python의 문자열에는 문자열을 조작하는 데 사용되는 내장된 *메서드*가 많이 있다.\n",
    "\n",
    ">**메서드(Methods)**: 메서드는 데이터 유형과 관련된 함수이며, `.` 으로 접근할 수 있다.\n",
    "\n",
    "`변수명.method()` 또는 `문자열.method()`와 같은 방식으로 사용할 수있다.\n",
    "\n",
    "`.lower()`, `.upper()` 와 `.capitalize()` 메서드는 문자의 대소문자를 변경하는데 사용된다."
   ]
  },
  {
   "cell_type": "code",
   "execution_count": 104,
   "id": "93f6ce32",
   "metadata": {},
   "outputs": [
    {
     "data": {
      "text/plain": [
       "'saturday'"
      ]
     },
     "execution_count": 104,
     "metadata": {},
     "output_type": "execute_result"
    }
   ],
   "source": [
    "today.lower()"
   ]
  },
  {
   "cell_type": "code",
   "execution_count": 105,
   "id": "1ad3b8d2",
   "metadata": {},
   "outputs": [
    {
     "data": {
      "text/plain": [
       "'SATURDAY'"
      ]
     },
     "execution_count": 105,
     "metadata": {},
     "output_type": "execute_result"
    }
   ],
   "source": [
    "\"saturday\".upper()"
   ]
  },
  {
   "cell_type": "code",
   "execution_count": 106,
   "id": "08b76c1c",
   "metadata": {},
   "outputs": [
    {
     "data": {
      "text/plain": [
       "'Monday'"
      ]
     },
     "execution_count": 106,
     "metadata": {},
     "output_type": "execute_result"
    }
   ],
   "source": [
    "\"monday\".capitalize() # changes first character to uppercase"
   ]
  },
  {
   "cell_type": "markdown",
   "id": "4dd868c5",
   "metadata": {},
   "source": [
    "`.replace`메서드는 문자열의 일부를 다른 문자열로 교체한다.\n",
    "\n",
    "교체할 부분과 교체 텍스트를 *입력* 또는 *인자*로 사용한다.\n",
    "\n",
    "또한 `.replace`는 새로운 문자열을 반환하며, 원래 문자열은 수정되지 않는다."
   ]
  },
  {
   "cell_type": "code",
   "execution_count": 107,
   "id": "af1c5390",
   "metadata": {},
   "outputs": [],
   "source": [
    "another_day = today.replace(\"Satur\", \"Wednes\")"
   ]
  },
  {
   "cell_type": "code",
   "execution_count": 108,
   "id": "6970bfa3",
   "metadata": {},
   "outputs": [
    {
     "data": {
      "text/plain": [
       "'Wednesday'"
      ]
     },
     "execution_count": 108,
     "metadata": {},
     "output_type": "execute_result"
    }
   ],
   "source": [
    "another_day"
   ]
  },
  {
   "cell_type": "markdown",
   "id": "6dfaeff4",
   "metadata": {},
   "source": [
    "`.split` 메소드는 제공된 문자가 나타날 때마다 문자열을 문자열 목록으로 분할한다."
   ]
  },
  {
   "cell_type": "code",
   "execution_count": 109,
   "id": "2eb0b634",
   "metadata": {},
   "outputs": [
    {
     "data": {
      "text/plain": [
       "['Sun', 'Mon', 'Tue', 'Wed', 'Thu', 'Fri', 'Sat']"
      ]
     },
     "execution_count": 109,
     "metadata": {},
     "output_type": "execute_result"
    }
   ],
   "source": [
    "\"Sun,Mon,Tue,Wed,Thu,Fri,Sat\".split(\",\")"
   ]
  },
  {
   "cell_type": "markdown",
   "id": "87de3086",
   "metadata": {},
   "source": [
    "`.strip` 메소드는 문자열의 시작과 끝에서 공백 문자를 제거한다."
   ]
  },
  {
   "cell_type": "code",
   "execution_count": 111,
   "id": "115ff30e",
   "metadata": {},
   "outputs": [],
   "source": [
    "a_long_line = \"       This is a long line with some space before, after,     and some space in the middle..    \""
   ]
  },
  {
   "cell_type": "code",
   "execution_count": 112,
   "id": "4b383d70",
   "metadata": {},
   "outputs": [],
   "source": [
    "a_long_line_stripped = a_long_line.strip()"
   ]
  },
  {
   "cell_type": "code",
   "execution_count": 113,
   "id": "afaea637",
   "metadata": {},
   "outputs": [
    {
     "data": {
      "text/plain": [
       "'This is a long line with some space before, after,     and some space in the middle..'"
      ]
     },
     "execution_count": 113,
     "metadata": {},
     "output_type": "execute_result"
    }
   ],
   "source": [
    "a_long_line_stripped"
   ]
  },
  {
   "cell_type": "markdown",
   "id": "6a887d63",
   "metadata": {},
   "source": [
    "`.format` 메소드는 다른 데이터 유형의 값(예: 정수, 부동 소수점, 부울, 목록 등)을 문자열과 결합한다.\n",
    "\n",
    "'형식'을 사용하여 표시할 출력 메시지를 구성할 수 있다."
   ]
  },
  {
   "cell_type": "code",
   "execution_count": 114,
   "id": "4293af16",
   "metadata": {},
   "outputs": [
    {
     "name": "stdout",
     "output_type": "stream",
     "text": [
      "If a grocery store sells ice bags at $ {} per bag, with a profit margin of {} %, \n",
      "then the total profit it makes by selling {} ice bags is $ {}.\n"
     ]
    }
   ],
   "source": [
    "# Input variables\n",
    "cost_of_ice_bag = 1.25\n",
    "profit_margin = .2\n",
    "number_of_bags = 500\n",
    "\n",
    "# Template for output message\n",
    "output_template = \"\"\"If a grocery store sells ice bags at $ {} per bag, with a profit margin of {} %, \n",
    "then the total profit it makes by selling {} ice bags is $ {}.\"\"\"\n",
    "\n",
    "print(output_template)"
   ]
  },
  {
   "cell_type": "code",
   "execution_count": 115,
   "id": "78f50155",
   "metadata": {},
   "outputs": [
    {
     "name": "stdout",
     "output_type": "stream",
     "text": [
      "If a grocery store sells ice bags at $ 1.25 per bag, with a profit margin of 20.0 %, \n",
      "then the total profit it makes by selling 500 ice bags is $ 125.0.\n"
     ]
    }
   ],
   "source": [
    "# Inserting values into the string\n",
    "total_profit = cost_of_ice_bag * profit_margin * number_of_bags\n",
    "output_message = output_template.format(cost_of_ice_bag, profit_margin*100, number_of_bags, total_profit)\n",
    "\n",
    "print(output_message)"
   ]
  },
  {
   "cell_type": "markdown",
   "id": "5ae759ed",
   "metadata": {},
   "source": [
    "`str`을 사용하여 모든 데이터 유형의 값을 문자열로 변환할 수 있다."
   ]
  },
  {
   "cell_type": "code",
   "execution_count": 116,
   "id": "b47bc996",
   "metadata": {},
   "outputs": [
    {
     "data": {
      "text/plain": [
       "'23'"
      ]
     },
     "execution_count": 116,
     "metadata": {},
     "output_type": "execute_result"
    }
   ],
   "source": [
    "str(23)"
   ]
  },
  {
   "cell_type": "code",
   "execution_count": 117,
   "id": "27494e72",
   "metadata": {},
   "outputs": [
    {
     "data": {
      "text/plain": [
       "'23.432'"
      ]
     },
     "execution_count": 117,
     "metadata": {},
     "output_type": "execute_result"
    }
   ],
   "source": [
    "str(23.432)"
   ]
  },
  {
   "cell_type": "code",
   "execution_count": 118,
   "id": "0cd8d362",
   "metadata": {},
   "outputs": [
    {
     "data": {
      "text/plain": [
       "'True'"
      ]
     },
     "execution_count": 118,
     "metadata": {},
     "output_type": "execute_result"
    }
   ],
   "source": [
    "str(True)"
   ]
  },
  {
   "cell_type": "code",
   "execution_count": 119,
   "id": "b01dffe3",
   "metadata": {},
   "outputs": [
    {
     "data": {
      "text/plain": [
       "\"['Athos', 'Porthos', 'Aramis']\""
      ]
     },
     "execution_count": 119,
     "metadata": {},
     "output_type": "execute_result"
    }
   ],
   "source": [
    "the_3_musketeers = [\"Athos\", \"Porthos\", \"Aramis\"]\n",
    "str(the_3_musketeers)"
   ]
  },
  {
   "cell_type": "markdown",
   "id": "73cd5712",
   "metadata": {},
   "source": [
    "문자열은 두 문자열이 같은지 확인하기 위해 비교 연산자 `==` 및 `!=`도 지원한다."
   ]
  },
  {
   "cell_type": "code",
   "execution_count": 120,
   "id": "98e04dd7",
   "metadata": {},
   "outputs": [],
   "source": [
    "first_name = \"John\""
   ]
  },
  {
   "cell_type": "code",
   "execution_count": 121,
   "id": "e9fae918",
   "metadata": {},
   "outputs": [
    {
     "data": {
      "text/plain": [
       "False"
      ]
     },
     "execution_count": 121,
     "metadata": {},
     "output_type": "execute_result"
    }
   ],
   "source": [
    "first_name == \"Doe\""
   ]
  },
  {
   "cell_type": "code",
   "execution_count": 122,
   "id": "326bbb66",
   "metadata": {},
   "outputs": [
    {
     "data": {
      "text/plain": [
       "True"
      ]
     },
     "execution_count": 122,
     "metadata": {},
     "output_type": "execute_result"
    }
   ],
   "source": [
    "first_name == \"John\""
   ]
  },
  {
   "cell_type": "code",
   "execution_count": 123,
   "id": "17ba3d1d",
   "metadata": {},
   "outputs": [
    {
     "data": {
      "text/plain": [
       "True"
      ]
     },
     "execution_count": 123,
     "metadata": {},
     "output_type": "execute_result"
    }
   ],
   "source": [
    "first_name != \"Jane\""
   ]
  },
  {
   "cell_type": "markdown",
   "id": "eede9d15",
   "metadata": {},
   "source": [
    "### List\n",
    "\n",
    "리스트는 정렬된 값 모음이다.\n",
    "\n",
    "리스트는 다양한 데이터 유형의 값을 보유할 수 있으며 값을 추가, 제거 및 변경하는 작업을 지원한다.\n",
    "\n",
    "리스트는 `list` 유형이라고 한다.\n",
    "\n",
    "리스트를 만들려면 쉼표로 구분된 일련의 값을 대괄호 `[` 및 `]`로 묶는다."
   ]
  },
  {
   "cell_type": "code",
   "execution_count": 124,
   "id": "5b77a001",
   "metadata": {},
   "outputs": [],
   "source": [
    "fruits = ['apple', 'banana', 'cherry']"
   ]
  },
  {
   "cell_type": "code",
   "execution_count": 125,
   "id": "8824c483",
   "metadata": {},
   "outputs": [
    {
     "data": {
      "text/plain": [
       "['apple', 'banana', 'cherry']"
      ]
     },
     "execution_count": 125,
     "metadata": {},
     "output_type": "execute_result"
    }
   ],
   "source": [
    "fruits"
   ]
  },
  {
   "cell_type": "code",
   "execution_count": 126,
   "id": "0a80c9e1",
   "metadata": {},
   "outputs": [
    {
     "data": {
      "text/plain": [
       "list"
      ]
     },
     "execution_count": 126,
     "metadata": {},
     "output_type": "execute_result"
    }
   ],
   "source": [
    "type(fruits)"
   ]
  },
  {
   "cell_type": "code",
   "execution_count": 129,
   "id": "e45e878f",
   "metadata": {},
   "outputs": [
    {
     "data": {
      "text/plain": [
       "[23, 'hello', None, 3.14, ['apple', 'banana', 'cherry'], True]"
      ]
     },
     "execution_count": 129,
     "metadata": {},
     "output_type": "execute_result"
    }
   ],
   "source": [
    "a_list = [23, 'hello', None, 3.14, fruits, 3 <= 5]\n",
    "a_list"
   ]
  },
  {
   "cell_type": "code",
   "execution_count": 130,
   "id": "4a75e7f9",
   "metadata": {},
   "outputs": [
    {
     "data": {
      "text/plain": [
       "[]"
      ]
     },
     "execution_count": 130,
     "metadata": {},
     "output_type": "execute_result"
    }
   ],
   "source": [
    "empty_list = []\n",
    "empty_list"
   ]
  },
  {
   "cell_type": "markdown",
   "id": "8002968e",
   "metadata": {},
   "source": [
    "리스트를 구성하는 데이터의 수를 확인하려면  `len` 함수를 사용하면 된다."
   ]
  },
  {
   "cell_type": "code",
   "execution_count": 131,
   "id": "dea7e1b1",
   "metadata": {},
   "outputs": [
    {
     "data": {
      "text/plain": [
       "3"
      ]
     },
     "execution_count": 131,
     "metadata": {},
     "output_type": "execute_result"
    }
   ],
   "source": [
    "len(fruits)"
   ]
  },
  {
   "cell_type": "code",
   "execution_count": 132,
   "id": "a7034b7b",
   "metadata": {},
   "outputs": [
    {
     "name": "stdout",
     "output_type": "stream",
     "text": [
      "Number of fruits: 3\n"
     ]
    }
   ],
   "source": [
    "print(\"Number of fruits:\", len(fruits))"
   ]
  },
  {
   "cell_type": "code",
   "execution_count": 133,
   "id": "8eaa7953",
   "metadata": {},
   "outputs": [
    {
     "data": {
      "text/plain": [
       "6"
      ]
     },
     "execution_count": 133,
     "metadata": {},
     "output_type": "execute_result"
    }
   ],
   "source": [
    "len(a_list)"
   ]
  },
  {
   "cell_type": "code",
   "execution_count": 134,
   "id": "229079fd",
   "metadata": {},
   "outputs": [
    {
     "data": {
      "text/plain": [
       "0"
      ]
     },
     "execution_count": 134,
     "metadata": {},
     "output_type": "execute_result"
    }
   ],
   "source": [
    "len(empty_list)"
   ]
  },
  {
   "cell_type": "markdown",
   "id": "9b3ebdf7",
   "metadata": {},
   "source": [
    "*index*를 사용해 리스트의 요소에 접근할 수 있다. \n",
    "\n",
    "예를들어, `fruits[2]`는 `fruits` 리스트의 인덱스 2에 있는 요소를 반환한다."
   ]
  },
  {
   "cell_type": "code",
   "execution_count": 135,
   "id": "c3879243",
   "metadata": {},
   "outputs": [
    {
     "data": {
      "text/plain": [
       "'apple'"
      ]
     },
     "execution_count": 135,
     "metadata": {},
     "output_type": "execute_result"
    }
   ],
   "source": [
    "fruits[0]"
   ]
  },
  {
   "cell_type": "code",
   "execution_count": 136,
   "id": "4b74ff35",
   "metadata": {},
   "outputs": [
    {
     "data": {
      "text/plain": [
       "'banana'"
      ]
     },
     "execution_count": 136,
     "metadata": {},
     "output_type": "execute_result"
    }
   ],
   "source": [
    "fruits[1]"
   ]
  },
  {
   "cell_type": "code",
   "execution_count": 137,
   "id": "811a5efd",
   "metadata": {},
   "outputs": [
    {
     "data": {
      "text/plain": [
       "'cherry'"
      ]
     },
     "execution_count": 137,
     "metadata": {},
     "output_type": "execute_result"
    }
   ],
   "source": [
    "fruits[2]"
   ]
  },
  {
   "cell_type": "code",
   "execution_count": 138,
   "id": "22a1b1da",
   "metadata": {},
   "outputs": [
    {
     "ename": "IndexError",
     "evalue": "list index out of range",
     "output_type": "error",
     "traceback": [
      "\u001b[0;31m---------------------------------------------------------------------------\u001b[0m",
      "\u001b[0;31mIndexError\u001b[0m                                Traceback (most recent call last)",
      "\u001b[0;32m<ipython-input-138-7ceeafd384d7>\u001b[0m in \u001b[0;36m<module>\u001b[0;34m\u001b[0m\n\u001b[0;32m----> 1\u001b[0;31m \u001b[0mfruits\u001b[0m\u001b[0;34m[\u001b[0m\u001b[0;36m3\u001b[0m\u001b[0;34m]\u001b[0m\u001b[0;34m\u001b[0m\u001b[0;34m\u001b[0m\u001b[0m\n\u001b[0m",
      "\u001b[0;31mIndexError\u001b[0m: list index out of range"
     ]
    }
   ],
   "source": [
    "fruits[3]"
   ]
  },
  {
   "cell_type": "code",
   "execution_count": 139,
   "id": "2655cb99",
   "metadata": {},
   "outputs": [
    {
     "data": {
      "text/plain": [
       "'cherry'"
      ]
     },
     "execution_count": 139,
     "metadata": {},
     "output_type": "execute_result"
    }
   ],
   "source": [
    "fruits[-1]"
   ]
  },
  {
   "cell_type": "markdown",
   "id": "fda6c7bf",
   "metadata": {},
   "source": [
    "리스트에서 값 범위에 대해 접근할 수도 있다.\n",
    "\n",
    "결과도 리스트로 출력해준다."
   ]
  },
  {
   "cell_type": "code",
   "execution_count": 140,
   "id": "479c1b75",
   "metadata": {},
   "outputs": [],
   "source": [
    "a_list = [23, 'hello', None, 3.14, fruits, 3 <= 5]"
   ]
  },
  {
   "cell_type": "code",
   "execution_count": 141,
   "id": "032f6981",
   "metadata": {},
   "outputs": [
    {
     "data": {
      "text/plain": [
       "[23, 'hello', None, 3.14, ['apple', 'banana', 'cherry'], True]"
      ]
     },
     "execution_count": 141,
     "metadata": {},
     "output_type": "execute_result"
    }
   ],
   "source": [
    "a_list"
   ]
  },
  {
   "cell_type": "code",
   "execution_count": 142,
   "id": "71585d34",
   "metadata": {},
   "outputs": [
    {
     "data": {
      "text/plain": [
       "6"
      ]
     },
     "execution_count": 142,
     "metadata": {},
     "output_type": "execute_result"
    }
   ],
   "source": [
    "len(a_list)"
   ]
  },
  {
   "cell_type": "code",
   "execution_count": 143,
   "id": "6cc71cde",
   "metadata": {},
   "outputs": [
    {
     "data": {
      "text/plain": [
       "[None, 3.14, ['apple', 'banana', 'cherry']]"
      ]
     },
     "execution_count": 143,
     "metadata": {},
     "output_type": "execute_result"
    }
   ],
   "source": [
    "a_list[2:5]"
   ]
  },
  {
   "cell_type": "markdown",
   "id": "3c48581a",
   "metadata": {},
   "source": [
    "할당 작업을 사용하여 목록 내 특정 인덱스의 값을 변경할 수도 있다."
   ]
  },
  {
   "cell_type": "code",
   "execution_count": 144,
   "id": "82bc7cf1",
   "metadata": {},
   "outputs": [
    {
     "data": {
      "text/plain": [
       "['apple', 'banana', 'cherry']"
      ]
     },
     "execution_count": 144,
     "metadata": {},
     "output_type": "execute_result"
    }
   ],
   "source": [
    "fruits"
   ]
  },
  {
   "cell_type": "code",
   "execution_count": 145,
   "id": "a2f13a99",
   "metadata": {},
   "outputs": [
    {
     "data": {
      "text/plain": [
       "['apple', 'blueberry', 'cherry']"
      ]
     },
     "execution_count": 145,
     "metadata": {},
     "output_type": "execute_result"
    }
   ],
   "source": [
    "fruits[1] = 'blueberry'\n",
    "fruits"
   ]
  },
  {
   "cell_type": "code",
   "execution_count": 147,
   "id": "271bad8f",
   "metadata": {},
   "outputs": [
    {
     "data": {
      "text/plain": [
       "['apple', 'blueberry', 'cherry', 'dates', 'dates']"
      ]
     },
     "execution_count": 147,
     "metadata": {},
     "output_type": "execute_result"
    }
   ],
   "source": [
    "fruits.append('dates')\n",
    "fruits"
   ]
  },
  {
   "cell_type": "code",
   "execution_count": 148,
   "id": "0571ac01",
   "metadata": {},
   "outputs": [
    {
     "data": {
      "text/plain": [
       "['apple', 'banana', 'blueberry', 'cherry', 'dates', 'dates']"
      ]
     },
     "execution_count": 148,
     "metadata": {},
     "output_type": "execute_result"
    }
   ],
   "source": [
    "fruits.insert(1, 'banana')\n",
    "fruits"
   ]
  },
  {
   "cell_type": "code",
   "execution_count": 149,
   "id": "63a2b6b2",
   "metadata": {},
   "outputs": [
    {
     "data": {
      "text/plain": [
       "['apple', 'banana', 'cherry', 'dates', 'dates']"
      ]
     },
     "execution_count": 149,
     "metadata": {},
     "output_type": "execute_result"
    }
   ],
   "source": [
    "fruits.remove('blueberry')\n",
    "fruits"
   ]
  },
  {
   "cell_type": "markdown",
   "id": "4e97f3da",
   "metadata": {},
   "source": [
    "fruits 리스트의 메소드 `.remove`에 전달된 값들이 여러개가 있으면 어떤 결과를 출력하나요?"
   ]
  },
  {
   "cell_type": "code",
   "execution_count": null,
   "id": "f3d52dec",
   "metadata": {},
   "outputs": [],
   "source": []
  },
  {
   "cell_type": "markdown",
   "id": "cc51df79",
   "metadata": {},
   "source": [
    "특정 인덱스에서 요소를 제거하려면 `pop` 메소드를 사용해보라.\n",
    "\n",
    "이 메서드는 제거된 요소도 반환한다."
   ]
  },
  {
   "cell_type": "code",
   "execution_count": 151,
   "id": "8ff86a78",
   "metadata": {},
   "outputs": [
    {
     "data": {
      "text/plain": [
       "['apple', 'banana', 'cherry', 'dates', 'dates']"
      ]
     },
     "execution_count": 151,
     "metadata": {},
     "output_type": "execute_result"
    }
   ],
   "source": [
    "fruits"
   ]
  },
  {
   "cell_type": "code",
   "execution_count": 152,
   "id": "3ffb2d1c",
   "metadata": {},
   "outputs": [
    {
     "data": {
      "text/plain": [
       "'banana'"
      ]
     },
     "execution_count": 152,
     "metadata": {},
     "output_type": "execute_result"
    }
   ],
   "source": [
    "fruits.pop(1)"
   ]
  },
  {
   "cell_type": "code",
   "execution_count": 156,
   "id": "e5e7e4c2",
   "metadata": {},
   "outputs": [
    {
     "data": {
      "text/plain": [
       "['apple', 'cherry', 'dates']"
      ]
     },
     "execution_count": 156,
     "metadata": {},
     "output_type": "execute_result"
    }
   ],
   "source": [
    "fruits"
   ]
  },
  {
   "cell_type": "code",
   "execution_count": 157,
   "id": "72046849",
   "metadata": {},
   "outputs": [
    {
     "data": {
      "text/plain": [
       "'dates'"
      ]
     },
     "execution_count": 157,
     "metadata": {},
     "output_type": "execute_result"
    }
   ],
   "source": [
    "fruits.pop()"
   ]
  },
  {
   "cell_type": "code",
   "execution_count": 158,
   "id": "f1238c12",
   "metadata": {},
   "outputs": [
    {
     "data": {
      "text/plain": [
       "['apple', 'cherry']"
      ]
     },
     "execution_count": 158,
     "metadata": {},
     "output_type": "execute_result"
    }
   ],
   "source": [
    "fruits"
   ]
  },
  {
   "cell_type": "markdown",
   "id": "149db502",
   "metadata": {},
   "source": [
    "`in` 연산자를 사용하여 목록에 값이 포함되어 있는지 테스트할 수 있다."
   ]
  },
  {
   "cell_type": "code",
   "execution_count": 161,
   "id": "2f060254",
   "metadata": {},
   "outputs": [
    {
     "data": {
      "text/plain": [
       "False"
      ]
     },
     "execution_count": 161,
     "metadata": {},
     "output_type": "execute_result"
    }
   ],
   "source": [
    "'pineapple' in fruits"
   ]
  },
  {
   "cell_type": "code",
   "execution_count": 162,
   "id": "ed33bfc5",
   "metadata": {},
   "outputs": [
    {
     "data": {
      "text/plain": [
       "True"
      ]
     },
     "execution_count": 162,
     "metadata": {},
     "output_type": "execute_result"
    }
   ],
   "source": [
    "'cherry' in fruits"
   ]
  },
  {
   "cell_type": "markdown",
   "id": "ca83032f",
   "metadata": {},
   "source": [
    "둘 이상의 리스트를 결합하려면 `+` 연산자를 사용할 수 있다.\n",
    "\n",
    "이러한 작업을 *concatenation*이라고도 한다."
   ]
  },
  {
   "cell_type": "code",
   "execution_count": 163,
   "id": "0eb80856",
   "metadata": {},
   "outputs": [
    {
     "data": {
      "text/plain": [
       "['apple', 'cherry']"
      ]
     },
     "execution_count": 163,
     "metadata": {},
     "output_type": "execute_result"
    }
   ],
   "source": [
    "fruits"
   ]
  },
  {
   "cell_type": "code",
   "execution_count": 165,
   "id": "39d00f1d",
   "metadata": {},
   "outputs": [
    {
     "data": {
      "text/plain": [
       "['apple', 'cherry', 'pineapple', 'tomato', 'guava', 'dates', 'banana']"
      ]
     },
     "execution_count": 165,
     "metadata": {},
     "output_type": "execute_result"
    }
   ],
   "source": [
    "more_fruits = fruits + ['pineapple', 'tomato', 'guava'] + ['dates', 'banana']\n",
    "more_fruits"
   ]
  },
  {
   "cell_type": "markdown",
   "id": "40017e8b",
   "metadata": {},
   "source": [
    "리스트의 복사본을 만들려면 복사 방법을 사용한다.\n",
    "\n",
    "복사한 리스트를 수정해도 원본에는 영향을 주지 않는다."
   ]
  },
  {
   "cell_type": "code",
   "execution_count": 167,
   "id": "386fe9b8",
   "metadata": {},
   "outputs": [
    {
     "data": {
      "text/plain": [
       "['apple', 'cherry', 'pineapple', 'tomato', 'guava', 'dates', 'banana']"
      ]
     },
     "execution_count": 167,
     "metadata": {},
     "output_type": "execute_result"
    }
   ],
   "source": [
    "more_fruits_copy = more_fruits.copy()\n",
    "more_fruits_copy"
   ]
  },
  {
   "cell_type": "code",
   "execution_count": 168,
   "id": "3b34f4e9",
   "metadata": {},
   "outputs": [
    {
     "data": {
      "text/plain": [
       "['apple', 'cherry', 'tomato', 'guava', 'dates']"
      ]
     },
     "execution_count": 168,
     "metadata": {},
     "output_type": "execute_result"
    }
   ],
   "source": [
    "# Modify the copy\n",
    "more_fruits_copy.remove('pineapple')\n",
    "more_fruits_copy.pop()\n",
    "more_fruits_copy"
   ]
  },
  {
   "cell_type": "code",
   "execution_count": 169,
   "id": "622d564a",
   "metadata": {},
   "outputs": [
    {
     "data": {
      "text/plain": [
       "['apple', 'cherry', 'pineapple', 'tomato', 'guava', 'dates', 'banana']"
      ]
     },
     "execution_count": 169,
     "metadata": {},
     "output_type": "execute_result"
    }
   ],
   "source": [
    "# Original list remains unchanged\n",
    "more_fruits"
   ]
  },
  {
   "cell_type": "markdown",
   "id": "f6577639",
   "metadata": {},
   "source": [
    "할당 연산자 `=`를 사용하여 단순히 새 변수를 생성하는 것만으로는 리스트의 복사본을 생성할 수 없다.\n",
    "\n",
    "새 변수는 동일한 리스트를 가리키고 두 변수 중 하나를 사용하여 수행한 모든 수정 사항은 다른 변수에 영향을 끼친다."
   ]
  },
  {
   "cell_type": "code",
   "execution_count": 170,
   "id": "6cc5c6ec",
   "metadata": {},
   "outputs": [
    {
     "data": {
      "text/plain": [
       "['apple', 'cherry', 'pineapple', 'tomato', 'guava', 'dates', 'banana']"
      ]
     },
     "execution_count": 170,
     "metadata": {},
     "output_type": "execute_result"
    }
   ],
   "source": [
    "more_fruits"
   ]
  },
  {
   "cell_type": "code",
   "execution_count": 171,
   "id": "e591ce0e",
   "metadata": {},
   "outputs": [],
   "source": [
    "more_fruits_not_a_copy = more_fruits"
   ]
  },
  {
   "cell_type": "code",
   "execution_count": 172,
   "id": "9916ea3b",
   "metadata": {},
   "outputs": [
    {
     "data": {
      "text/plain": [
       "'banana'"
      ]
     },
     "execution_count": 172,
     "metadata": {},
     "output_type": "execute_result"
    }
   ],
   "source": [
    "more_fruits_not_a_copy.remove('pineapple')\n",
    "more_fruits_not_a_copy.pop()"
   ]
  },
  {
   "cell_type": "code",
   "execution_count": 173,
   "id": "658432c2",
   "metadata": {},
   "outputs": [
    {
     "data": {
      "text/plain": [
       "['apple', 'cherry', 'tomato', 'guava', 'dates']"
      ]
     },
     "execution_count": 173,
     "metadata": {},
     "output_type": "execute_result"
    }
   ],
   "source": [
    "more_fruits_not_a_copy"
   ]
  },
  {
   "cell_type": "code",
   "execution_count": 174,
   "id": "79519289",
   "metadata": {},
   "outputs": [
    {
     "data": {
      "text/plain": [
       "['apple', 'cherry', 'tomato', 'guava', 'dates']"
      ]
     },
     "execution_count": 174,
     "metadata": {},
     "output_type": "execute_result"
    }
   ],
   "source": [
    "more_fruits"
   ]
  },
  {
   "cell_type": "markdown",
   "id": "0a8d29bd",
   "metadata": {},
   "source": [
    "문자열과 마찬가지로 리스트를 조작하는 몇가지 내장 메서드가 있다.\n",
    "\n",
    "문자열과 달리 대부분의 리스트 메서드는 새 리스트를 반환하지 않고 원래 리스트 수정한다.\n",
    "\n",
    "이 링크에 몇가지 리스트 메서드가 있다.(https://www.w3schools.com/python/python_ref_list.asp)\n",
    "\n",
    "리스트에 시도할 수 있는 작업을 직접 수행해보자.\n",
    "1. 리스트에서 요소의 순서를 반대로 할 것\n",
    "2. 한 리스트의 요소를 다른 리스트의 끝에 추가 \n",
    "3. 문자열 리스트를 알파벳 순으로 정리 할것\n",
    "4. 숫자 리스트를 내림차순으로 정렬 할 것"
   ]
  },
  {
   "cell_type": "code",
   "execution_count": 182,
   "id": "ebfa9906",
   "metadata": {},
   "outputs": [],
   "source": [
    "ints = [1,2,3,4,5,6,7,8,9,10]\n",
    "fruits = ['apple', 'banana', 'cherry']"
   ]
  },
  {
   "cell_type": "code",
   "execution_count": 188,
   "id": "70224386",
   "metadata": {},
   "outputs": [
    {
     "data": {
      "text/plain": [
       "[10, 9, 8, 7, 6, 5, 4, 3, 2, 1]"
      ]
     },
     "execution_count": 188,
     "metadata": {},
     "output_type": "execute_result"
    }
   ],
   "source": [
    "ints.reverse()\n",
    "ints"
   ]
  },
  {
   "cell_type": "code",
   "execution_count": 189,
   "id": "2a3e66cc",
   "metadata": {},
   "outputs": [
    {
     "data": {
      "text/plain": [
       "[10, 9, 8, 7, 6, 5, 4, 3, 2, 1, 'cherry', 'banana', 'apple']"
      ]
     },
     "execution_count": 189,
     "metadata": {},
     "output_type": "execute_result"
    }
   ],
   "source": [
    "ints + fruits"
   ]
  },
  {
   "cell_type": "code",
   "execution_count": 190,
   "id": "26078ca0",
   "metadata": {},
   "outputs": [
    {
     "data": {
      "text/plain": [
       "['cherry', 'banana', 'apple', 'blueberry']"
      ]
     },
     "execution_count": 190,
     "metadata": {},
     "output_type": "execute_result"
    }
   ],
   "source": [
    "fruits.append(\"blueberry\")\n",
    "fruits"
   ]
  },
  {
   "cell_type": "code",
   "execution_count": 192,
   "id": "d6bc2e9b",
   "metadata": {},
   "outputs": [
    {
     "data": {
      "text/plain": [
       "['apple', 'banana', 'blueberry', 'cherry']"
      ]
     },
     "execution_count": 192,
     "metadata": {},
     "output_type": "execute_result"
    }
   ],
   "source": [
    "fruits.sort()\n",
    "fruits"
   ]
  },
  {
   "cell_type": "code",
   "execution_count": 195,
   "id": "19330fe4",
   "metadata": {},
   "outputs": [
    {
     "data": {
      "text/plain": [
       "[10, 9, 8, 7, 6, 5, 4, 3, 2, 1]"
      ]
     },
     "execution_count": 195,
     "metadata": {},
     "output_type": "execute_result"
    }
   ],
   "source": [
    "ints = [3,1,2,4,8,9,5,6,7,10]\n",
    "ints.sort(reverse=True)\n",
    "ints"
   ]
  },
  {
   "cell_type": "markdown",
   "id": "655670c8",
   "metadata": {},
   "source": [
    "### Tuple\n",
    "\n",
    "튜플은 리스트와 유사하게 정렬된 값 모음이다.\n",
    "\n",
    "그러나 튜플에서 값을 추가, 제거 또는 수정할 수는 없다. 튜플은 쉼표로 구분된 괄호 `(` 및 `)` 안에 값을 묶어 생성한다.\n",
    "\n",
    "> 생성 후 수정할 수 없는 모든 데이터 구조를 *immutable*이라고 한다. 튜플은 변경할 수 없는 목록이라고 생각하면 된다."
   ]
  },
  {
   "cell_type": "code",
   "execution_count": 196,
   "id": "52f74432",
   "metadata": {},
   "outputs": [],
   "source": [
    "fruits = ('apple', 'cherry', 'dates')"
   ]
  },
  {
   "cell_type": "code",
   "execution_count": 197,
   "id": "fdd615c1",
   "metadata": {},
   "outputs": [
    {
     "data": {
      "text/plain": [
       "3"
      ]
     },
     "execution_count": 197,
     "metadata": {},
     "output_type": "execute_result"
    }
   ],
   "source": [
    "# check no. of elements\n",
    "len(fruits)"
   ]
  },
  {
   "cell_type": "code",
   "execution_count": 198,
   "id": "fac75c2e",
   "metadata": {},
   "outputs": [
    {
     "data": {
      "text/plain": [
       "'apple'"
      ]
     },
     "execution_count": 198,
     "metadata": {},
     "output_type": "execute_result"
    }
   ],
   "source": [
    "# get an element (positive index)\n",
    "fruits[0]"
   ]
  },
  {
   "cell_type": "code",
   "execution_count": 199,
   "id": "4d68559f",
   "metadata": {},
   "outputs": [
    {
     "data": {
      "text/plain": [
       "'cherry'"
      ]
     },
     "execution_count": 199,
     "metadata": {},
     "output_type": "execute_result"
    }
   ],
   "source": [
    "# get an element (negative index)\n",
    "fruits[-2]"
   ]
  },
  {
   "cell_type": "code",
   "execution_count": 200,
   "id": "49e02282",
   "metadata": {},
   "outputs": [
    {
     "data": {
      "text/plain": [
       "True"
      ]
     },
     "execution_count": 200,
     "metadata": {},
     "output_type": "execute_result"
    }
   ],
   "source": [
    "# check if it contains an element\n",
    "'dates' in fruits"
   ]
  },
  {
   "cell_type": "code",
   "execution_count": 201,
   "id": "1d1f71d5",
   "metadata": {},
   "outputs": [
    {
     "ename": "TypeError",
     "evalue": "'tuple' object does not support item assignment",
     "output_type": "error",
     "traceback": [
      "\u001b[0;31m---------------------------------------------------------------------------\u001b[0m",
      "\u001b[0;31mTypeError\u001b[0m                                 Traceback (most recent call last)",
      "\u001b[0;32m<ipython-input-201-eea1d48cc8b5>\u001b[0m in \u001b[0;36m<module>\u001b[0;34m\u001b[0m\n\u001b[1;32m      1\u001b[0m \u001b[0;31m# try to change an element\u001b[0m\u001b[0;34m\u001b[0m\u001b[0;34m\u001b[0m\u001b[0;34m\u001b[0m\u001b[0m\n\u001b[0;32m----> 2\u001b[0;31m \u001b[0mfruits\u001b[0m\u001b[0;34m[\u001b[0m\u001b[0;36m0\u001b[0m\u001b[0;34m]\u001b[0m \u001b[0;34m=\u001b[0m \u001b[0;34m'avocado'\u001b[0m\u001b[0;34m\u001b[0m\u001b[0;34m\u001b[0m\u001b[0m\n\u001b[0m",
      "\u001b[0;31mTypeError\u001b[0m: 'tuple' object does not support item assignment"
     ]
    }
   ],
   "source": [
    "# try to change an element\n",
    "fruits[0] = 'avocado'"
   ]
  },
  {
   "cell_type": "code",
   "execution_count": 202,
   "id": "d28beb75",
   "metadata": {},
   "outputs": [
    {
     "ename": "AttributeError",
     "evalue": "'tuple' object has no attribute 'append'",
     "output_type": "error",
     "traceback": [
      "\u001b[0;31m---------------------------------------------------------------------------\u001b[0m",
      "\u001b[0;31mAttributeError\u001b[0m                            Traceback (most recent call last)",
      "\u001b[0;32m<ipython-input-202-e5ea20adaaf8>\u001b[0m in \u001b[0;36m<module>\u001b[0;34m\u001b[0m\n\u001b[1;32m      1\u001b[0m \u001b[0;31m# try to append an element\u001b[0m\u001b[0;34m\u001b[0m\u001b[0;34m\u001b[0m\u001b[0;34m\u001b[0m\u001b[0m\n\u001b[0;32m----> 2\u001b[0;31m \u001b[0mfruits\u001b[0m\u001b[0;34m.\u001b[0m\u001b[0mappend\u001b[0m\u001b[0;34m(\u001b[0m\u001b[0;34m'blueberry'\u001b[0m\u001b[0;34m)\u001b[0m\u001b[0;34m\u001b[0m\u001b[0;34m\u001b[0m\u001b[0m\n\u001b[0m",
      "\u001b[0;31mAttributeError\u001b[0m: 'tuple' object has no attribute 'append'"
     ]
    }
   ],
   "source": [
    "# try to append an element\n",
    "fruits.append('blueberry')"
   ]
  },
  {
   "cell_type": "code",
   "execution_count": 203,
   "id": "ee9b8c3b",
   "metadata": {},
   "outputs": [
    {
     "ename": "AttributeError",
     "evalue": "'tuple' object has no attribute 'remove'",
     "output_type": "error",
     "traceback": [
      "\u001b[0;31m---------------------------------------------------------------------------\u001b[0m",
      "\u001b[0;31mAttributeError\u001b[0m                            Traceback (most recent call last)",
      "\u001b[0;32m<ipython-input-203-37543d45b6b4>\u001b[0m in \u001b[0;36m<module>\u001b[0;34m\u001b[0m\n\u001b[1;32m      1\u001b[0m \u001b[0;31m# try to remove an element\u001b[0m\u001b[0;34m\u001b[0m\u001b[0;34m\u001b[0m\u001b[0;34m\u001b[0m\u001b[0m\n\u001b[0;32m----> 2\u001b[0;31m \u001b[0mfruits\u001b[0m\u001b[0;34m.\u001b[0m\u001b[0mremove\u001b[0m\u001b[0;34m(\u001b[0m\u001b[0;34m'apple'\u001b[0m\u001b[0;34m)\u001b[0m\u001b[0;34m\u001b[0m\u001b[0;34m\u001b[0m\u001b[0m\n\u001b[0m",
      "\u001b[0;31mAttributeError\u001b[0m: 'tuple' object has no attribute 'remove'"
     ]
    }
   ],
   "source": [
    "# try to remove an element\n",
    "fruits.remove('apple')"
   ]
  },
  {
   "cell_type": "markdown",
   "id": "7ad54553",
   "metadata": {},
   "source": [
    "튜플을 생성하는 동안 괄호 `(` 및 `)`를 건너뛸 수도 있다.\n",
    "\n",
    "Python은 자동으로 쉼표로 구분된 값을 튜플로 변환한다."
   ]
  },
  {
   "cell_type": "code",
   "execution_count": 204,
   "id": "db740ca3",
   "metadata": {},
   "outputs": [
    {
     "data": {
      "text/plain": [
       "('Athos', 'Porthos', 'Aramis')"
      ]
     },
     "execution_count": 204,
     "metadata": {},
     "output_type": "execute_result"
    }
   ],
   "source": [
    "the_3_musketeers = 'Athos', 'Porthos', 'Aramis'\n",
    "the_3_musketeers"
   ]
  },
  {
   "cell_type": "code",
   "execution_count": 205,
   "id": "880b49ca",
   "metadata": {},
   "outputs": [
    {
     "data": {
      "text/plain": [
       "(4,)"
      ]
     },
     "execution_count": 205,
     "metadata": {},
     "output_type": "execute_result"
    }
   ],
   "source": [
    "single_element_tuple = 4,\n",
    "single_element_tuple"
   ]
  },
  {
   "cell_type": "code",
   "execution_count": 206,
   "id": "1b14c8fb",
   "metadata": {},
   "outputs": [
    {
     "data": {
      "text/plain": [
       "(4,)"
      ]
     },
     "execution_count": 206,
     "metadata": {},
     "output_type": "execute_result"
    }
   ],
   "source": [
    "another_single_element_tuple = (4,)\n",
    "another_single_element_tuple"
   ]
  },
  {
   "cell_type": "code",
   "execution_count": 207,
   "id": "4054ba47",
   "metadata": {},
   "outputs": [
    {
     "data": {
      "text/plain": [
       "4"
      ]
     },
     "execution_count": 207,
     "metadata": {},
     "output_type": "execute_result"
    }
   ],
   "source": [
    "not_a_tuple = (4)\n",
    "not_a_tuple"
   ]
  },
  {
   "cell_type": "markdown",
   "id": "cfe0af24",
   "metadata": {},
   "source": [
    "튜플은 종종 단일 문으로 여러 변수를 만드는 데 사용된다."
   ]
  },
  {
   "cell_type": "code",
   "execution_count": 209,
   "id": "09afb2b8",
   "metadata": {},
   "outputs": [],
   "source": [
    "point = (3, 4)"
   ]
  },
  {
   "cell_type": "code",
   "execution_count": 210,
   "id": "4eaebddd",
   "metadata": {},
   "outputs": [],
   "source": [
    "point_x, point_y = point"
   ]
  },
  {
   "cell_type": "code",
   "execution_count": 211,
   "id": "0bc5d4b6",
   "metadata": {},
   "outputs": [
    {
     "data": {
      "text/plain": [
       "3"
      ]
     },
     "execution_count": 211,
     "metadata": {},
     "output_type": "execute_result"
    }
   ],
   "source": [
    "point_x"
   ]
  },
  {
   "cell_type": "code",
   "execution_count": 212,
   "id": "45f9441e",
   "metadata": {},
   "outputs": [
    {
     "data": {
      "text/plain": [
       "4"
      ]
     },
     "execution_count": 212,
     "metadata": {},
     "output_type": "execute_result"
    }
   ],
   "source": [
    "point_y"
   ]
  },
  {
   "cell_type": "markdown",
   "id": "f4dd5d4a",
   "metadata": {},
   "source": [
    "`tuple` 함수를 사용하여 리스트를 튜플로 변환할 수 있으며, 그 반대로 `list` 함수를 사용하여 리스트로 변환할 수 있다."
   ]
  },
  {
   "cell_type": "code",
   "execution_count": 213,
   "id": "bfe7a970",
   "metadata": {},
   "outputs": [
    {
     "data": {
      "text/plain": [
       "('one', 'two', 'three')"
      ]
     },
     "execution_count": 213,
     "metadata": {},
     "output_type": "execute_result"
    }
   ],
   "source": [
    "tuple(['one', 'two', 'three'])"
   ]
  },
  {
   "cell_type": "code",
   "execution_count": 214,
   "id": "8a35b2bc",
   "metadata": {},
   "outputs": [
    {
     "data": {
      "text/plain": [
       "['Athos', 'Porthos', 'Aramis']"
      ]
     },
     "execution_count": 214,
     "metadata": {},
     "output_type": "execute_result"
    }
   ],
   "source": [
    "list(('Athos', 'Porthos', 'Aramis'))"
   ]
  },
  {
   "cell_type": "code",
   "execution_count": 215,
   "id": "e1bf02a3",
   "metadata": {},
   "outputs": [],
   "source": [
    "a_tuple = 23, \"hello\", False, None, 23, 37, \"hello\""
   ]
  },
  {
   "cell_type": "code",
   "execution_count": 217,
   "id": "ea7c8f29",
   "metadata": {},
   "outputs": [
    {
     "name": "stdout",
     "output_type": "stream",
     "text": [
      "Help on built-in function count:\n",
      "\n",
      "count(value, /) method of builtins.tuple instance\n",
      "    Return number of occurrences of value.\n",
      "\n"
     ]
    }
   ],
   "source": [
    "help(a_tuple.count)"
   ]
  },
  {
   "cell_type": "code",
   "execution_count": 218,
   "id": "f4edf3e3",
   "metadata": {},
   "outputs": [],
   "source": [
    "?a_tuple.index"
   ]
  },
  {
   "cell_type": "markdown",
   "id": "62f0d6d1",
   "metadata": {},
   "source": [
    "### Dictionary\n",
    "\n",
    "사전은 정렬되지 않은 아이템의 모음이다.\n",
    "\n",
    "사전에 저장된 각 아이템에는 키와 값이 있다.\n",
    "\n",
    "키를 사용하여 사전에서 해당 값을 검색할 수 있다.\n",
    "\n",
    "사전은 `dict` 유형으로 표시한다.\n",
    "\n",
    "사전은 종종 많은 정보를 저장하는 데 사용된다.\n",
    "\n",
    "사전은 중괄호 또는 중괄호 `{` 및 `}`로 키-값 쌍을 묶어서 만든다.\n",
    "또한, 사전은 `dict` 기능을 사용하여 만들 수도 있다."
   ]
  },
  {
   "cell_type": "code",
   "execution_count": 219,
   "id": "ed2ffb78",
   "metadata": {},
   "outputs": [],
   "source": [
    "person1 = {\n",
    "    'name': 'John Doe',\n",
    "    'sex': 'Male',\n",
    "    'age': 32,\n",
    "    'married': True\n",
    "}"
   ]
  },
  {
   "cell_type": "code",
   "execution_count": 221,
   "id": "308a7d80",
   "metadata": {},
   "outputs": [
    {
     "data": {
      "text/plain": [
       "{'name': 'John Doe', 'sex': 'Male', 'age': 32, 'married': True}"
      ]
     },
     "execution_count": 221,
     "metadata": {},
     "output_type": "execute_result"
    }
   ],
   "source": [
    "person1"
   ]
  },
  {
   "cell_type": "code",
   "execution_count": 223,
   "id": "9cf4f21d",
   "metadata": {},
   "outputs": [
    {
     "data": {
      "text/plain": [
       "{'name': 'Jane Judy', 'sex': 'Female', 'age': 28, 'married': False}"
      ]
     },
     "execution_count": 223,
     "metadata": {},
     "output_type": "execute_result"
    }
   ],
   "source": [
    "person2 = dict(name='Jane Judy', sex='Female', age=28, married=False)\n",
    "person2"
   ]
  },
  {
   "cell_type": "code",
   "execution_count": 224,
   "id": "af40bb5e",
   "metadata": {},
   "outputs": [
    {
     "data": {
      "text/plain": [
       "dict"
      ]
     },
     "execution_count": 224,
     "metadata": {},
     "output_type": "execute_result"
    }
   ],
   "source": [
    "type(person1)"
   ]
  },
  {
   "cell_type": "markdown",
   "id": "9c935707",
   "metadata": {},
   "source": [
    "키는 대괄호 `[` 및 `]`를 사용하여 값에 액세스하는 데 사용할 수 있다."
   ]
  },
  {
   "cell_type": "code",
   "execution_count": 226,
   "id": "e89c0561",
   "metadata": {},
   "outputs": [
    {
     "data": {
      "text/plain": [
       "'John Doe'"
      ]
     },
     "execution_count": 226,
     "metadata": {},
     "output_type": "execute_result"
    }
   ],
   "source": [
    "person1['name']"
   ]
  },
  {
   "cell_type": "code",
   "execution_count": 227,
   "id": "e212799e",
   "metadata": {},
   "outputs": [
    {
     "data": {
      "text/plain": [
       "True"
      ]
     },
     "execution_count": 227,
     "metadata": {},
     "output_type": "execute_result"
    }
   ],
   "source": [
    "person1['married']"
   ]
  },
  {
   "cell_type": "code",
   "execution_count": 228,
   "id": "ccced69d",
   "metadata": {},
   "outputs": [
    {
     "data": {
      "text/plain": [
       "'Jane Judy'"
      ]
     },
     "execution_count": 228,
     "metadata": {},
     "output_type": "execute_result"
    }
   ],
   "source": [
    "person2['name']"
   ]
  },
  {
   "cell_type": "code",
   "execution_count": 229,
   "id": "94f1ddc3",
   "metadata": {},
   "outputs": [
    {
     "ename": "KeyError",
     "evalue": "'address'",
     "output_type": "error",
     "traceback": [
      "\u001b[0;31m---------------------------------------------------------------------------\u001b[0m",
      "\u001b[0;31mKeyError\u001b[0m                                  Traceback (most recent call last)",
      "\u001b[0;32m<ipython-input-229-f2b8bd2476d4>\u001b[0m in \u001b[0;36m<module>\u001b[0;34m\u001b[0m\n\u001b[0;32m----> 1\u001b[0;31m \u001b[0mperson1\u001b[0m\u001b[0;34m[\u001b[0m\u001b[0;34m'address'\u001b[0m\u001b[0;34m]\u001b[0m\u001b[0;34m\u001b[0m\u001b[0;34m\u001b[0m\u001b[0m\n\u001b[0m",
      "\u001b[0;31mKeyError\u001b[0m: 'address'"
     ]
    }
   ],
   "source": [
    "person1['address']"
   ]
  },
  {
   "cell_type": "markdown",
   "id": "f646ec9d",
   "metadata": {},
   "source": [
    "`get` 메서드를 사용하여 키와 연결된 값에 액세스할 수도 있다.\n",
    "\n",
    "`get` 메서드는 키가 사전에 없으면 반환되는 기본 값도 허용한다."
   ]
  },
  {
   "cell_type": "code",
   "execution_count": 232,
   "id": "f9fb45d7",
   "metadata": {},
   "outputs": [
    {
     "data": {
      "text/plain": [
       "'Jane Judy'"
      ]
     },
     "execution_count": 232,
     "metadata": {},
     "output_type": "execute_result"
    }
   ],
   "source": [
    "person2.get(\"name\")"
   ]
  },
  {
   "cell_type": "code",
   "execution_count": 233,
   "id": "b5a29dba",
   "metadata": {},
   "outputs": [
    {
     "data": {
      "text/plain": [
       "'Unknown'"
      ]
     },
     "execution_count": 233,
     "metadata": {},
     "output_type": "execute_result"
    }
   ],
   "source": [
    "person2.get(\"address\", \"Unknown\")"
   ]
  },
  {
   "cell_type": "markdown",
   "id": "9f782623",
   "metadata": {},
   "source": [
    "`in` 연산자를 사용하여 사전에 키가 있는지 확인할 수 있다."
   ]
  },
  {
   "cell_type": "code",
   "execution_count": 234,
   "id": "61700f21",
   "metadata": {},
   "outputs": [
    {
     "data": {
      "text/plain": [
       "True"
      ]
     },
     "execution_count": 234,
     "metadata": {},
     "output_type": "execute_result"
    }
   ],
   "source": [
    "'name' in person1"
   ]
  },
  {
   "cell_type": "code",
   "execution_count": 235,
   "id": "c830b93b",
   "metadata": {},
   "outputs": [
    {
     "data": {
      "text/plain": [
       "False"
      ]
     },
     "execution_count": 235,
     "metadata": {},
     "output_type": "execute_result"
    }
   ],
   "source": [
    "'address' in person1"
   ]
  },
  {
   "cell_type": "code",
   "execution_count": 236,
   "id": "06018f39",
   "metadata": {},
   "outputs": [
    {
     "data": {
      "text/plain": [
       "False"
      ]
     },
     "execution_count": 236,
     "metadata": {},
     "output_type": "execute_result"
    }
   ],
   "source": [
    "person2['married']"
   ]
  },
  {
   "cell_type": "code",
   "execution_count": 237,
   "id": "8dfd5cb0",
   "metadata": {},
   "outputs": [],
   "source": [
    "person2['married'] = True"
   ]
  },
  {
   "cell_type": "code",
   "execution_count": 238,
   "id": "30d8d2d0",
   "metadata": {},
   "outputs": [
    {
     "data": {
      "text/plain": [
       "True"
      ]
     },
     "execution_count": 238,
     "metadata": {},
     "output_type": "execute_result"
    }
   ],
   "source": [
    "person2['married']"
   ]
  },
  {
   "cell_type": "code",
   "execution_count": 239,
   "id": "3138d981",
   "metadata": {},
   "outputs": [
    {
     "data": {
      "text/plain": [
       "{'name': 'John Doe', 'sex': 'Male', 'age': 32, 'married': True}"
      ]
     },
     "execution_count": 239,
     "metadata": {},
     "output_type": "execute_result"
    }
   ],
   "source": [
    "person1"
   ]
  },
  {
   "cell_type": "code",
   "execution_count": 240,
   "id": "c04e73d8",
   "metadata": {},
   "outputs": [],
   "source": [
    "person1['address'] = '1, Penny Lane'"
   ]
  },
  {
   "cell_type": "code",
   "execution_count": 241,
   "id": "068533c2",
   "metadata": {},
   "outputs": [
    {
     "data": {
      "text/plain": [
       "{'name': 'John Doe',\n",
       " 'sex': 'Male',\n",
       " 'age': 32,\n",
       " 'married': True,\n",
       " 'address': '1, Penny Lane'}"
      ]
     },
     "execution_count": 241,
     "metadata": {},
     "output_type": "execute_result"
    }
   ],
   "source": [
    "person1"
   ]
  },
  {
   "cell_type": "code",
   "execution_count": 242,
   "id": "1d57d1b6",
   "metadata": {},
   "outputs": [
    {
     "data": {
      "text/plain": [
       "'1, Penny Lane'"
      ]
     },
     "execution_count": 242,
     "metadata": {},
     "output_type": "execute_result"
    }
   ],
   "source": [
    "person1.pop('address')"
   ]
  },
  {
   "cell_type": "code",
   "execution_count": 243,
   "id": "dbd34d93",
   "metadata": {},
   "outputs": [
    {
     "data": {
      "text/plain": [
       "{'name': 'John Doe', 'sex': 'Male', 'age': 32, 'married': True}"
      ]
     },
     "execution_count": 243,
     "metadata": {},
     "output_type": "execute_result"
    }
   ],
   "source": [
    "person1"
   ]
  },
  {
   "cell_type": "code",
   "execution_count": 244,
   "id": "ad6909e4",
   "metadata": {},
   "outputs": [
    {
     "data": {
      "text/plain": [
       "dict_keys(['name', 'sex', 'age', 'married'])"
      ]
     },
     "execution_count": 244,
     "metadata": {},
     "output_type": "execute_result"
    }
   ],
   "source": [
    "person1.keys()"
   ]
  },
  {
   "cell_type": "code",
   "execution_count": 249,
   "id": "93d5e6f5",
   "metadata": {},
   "outputs": [
    {
     "data": {
      "text/plain": [
       "dict_values(['John Doe', 'Male', 32, True])"
      ]
     },
     "execution_count": 249,
     "metadata": {},
     "output_type": "execute_result"
    }
   ],
   "source": [
    "person1.values()"
   ]
  },
  {
   "cell_type": "code",
   "execution_count": 246,
   "id": "e6e3996f",
   "metadata": {},
   "outputs": [
    {
     "data": {
      "text/plain": [
       "dict_items([('name', 'John Doe'), ('sex', 'Male'), ('age', 32), ('married', True)])"
      ]
     },
     "execution_count": 246,
     "metadata": {},
     "output_type": "execute_result"
    }
   ],
   "source": [
    "person1.items()"
   ]
  },
  {
   "cell_type": "code",
   "execution_count": 247,
   "id": "cf8c5eeb",
   "metadata": {},
   "outputs": [
    {
     "ename": "TypeError",
     "evalue": "'dict_items' object is not subscriptable",
     "output_type": "error",
     "traceback": [
      "\u001b[0;31m---------------------------------------------------------------------------\u001b[0m",
      "\u001b[0;31mTypeError\u001b[0m                                 Traceback (most recent call last)",
      "\u001b[0;32m<ipython-input-247-b9fb361f2a9e>\u001b[0m in \u001b[0;36m<module>\u001b[0;34m\u001b[0m\n\u001b[0;32m----> 1\u001b[0;31m \u001b[0mperson1\u001b[0m\u001b[0;34m.\u001b[0m\u001b[0mitems\u001b[0m\u001b[0;34m(\u001b[0m\u001b[0;34m)\u001b[0m\u001b[0;34m[\u001b[0m\u001b[0;36m1\u001b[0m\u001b[0;34m]\u001b[0m\u001b[0;34m\u001b[0m\u001b[0;34m\u001b[0m\u001b[0m\n\u001b[0m",
      "\u001b[0;31mTypeError\u001b[0m: 'dict_items' object is not subscriptable"
     ]
    }
   ],
   "source": [
    "person1.items()[1]"
   ]
  },
  {
   "cell_type": "markdown",
   "id": "c7ccb144",
   "metadata": {},
   "source": [
    "`keys`, `values`, `items`의 결과는 리스트처럼 보인다.\n",
    "\n",
    "그러나 요소 검색을 위한 인덱싱 연산자 `[]`는 지원하지 않는다.\n",
    "\n",
    "특정 인덱스의 요소에 접근하려면 어떻게 해야할까요?\n",
    "*힌트: `list` 함수를 사용하세요*"
   ]
  },
  {
   "cell_type": "code",
   "execution_count": 254,
   "id": "6fe1cc84",
   "metadata": {},
   "outputs": [
    {
     "data": {
      "text/plain": [
       "('name', 'John Doe')"
      ]
     },
     "execution_count": 254,
     "metadata": {},
     "output_type": "execute_result"
    }
   ],
   "source": [
    "list(person1.items())[0]"
   ]
  },
  {
   "cell_type": "markdown",
   "id": "f5747226",
   "metadata": {},
   "source": [
    "사전은 다른 많은 메서드를 제공한다. (https://www.w3schools.com/python/python_ref_dictionary.asp)\n",
    "\n",
    "아래의 연습 문제를 풀어보세요.\n",
    "\n",
    "1. 사전을 생성하면서 같은 키를 여러번 사용하면 어떻게 되는지?\n",
    "2. 사전의 사본을 어떻게 만들 수 있는가?(사본을 수정해도 원본이 변경되지 않아야함)\n",
    "3. 한 사전의 키-값 쌍을 다른 사전에 어떻게 추가할 수 있습니까? *update 메서드를 참고할 것*\n",
    "4. 사전의 키는 숫자, 부울, 리스트와 같이 문자열이 아닌 다른것이 될 수있나요?"
   ]
  },
  {
   "cell_type": "code",
   "execution_count": 258,
   "id": "94a81dd7",
   "metadata": {},
   "outputs": [
    {
     "data": {
      "text/plain": [
       "{'name': 'John Doe', 'sex': 'Male', 'age': 32, 'married': True}"
      ]
     },
     "execution_count": 258,
     "metadata": {},
     "output_type": "execute_result"
    }
   ],
   "source": [
    "#1\n",
    "person1 = {\n",
    "    'name': 'John Doe',\n",
    "    'sex': 'Male',\n",
    "    'age': 34,\n",
    "    'age': 32,\n",
    "    'married': True\n",
    "}\n",
    "person1"
   ]
  },
  {
   "cell_type": "code",
   "execution_count": 261,
   "id": "db12f243",
   "metadata": {},
   "outputs": [
    {
     "data": {
      "text/plain": [
       "{'name': 'John Doe', 'sex': 'Male', 'age': 32}"
      ]
     },
     "execution_count": 261,
     "metadata": {},
     "output_type": "execute_result"
    }
   ],
   "source": [
    "#2\n",
    "person_copy=person1.copy()\n",
    "person_copy.pop('married')\n",
    "person_copy"
   ]
  },
  {
   "cell_type": "code",
   "execution_count": 262,
   "id": "a17587a3",
   "metadata": {},
   "outputs": [
    {
     "data": {
      "text/plain": [
       "{'name': 'John Doe', 'sex': 'Male', 'age': 32, 'married': True}"
      ]
     },
     "execution_count": 262,
     "metadata": {},
     "output_type": "execute_result"
    }
   ],
   "source": [
    "person1"
   ]
  },
  {
   "cell_type": "code",
   "execution_count": 263,
   "id": "dae68cae",
   "metadata": {},
   "outputs": [],
   "source": [
    "#3\n",
    "car = {\n",
    "  \"brand\": \"Ford\",\n",
    "  \"model\": \"Mustang\",\n",
    "  \"year\": 1964\n",
    "}\n",
    "\n",
    "car.update({\"color\": \"White\"})"
   ]
  },
  {
   "cell_type": "code",
   "execution_count": 264,
   "id": "02b4e31f",
   "metadata": {},
   "outputs": [
    {
     "data": {
      "text/plain": [
       "{'brand': 'Ford', 'model': 'Mustang', 'year': 1964, 'color': 'White'}"
      ]
     },
     "execution_count": 264,
     "metadata": {},
     "output_type": "execute_result"
    }
   ],
   "source": [
    "car"
   ]
  },
  {
   "cell_type": "code",
   "execution_count": 267,
   "id": "26639213",
   "metadata": {},
   "outputs": [
    {
     "ename": "SyntaxError",
     "evalue": "invalid syntax (<ipython-input-267-b6532739220b>, line 6)",
     "output_type": "error",
     "traceback": [
      "\u001b[0;36m  File \u001b[0;32m\"<ipython-input-267-b6532739220b>\"\u001b[0;36m, line \u001b[0;32m6\u001b[0m\n\u001b[0;31m    1: 2\u001b[0m\n\u001b[0m    ^\u001b[0m\n\u001b[0;31mSyntaxError\u001b[0m\u001b[0;31m:\u001b[0m invalid syntax\n"
     ]
    }
   ],
   "source": [
    "#4\n",
    "car = {\n",
    "  \"brand\": \"Ford\",\n",
    "  \"model\": \"Mustang\",\n",
    "  \"year\": 1964\n",
    "  1: 2\n",
    "}"
   ]
  },
  {
   "cell_type": "code",
   "execution_count": null,
   "id": "2c96b11d",
   "metadata": {},
   "outputs": [],
   "source": []
  }
 ],
 "metadata": {
  "kernelspec": {
   "display_name": "Python 3",
   "language": "python",
   "name": "python3"
  },
  "language_info": {
   "codemirror_mode": {
    "name": "ipython",
    "version": 3
   },
   "file_extension": ".py",
   "mimetype": "text/x-python",
   "name": "python",
   "nbconvert_exporter": "python",
   "pygments_lexer": "ipython3",
   "version": "3.8.8"
  }
 },
 "nbformat": 4,
 "nbformat_minor": 5
}
