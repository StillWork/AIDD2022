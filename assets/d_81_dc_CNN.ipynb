{
  "cells": [
    {
      "cell_type": "markdown",
      "metadata": {
        "id": "BF52m1rPU9Ll"
      },
      "source": [
        "# MNIST\n",
        "## 모델을 직접 만드는 방법"
      ]
    },
    {
      "cell_type": "code",
      "execution_count": 3,
      "metadata": {
        "colab": {
          "base_uri": "https://localhost:8080/"
        },
        "id": "J35YYNuiVGC-",
        "outputId": "fb255725-44e7-4e49-8f95-81933b8f0f7c"
      },
      "outputs": [
        {
          "output_type": "stream",
          "name": "stdout",
          "text": [
            "Collecting deepchem\n",
            "  Downloading deepchem-2.6.1-py3-none-any.whl (608 kB)\n",
            "\u001b[K     |████████████████████████████████| 608 kB 3.8 MB/s \n",
            "\u001b[?25hRequirement already satisfied: numpy>=1.21 in /usr/local/lib/python3.7/dist-packages (from deepchem) (1.21.6)\n",
            "Requirement already satisfied: joblib in /usr/local/lib/python3.7/dist-packages (from deepchem) (1.1.0)\n",
            "Requirement already satisfied: scikit-learn in /usr/local/lib/python3.7/dist-packages (from deepchem) (1.0.2)\n",
            "Requirement already satisfied: pandas in /usr/local/lib/python3.7/dist-packages (from deepchem) (1.3.5)\n",
            "Requirement already satisfied: scipy in /usr/local/lib/python3.7/dist-packages (from deepchem) (1.4.1)\n",
            "Collecting rdkit-pypi\n",
            "  Downloading rdkit_pypi-2022.3.2-cp37-cp37m-manylinux_2_17_x86_64.manylinux2014_x86_64.whl (22.5 MB)\n",
            "\u001b[K     |████████████████████████████████| 22.5 MB 1.4 MB/s \n",
            "\u001b[?25hRequirement already satisfied: pytz>=2017.3 in /usr/local/lib/python3.7/dist-packages (from pandas->deepchem) (2022.1)\n",
            "Requirement already satisfied: python-dateutil>=2.7.3 in /usr/local/lib/python3.7/dist-packages (from pandas->deepchem) (2.8.2)\n",
            "Requirement already satisfied: six>=1.5 in /usr/local/lib/python3.7/dist-packages (from python-dateutil>=2.7.3->pandas->deepchem) (1.15.0)\n",
            "Requirement already satisfied: Pillow in /usr/local/lib/python3.7/dist-packages (from rdkit-pypi->deepchem) (7.1.2)\n",
            "Requirement already satisfied: threadpoolctl>=2.0.0 in /usr/local/lib/python3.7/dist-packages (from scikit-learn->deepchem) (3.1.0)\n",
            "Installing collected packages: rdkit-pypi, deepchem\n",
            "Successfully installed deepchem-2.6.1 rdkit-pypi-2022.3.2\n"
          ]
        }
      ],
      "source": [
        "!pip install deepchem"
      ]
    },
    {
      "cell_type": "code",
      "execution_count": 4,
      "metadata": {
        "id": "uIPgEqyrU0-V",
        "colab": {
          "base_uri": "https://localhost:8080/"
        },
        "outputId": "9eb80e10-3e12-4223-e03d-6ce64e3e0f43"
      },
      "outputs": [
        {
          "output_type": "stream",
          "name": "stdout",
          "text": [
            "Downloading data from https://storage.googleapis.com/tensorflow/tf-keras-datasets/mnist.npz\n",
            "11493376/11490434 [==============================] - 1s 0us/step\n",
            "11501568/11490434 [==============================] - 1s 0us/step\n"
          ]
        }
      ],
      "source": [
        "# Train a model to recognize handwritten digits.\n",
        "\n",
        "import deepchem as dc\n",
        "import tensorflow as tf\n",
        "import tensorflow.keras.layers as layers\n",
        "\n",
        "# Load the dataset and convert the labels to one-hot.\n",
        "\n",
        "(x_train, y_train), (x_test, y_test) = tf.keras.datasets.mnist.load_data()\n",
        "y_train = tf.one_hot(y_train, 10).numpy()\n",
        "y_test = tf.one_hot(y_test, 10).numpy()\n",
        "\n",
        "# NumpyDataset를 이용해 훈련데이터와 검증 데이터셋을 만든다\n",
        "train_dataset = dc.data.NumpyDataset(x_train, y_train)\n",
        "test_dataset = dc.data.NumpyDataset(x_test, y_test)\n"
      ]
    },
    {
      "cell_type": "code",
      "source": [
        "x_train.shape"
      ],
      "metadata": {
        "colab": {
          "base_uri": "https://localhost:8080/"
        },
        "id": "lzmnOGH5bQbV",
        "outputId": "7ae39272-6dca-41d4-d20c-9a25d30c141b"
      },
      "execution_count": 5,
      "outputs": [
        {
          "output_type": "execute_result",
          "data": {
            "text/plain": [
              "(60000, 28, 28)"
            ]
          },
          "metadata": {},
          "execution_count": 5
        }
      ]
    },
    {
      "cell_type": "code",
      "source": [
        "train_dataset"
      ],
      "metadata": {
        "colab": {
          "base_uri": "https://localhost:8080/"
        },
        "id": "NOKpwzV_bj5p",
        "outputId": "49dadd9e-be9b-4bd8-8e24-943f9bad74ee"
      },
      "execution_count": 6,
      "outputs": [
        {
          "output_type": "execute_result",
          "data": {
            "text/plain": [
              "<NumpyDataset X.shape: (60000, 28, 28), y.shape: (60000, 10), w.shape: (60000, 1), task_names: [0 1 2 3 4 5 6 7 8 9]>"
            ]
          },
          "metadata": {},
          "execution_count": 6
        }
      ]
    },
    {
      "cell_type": "markdown",
      "source": [
        ""
      ],
      "metadata": {
        "id": "NM5u3Pfmbjpx"
      }
    },
    {
      "cell_type": "code",
      "source": [
        "\n",
        "# Build the model.\n",
        "\n",
        "features = tf.keras.Input(shape=(28, 28, 1))\n",
        "conv2d_1 = layers.Conv2D(filters=32, kernel_size=5, activation=tf.nn.relu)(features)\n",
        "conv2d_2 = layers.Conv2D(filters=64, kernel_size=5, activation=tf.nn.relu)(conv2d_1)\n",
        "flatten = layers.Flatten()(conv2d_2)\n",
        "dense1 = layers.Dense(units=1024, activation=tf.nn.relu)(flatten)\n",
        "dense2 = layers.Dense(units=10, activation=None)(dense1)\n",
        "output = layers.Activation(tf.math.softmax)(dense2)\n",
        "keras_model = tf.keras.Model(inputs=features, outputs=[output, dense2])\n",
        "model = dc.models.KerasModel(\n",
        "    keras_model,\n",
        "    loss=dc.models.losses.SoftmaxCrossEntropy(),\n",
        "    output_types=['prediction', 'loss'],\n",
        "    model_dir='mnist')   # 모델의 계수를 저장할 폴더 지정 (없으면 저장아 안된다)\n",
        "\n",
        "# Train the model.\n",
        "\n",
        "model.fit(train_dataset, nb_epoch=10)\n",
        "\n",
        "# Evaluate it on the training and test sets.\n",
        "\n",
        "metric = dc.metrics.Metric(dc.metrics.accuracy_score)\n",
        "train_scores = model.evaluate(train_dataset, [metric])\n",
        "test_scores = model.evaluate(test_dataset, [metric])\n",
        "print(train_scores)\n",
        "print(test_scores)"
      ],
      "metadata": {
        "colab": {
          "base_uri": "https://localhost:8080/"
        },
        "id": "a-QWOvImbLvr",
        "outputId": "2ee2981c-52f7-484e-dbdc-03233f02d648"
      },
      "execution_count": 7,
      "outputs": [
        {
          "output_type": "stream",
          "name": "stdout",
          "text": [
            "{'accuracy_score': 0.9992733333333333}\n",
            "{'accuracy_score': 0.99603}\n"
          ]
        }
      ]
    }
  ],
  "metadata": {
    "accelerator": "GPU",
    "colab": {
      "name": "d_81_dc_CNN.ipynb",
      "provenance": [],
      "collapsed_sections": []
    },
    "kernelspec": {
      "display_name": "Python 3",
      "name": "python3"
    },
    "language_info": {
      "name": "python"
    }
  },
  "nbformat": 4,
  "nbformat_minor": 0
}