{
 "cells": [
  {
   "cell_type": "markdown",
   "id": "d758fe53",
   "metadata": {},
   "source": [
    "# 1주차 Python과 Jupyter\n",
    "## 이 노트북에서 다룰 내용\n",
    "1. 파이썬 산술 연산\n",
    "2. 변수 사용법\n",
    "3. 파이썬 조건문\n",
    "4. 논리 연산을 사용한 조건문 조합\n",
    "5. 마크다운 사용법\n",
    "\n",
    "![](https://i.imgur.com/gvSnw4A.png)\n",
    "\n"
   ]
  },
  {
   "cell_type": "markdown",
   "id": "63431f68",
   "metadata": {},
   "source": [
    "## 코드를 실행하려면\n",
    "\n",
    "향후 우리 강의에서 제공될 ipynb 확장자 파일들은 [Jupyter notebook](https://jupyter.org)에서 실행시킬 수 있다. 데이터와 모델을 직접 다루기 위해 Python 프로그래밍 언어를 배울 필요가 있다. 이런 언어에 친숙해지려면 제공되는 코드를 직접 실행해보는 것이 가장 좋다.\n",
    "코드를 실행하는 방법에는 온라인 플랫폼을 사용하는 방법과 개인 PC를 사용하는 방법 2가지가 있다.\n",
    "\n",
    "\n",
    "### 1: 무료 온라인 플랫폼에서 실행하기\n",
    "\n",
    "구글 코랩을 사용하는 것이 가장 빠르게 코드를 실행하는 방법이다. 강의에서 제공하는 github 주소 또는 파일을 가지고 있다면, 구글 코랩[Google Colab](https://colab.research.google.com)에 파일을 불러와 제공된 코드를 바로 실행할 수 있다. 다만, 향후 다양한 라이브러리를 요구할때, 재접속 시 마다 패키지를 다시 설치해줘야 한다.\n",
    "\n",
    "\n",
    "### 2: 로컬 컴퓨터에서 실행하기\n",
    "\n",
    "로컬 컴퓨터에서도 코드를 실행할 수 있는데 그 방법이 1번 방법에 비해 상대적으로 복잡하다. 데이터 분석을 위한 라이브러리들을 모아놓은 아나콘다를 사용하는 것이 로컬 컴퓨터에서 가장 빠르게 실습환경을 구축하는 방법이다[Anaconda](https://docs.conda.io/projects/conda/en/latest/user-guide/install/). 아나콘다에는 Jupyter Notebook 패키지가 설치되어 있고, Anaconda Navigator를 사용하여 주피터를 실행시킬 수 있다. 로컬 컴퓨터에서의 주피터의 단점은 localhost라는 주소로만 접속이 가능하다는 것이고 즉, 같은 PC에서만 주피터 노트북에 접속할 수 있다는 것이다. [주피터 외부 접속](https://www.google.com/search?q=%EC%A3%BC%ED%94%BC%ED%84%B0+%EC%99%B8%EB%B6%80+%EC%A0%91%EC%86%8D+%EC%84%A4%EC%A0%95&sourceid=chrome&ie=UTF-8)이라는 키워드로 구글에 검색하면 그 세팅 방법이 나와있으니 외부접속까지 설정할 수강생들은 이를 활용해도 좋다.\n",
    "\n",
    ">  **Jupyter Notebooks**: 주피터 노트북은 _cell_들로 구성된 문서이다. 각각의 셀에는 Python으로 작성된 코드나 마크다운(텍스트 추가 가능)을 사용할 수 있다. 코드 셀을 실행하면 노트북 내의 숫자, 메시지, 그래프, 테이블, 파일 등의 결과를 바로 확인할 수 있다(전통적인 코드 스타일과 다름). 이런 이유에서 주피터 노트북은 데이터 분석가들에게 주목받게 되었고 여전히 많이 사용되는 플랫폼이다. "
   ]
  },
  {
   "cell_type": "markdown",
   "id": "cd0e5684",
   "metadata": {},
   "source": [
    "## Python에서 산술 연산을 수행\n",
    "\n",
    "파이썬 언어로 숫자 계산을 수행해 봅시다. 앞의 실습 환경이 갖추어진 학생은 주피터내에 코드 셀을 사용해 Python 코드를 작성하고 실행할 수 있다.\n",
    "\n",
    "> **셀 작업**: 주피터에서 새로운 셀을 추가하기 위해서는, 메뉴 모음에서 \"Insert > Insert Cell Below\"을 선택하거나 도구모음에서 \"+\" 버튼을 누르면 된다. 키보드 단축키로는 Esc+B를 사용해 새로운 셀을 생성할 수 있다(Esc+A도 가능한데 이것은 위에 셀을 생성함). 셀이 생성되면 해당 셀을 클릭하여 선택한다. 그런다음 \"Cell > Cell Type\" 메뉴 옵션을 사용하여 셀 유형을 코드 or 마크다운(텍스트)로 변경할 수 있다. \"Esc+Y(코드 모드)\", Esc+M(마크다운 모드)\"의 단축키를 사용할 수도 있다. 그런 다음 셀을 더블 클릭해 셀안의 내용을 편집할 수 있다. 변경사항을 적용하고 셀을 실행하려면 \"Cell > Run Cells\" 메뉴 옵션을 사용하거나 도구모음에서 \"Run\"버튼을 클릭하거나 \"Shift+Enter\" 단축키를 사용하면 된다. \"Help > Keyboard Shortcuts\" 메뉴 옵션을 사용해 전체 단축키 목록을 볼 수 있다. \n",
    "\n",
    "아래의 코드 셀을 실행해 계산을 수행하고 그 결과를 바로 출력해 봅시다. 숫자를 변경하고 수정된 셀을 다시 실행하여 업데이트된 결과를 확인해보세요."
   ]
  },
  {
   "cell_type": "code",
   "execution_count": 69,
   "id": "e7b11bbf",
   "metadata": {},
   "outputs": [
    {
     "data": {
      "text/plain": [
       "14"
      ]
     },
     "execution_count": 69,
     "metadata": {},
     "output_type": "execute_result"
    }
   ],
   "source": [
    "2 + 3 + 9"
   ]
  },
  {
   "cell_type": "code",
   "execution_count": 71,
   "id": "4a3837ed",
   "metadata": {},
   "outputs": [
    {
     "data": {
      "text/plain": [
       "26"
      ]
     },
     "execution_count": 71,
     "metadata": {},
     "output_type": "execute_result"
    }
   ],
   "source": [
    "99 - 73"
   ]
  },
  {
   "cell_type": "code",
   "execution_count": 73,
   "id": "446ead64",
   "metadata": {},
   "outputs": [
    {
     "data": {
      "text/plain": [
       "-33709.28"
      ]
     },
     "execution_count": 73,
     "metadata": {},
     "output_type": "execute_result"
    }
   ],
   "source": [
    "23.54 * -1432"
   ]
  },
  {
   "cell_type": "code",
   "execution_count": 74,
   "id": "1a9a22f8",
   "metadata": {},
   "outputs": [
    {
     "data": {
      "text/plain": [
       "14.285714285714286"
      ]
     },
     "execution_count": 74,
     "metadata": {},
     "output_type": "execute_result"
    }
   ],
   "source": [
    "100 / 7"
   ]
  },
  {
   "cell_type": "code",
   "execution_count": 75,
   "id": "7f3e5ed5",
   "metadata": {},
   "outputs": [
    {
     "data": {
      "text/plain": [
       "14"
      ]
     },
     "execution_count": 75,
     "metadata": {},
     "output_type": "execute_result"
    }
   ],
   "source": [
    "100 // 7"
   ]
  },
  {
   "cell_type": "code",
   "execution_count": 76,
   "id": "b6ce3136",
   "metadata": {},
   "outputs": [
    {
     "data": {
      "text/plain": [
       "2"
      ]
     },
     "execution_count": 76,
     "metadata": {},
     "output_type": "execute_result"
    }
   ],
   "source": [
    "100 % 7"
   ]
  },
  {
   "cell_type": "code",
   "execution_count": 77,
   "id": "c749670e",
   "metadata": {},
   "outputs": [
    {
     "data": {
      "text/plain": [
       "125"
      ]
     },
     "execution_count": 77,
     "metadata": {},
     "output_type": "execute_result"
    }
   ],
   "source": [
    "5 ** 3"
   ]
  },
  {
   "cell_type": "code",
   "execution_count": 78,
   "id": "99be518b",
   "metadata": {
    "scrolled": true
   },
   "outputs": [
    {
     "data": {
      "text/plain": [
       "1.53125"
      ]
     },
     "execution_count": 78,
     "metadata": {},
     "output_type": "execute_result"
    }
   ],
   "source": [
    "((2 + 5) * (17 - 3)) / (4 ** 3)"
   ]
  },
  {
   "cell_type": "markdown",
   "id": "92acb6e8",
   "metadata": {},
   "source": [
    "파이썬이 지원하는 연산자:\n",
    "\n",
    "| Operator   | Purpose           | Example     | Result    |\n",
    "|------------|-------------------|-------------|-----------|\n",
    "| `+`        | 더하기            | `2 + 3`     | `5`       |\n",
    "| `-`        | 빼기              | `3 - 2`     | `1`       |\n",
    "| `*`        | 곱하기            | `8 * 12`    | `96`      |\n",
    "| `/`        | 나누기            | `100 / 7`   | `14.28..` |\n",
    "| `//`       | 몫구하기          | `100 // 7`  | `14`      |    \n",
    "| `%`        | 나머지 구하기     | `100 % 7`   | `2`       |\n",
    "| `**`       | 거듭제곱          | `5 ** 3`    | `125`     |\n",
    "\n",
    "\n",
    "코드를 사용해서 첨부한 링크의 문제를 해결해보자.\n",
    "https://www.math-only-math.com/worksheet-on-word-problems-on-four-operations.html . \n",
    "\n",
    "아래에 빈 셀을 생성해서 문제 해결을 위한 코드와 그 정답을 출력해봅시다."
   ]
  },
  {
   "cell_type": "markdown",
   "id": "e1e8c6b5",
   "metadata": {},
   "source": [
    "### 1번 예시\n",
    "1. The population of a town is 198568. Out of them 45312 are men and 35678 are women. Find the number of children in the town."
   ]
  },
  {
   "cell_type": "code",
   "execution_count": 80,
   "id": "9cba96dc",
   "metadata": {},
   "outputs": [
    {
     "data": {
      "text/plain": [
       "117578"
      ]
     },
     "execution_count": 80,
     "metadata": {},
     "output_type": "execute_result"
    }
   ],
   "source": [
    "198568-45312-35678"
   ]
  },
  {
   "cell_type": "code",
   "execution_count": null,
   "id": "0e1e30f9",
   "metadata": {},
   "outputs": [],
   "source": []
  },
  {
   "cell_type": "code",
   "execution_count": null,
   "id": "11313599",
   "metadata": {},
   "outputs": [],
   "source": []
  },
  {
   "cell_type": "code",
   "execution_count": null,
   "id": "a0943c68",
   "metadata": {},
   "outputs": [],
   "source": []
  },
  {
   "cell_type": "markdown",
   "id": "9e146748",
   "metadata": {},
   "source": [
    "## 변수를 사용한 문제 해결\n",
    "\n",
    "코드를 사용하여 아래의 문제를 해결해봅시다.\n",
    "\n",
    "> 식료품점에서 얼음 한 봉지를 1.25$에 팔고 20%의 이익을 얻습니다. 얼음 500봉지를 판다면 총 이익은 얼마입니까?\n",
    "\n",
    "*얼음 한봉지 비용(cost_of_ice_bag) ($)* = 1.25\n",
    "\n",
    "*이익률(profit margi)* = 20% = .2\n",
    "\n",
    "*봉지당 이익($)* = profit_margin * cost of ice bag = .2 * 1.25\n",
    "\n",
    "*봉지의 수(number_of_bags)* = 500\n",
    "\n",
    "*Total_profit* = 봉지의 수 * 봉지당 이익 = 500 * (.2 * 1.25)"
   ]
  },
  {
   "cell_type": "code",
   "execution_count": 84,
   "id": "1a4132d4",
   "metadata": {},
   "outputs": [
    {
     "data": {
      "text/plain": [
       "125.0"
      ]
     },
     "execution_count": 84,
     "metadata": {},
     "output_type": "execute_result"
    }
   ],
   "source": [
    "500 * (.2 * 1.25)"
   ]
  },
  {
   "cell_type": "code",
   "execution_count": 81,
   "id": "238da2e0",
   "metadata": {},
   "outputs": [],
   "source": [
    "cost_of_ice_bag = 1.25"
   ]
  },
  {
   "cell_type": "code",
   "execution_count": 82,
   "id": "f36257c7",
   "metadata": {},
   "outputs": [],
   "source": [
    "profit_margin = .2"
   ]
  },
  {
   "cell_type": "code",
   "execution_count": 83,
   "id": "ecaff2e4",
   "metadata": {},
   "outputs": [],
   "source": [
    "number_of_bags = 500"
   ]
  },
  {
   "cell_type": "markdown",
   "id": "10db2403",
   "metadata": {},
   "source": [
    "위처럼 변수 선언 후에는 변수 cost_of_ice_bag, profit_margin, number_of_bags에는 각각의 값이 포함된다."
   ]
  },
  {
   "cell_type": "code",
   "execution_count": 85,
   "id": "1cdf2863",
   "metadata": {},
   "outputs": [
    {
     "data": {
      "text/plain": [
       "0.2"
      ]
     },
     "execution_count": 85,
     "metadata": {},
     "output_type": "execute_result"
    }
   ],
   "source": [
    "profit_margin\n"
   ]
  },
  {
   "cell_type": "code",
   "execution_count": 89,
   "id": "a66e3d32",
   "metadata": {},
   "outputs": [
    {
     "data": {
      "text/plain": [
       "0.25"
      ]
     },
     "execution_count": 89,
     "metadata": {},
     "output_type": "execute_result"
    }
   ],
   "source": [
    "profit_per_bag = cost_of_ice_bag * profit_margin\n",
    "profit_per_bag"
   ]
  },
  {
   "cell_type": "code",
   "execution_count": 92,
   "id": "c70ebe3b",
   "metadata": {},
   "outputs": [
    {
     "data": {
      "text/plain": [
       "125.0"
      ]
     },
     "execution_count": 92,
     "metadata": {},
     "output_type": "execute_result"
    }
   ],
   "source": [
    "total_profit = number_of_bags * profit_per_bag\n",
    "total_profit"
   ]
  },
  {
   "cell_type": "markdown",
   "id": "363f0332",
   "metadata": {},
   "source": [
    "만약 정의되지 않은 변수의 값을 보려고 한다면 오류를 출력합니다."
   ]
  },
  {
   "cell_type": "code",
   "execution_count": 93,
   "id": "ce6d7e4c",
   "metadata": {},
   "outputs": [
    {
     "ename": "NameError",
     "evalue": "name 'net_profit' is not defined",
     "output_type": "error",
     "traceback": [
      "\u001b[0;31m---------------------------------------------------------------------------\u001b[0m",
      "\u001b[0;31mNameError\u001b[0m                                 Traceback (most recent call last)",
      "\u001b[0;32m<ipython-input-93-5eb2b296f798>\u001b[0m in \u001b[0;36m<module>\u001b[0;34m\u001b[0m\n\u001b[0;32m----> 1\u001b[0;31m \u001b[0mnet_profit\u001b[0m\u001b[0;34m\u001b[0m\u001b[0;34m\u001b[0m\u001b[0m\n\u001b[0m",
      "\u001b[0;31mNameError\u001b[0m: name 'net_profit' is not defined"
     ]
    }
   ],
   "source": [
    "net_profit"
   ]
  },
  {
   "cell_type": "markdown",
   "id": "542fdfbb",
   "metadata": {},
   "source": [
    "변수에 적절한 이름부여하여 변수에 데이터를 저장하는 것은 코드의 가독성을 향상시키는 좋은 방법이다. 'print' 함수를 사용해 우리가 구한 변수 \"total_profit\"을 출력할 수 있다.\n",
    "> **함수 function**: 함수는 재사용 가능한 명령어 집합을 말한다. 하나 이상의 입력을 받고 특정 작업을 수행한 후 출력을 반환한다. Python은 'print'와 같은 내장 함수를 제공하고, 사용자가 함수를 생성할 수 있다."
   ]
  },
  {
   "cell_type": "code",
   "execution_count": 94,
   "id": "56e501e6",
   "metadata": {},
   "outputs": [
    {
     "name": "stdout",
     "output_type": "stream",
     "text": [
      "The grocery store makes a total profit of $ 125.0\n"
     ]
    }
   ],
   "source": [
    "print(\"The grocery store makes a total profit of $\", total_profit)"
   ]
  },
  {
   "cell_type": "markdown",
   "id": "2924a241",
   "metadata": {},
   "source": [
    "> **`print`**: `print`함수는 정보를 표시할때 사용한다. 텍스트, 숫자, 변수, 수학적 표현식 등의 하나 이상의 입력을 받는다.\n",
    "\n",
    "주피터의 하나의 코드 셀에는 여러 줄의 코드를 작성할 수 있다. 또한 셀 내의 마지막 코드 행의 결과가 자동적으로 출력된다. 위에서 했던 문제의 솔루션을 단일셀에 모두 입력해보자."
   ]
  },
  {
   "cell_type": "code",
   "execution_count": 96,
   "id": "eef42125",
   "metadata": {},
   "outputs": [
    {
     "name": "stdout",
     "output_type": "stream",
     "text": [
      "The grocery store makes a total profit of $ 125.0\n"
     ]
    }
   ],
   "source": [
    "# 입력 데이터를 변수에 저장\n",
    "cost_of_ice_bag = 1.25\n",
    "profit_margin = .2\n",
    "number_of_bags = 500\n",
    "\n",
    "# 필요한 계산을 수행\n",
    "profit_per_bag = cost_of_ice_bag * profit_margin\n",
    "total_profit = number_of_bags * profit_per_bag\n",
    "\n",
    "# 결과를 출력\n",
    "print(\"The grocery store makes a total profit of $\", total_profit)"
   ]
  },
  {
   "cell_type": "markdown",
   "id": "66363571",
   "metadata": {},
   "source": [
    "우리의 코드안에서는 설명 또는 주석을 추가하기 위해 `#` 문자를 사용했다.\n",
    "\n",
    "> **주석(Comments)**: 주석과 비어있는 줄은 코드 실행에서 무시되지만 코드가 수행하는 작업에 대한 정보를 사람(자신을 포함해)에게 전달하는데 유용하다. 주석은 일부 코드의 앞 또는 뒤에 여러줄에 걸쳐 작성될 수 있다.\n",
    "\n",
    "한줄 주석은 `#` 으로 시작하고, 여러줄 주석은 세개의 따옴표 `\"\"\"`로 시작하고 끝난다."
   ]
  },
  {
   "cell_type": "code",
   "execution_count": 97,
   "id": "d38b238d",
   "metadata": {},
   "outputs": [],
   "source": [
    "lucky_number = 7 # 한줄짜리 주석"
   ]
  },
  {
   "cell_type": "code",
   "execution_count": 98,
   "id": "f9822910",
   "metadata": {},
   "outputs": [],
   "source": [
    "# 한줄짜리 주석\n",
    "lucky_number = 7 "
   ]
  },
  {
   "cell_type": "code",
   "execution_count": 100,
   "id": "75f976ad",
   "metadata": {},
   "outputs": [],
   "source": [
    "\"\"\"이건 여러 줄 주석이다.\n",
    "원하는 만큼 주석을 적을 수 있다.\n",
    "주석은 코드를 읽는 사람들에 도움을 줄 수 있다.\n",
    "코드는 짧고 간결하게 작성하고 주석은 자세하게 설명하는 것이 좋다.\n",
    "앞서 말한 것처럼 좋은 이름의 변수 명명법을 사용한다면, 코드에 대한 주석이 필요 없을 수도 있다.\n",
    "\"\"\"\n",
    "a_neutral_number = 5"
   ]
  },
  {
   "cell_type": "markdown",
   "id": "e3181c1e",
   "metadata": {},
   "source": [
    "> **연습문제**: 패키지 여행 회사에서는 괌으로 패키지 여행을 떠나려고 합니다. 비행기를 타는데 50,000,000원이 든다. 지금까지 패키지 여행 신청객은 29명입니다. 여행 회사에서 티겟당 여행객에게 2,000,000을 청구하면 회사에서 벌어들이는 이윤은 얼마입니까? (각 숫자에 대한 변수를 만들고 적절한 산술 연산을 사용하세요.)"
   ]
  },
  {
   "cell_type": "code",
   "execution_count": 110,
   "id": "4fc36f44",
   "metadata": {},
   "outputs": [
    {
     "name": "stdout",
     "output_type": "stream",
     "text": [
      "여행회사가 이번 괌여행에서 얻을 수 있는 수익은: 8000000 원 입니다.\n"
     ]
    }
   ],
   "source": [
    "total_ticket_fee = 50000000\n",
    "number_of_passenger = 29\n",
    "per_passenger_fee = 2000000\n",
    "net_profit = per_passenger_fee * number_of_passenger - total_ticket_fee\n",
    "print(\"여행회사가 이번 괌여행에서 얻을 수 있는 수익은:\", net_profit,\"원 입니다.\")"
   ]
  },
  {
   "cell_type": "markdown",
   "id": "73c1c287",
   "metadata": {},
   "source": [
    "## 파이썬에서 조건문 사용하기\n",
    "\n",
    "파이썬에는 산술 연산 이외에도 숫자와 변수를 비교하기 위한 여러 연산자를 제공한다.\n",
    "\n",
    "| Operator    | Description                                                     |\n",
    "|-------------|-----------------------------------------------------------------|\n",
    "| `==`        | Check if operands are equal                                     |\n",
    "| `!=`        | Check if operands are not equal                                 |\n",
    "| `>`         | Check if left operand is greater than right operand             |\n",
    "| `<`         | Check if left operand is less than right operand                |\n",
    "| `>=`        | Check if left operand is greater than or equal to right operand |\n",
    "| `<=`        | Check if left operand is less than or equal to right operand    |\n",
    "\n",
    "비교 연산의 결과는 `True` or `False` 이다(대문자로 표현하면 `T`, `F`). 이러한 것을 불리언 타입(변수)이라고 말한다."
   ]
  },
  {
   "cell_type": "code",
   "execution_count": 112,
   "id": "dd19c398",
   "metadata": {},
   "outputs": [],
   "source": [
    "my_favorite_number = 7\n",
    "my_least_favorite_number = 5\n",
    "a_neutral_number = 3"
   ]
  },
  {
   "cell_type": "code",
   "execution_count": 114,
   "id": "13fe1b31",
   "metadata": {},
   "outputs": [
    {
     "data": {
      "text/plain": [
       "True"
      ]
     },
     "execution_count": 114,
     "metadata": {},
     "output_type": "execute_result"
    }
   ],
   "source": [
    "# Equality check - True\n",
    "my_favorite_number == 7"
   ]
  },
  {
   "cell_type": "code",
   "execution_count": 115,
   "id": "8ff1577b",
   "metadata": {},
   "outputs": [
    {
     "data": {
      "text/plain": [
       "False"
      ]
     },
     "execution_count": 115,
     "metadata": {},
     "output_type": "execute_result"
    }
   ],
   "source": [
    "# Equality check - False\n",
    "my_favorite_number == my_least_favorite_number"
   ]
  },
  {
   "cell_type": "code",
   "execution_count": 116,
   "id": "d5880550",
   "metadata": {},
   "outputs": [
    {
     "data": {
      "text/plain": [
       "True"
      ]
     },
     "execution_count": 116,
     "metadata": {},
     "output_type": "execute_result"
    }
   ],
   "source": [
    "# Not equal check - True\n",
    "my_favorite_number != a_neutral_number"
   ]
  },
  {
   "cell_type": "code",
   "execution_count": 117,
   "id": "109325b1",
   "metadata": {},
   "outputs": [
    {
     "data": {
      "text/plain": [
       "False"
      ]
     },
     "execution_count": 117,
     "metadata": {},
     "output_type": "execute_result"
    }
   ],
   "source": [
    "# Not equal check - False\n",
    "a_neutral_number != 3"
   ]
  },
  {
   "cell_type": "code",
   "execution_count": 118,
   "id": "fc557929",
   "metadata": {},
   "outputs": [
    {
     "data": {
      "text/plain": [
       "True"
      ]
     },
     "execution_count": 118,
     "metadata": {},
     "output_type": "execute_result"
    }
   ],
   "source": [
    "# Greater than check - True\n",
    "my_least_favorite_number > a_neutral_number"
   ]
  },
  {
   "cell_type": "code",
   "execution_count": 119,
   "id": "b1ca5657",
   "metadata": {},
   "outputs": [
    {
     "data": {
      "text/plain": [
       "True"
      ]
     },
     "execution_count": 119,
     "metadata": {},
     "output_type": "execute_result"
    }
   ],
   "source": [
    "# Greater than check - False\n",
    "my_favorite_number > my_least_favorite_number"
   ]
  },
  {
   "cell_type": "code",
   "execution_count": 120,
   "id": "112cc2ed",
   "metadata": {},
   "outputs": [
    {
     "data": {
      "text/plain": [
       "True"
      ]
     },
     "execution_count": 120,
     "metadata": {},
     "output_type": "execute_result"
    }
   ],
   "source": [
    "# Less than check - True\n",
    "my_favorite_number < 10"
   ]
  },
  {
   "cell_type": "code",
   "execution_count": 121,
   "id": "ec673e7f",
   "metadata": {},
   "outputs": [
    {
     "data": {
      "text/plain": [
       "True"
      ]
     },
     "execution_count": 121,
     "metadata": {},
     "output_type": "execute_result"
    }
   ],
   "source": [
    "# Less than check - False\n",
    "my_least_favorite_number < my_favorite_number"
   ]
  },
  {
   "cell_type": "code",
   "execution_count": 122,
   "id": "a3f77716",
   "metadata": {},
   "outputs": [
    {
     "data": {
      "text/plain": [
       "True"
      ]
     },
     "execution_count": 122,
     "metadata": {},
     "output_type": "execute_result"
    }
   ],
   "source": [
    "# Greater than or equal check - True\n",
    "my_favorite_number >= 1"
   ]
  },
  {
   "cell_type": "code",
   "execution_count": 123,
   "id": "20285b00",
   "metadata": {},
   "outputs": [
    {
     "data": {
      "text/plain": [
       "True"
      ]
     },
     "execution_count": 123,
     "metadata": {},
     "output_type": "execute_result"
    }
   ],
   "source": [
    "# Greater than or equal check - False\n",
    "my_favorite_number >= 3"
   ]
  },
  {
   "cell_type": "code",
   "execution_count": 124,
   "id": "63db82b3",
   "metadata": {},
   "outputs": [
    {
     "data": {
      "text/plain": [
       "True"
      ]
     },
     "execution_count": 124,
     "metadata": {},
     "output_type": "execute_result"
    }
   ],
   "source": [
    "# Less than or equal check - True\n",
    "3 + 6 <= 9"
   ]
  },
  {
   "cell_type": "code",
   "execution_count": 125,
   "id": "3814d6dd",
   "metadata": {},
   "outputs": [
    {
     "data": {
      "text/plain": [
       "False"
      ]
     },
     "execution_count": 125,
     "metadata": {},
     "output_type": "execute_result"
    }
   ],
   "source": [
    "# Less than or equal check - False\n",
    "my_favorite_number + a_neutral_number <= 3"
   ]
  },
  {
   "cell_type": "code",
   "execution_count": 126,
   "id": "2859cab8",
   "metadata": {},
   "outputs": [
    {
     "name": "stdout",
     "output_type": "stream",
     "text": [
      "Is the ice bag expensive? False\n"
     ]
    }
   ],
   "source": [
    "cost_of_ice_bag = 1.25\n",
    "is_ice_bag_expensive = cost_of_ice_bag >= 10\n",
    "print(\"Is the ice bag expensive?\", is_ice_bag_expensive)"
   ]
  },
  {
   "cell_type": "markdown",
   "id": "32fe303e",
   "metadata": {},
   "source": [
    "## 논리 연산자와 조건 연산자의 결합\n",
    "\n",
    "논리 연산자 `and`, `or`와 `not`은 조건 `True` & `False` 값 (*booleans*이라고도 함). `and`와 `or` 연산자는 두 가지 조건에서 작동하는 반면, `not` 연산자는 단일 조건에서만 동작한다. \n",
    "\n",
    "`and`연산자는 두 조건이 모두 `True`일때만 `True`를 반환하고. 그렇지않은 경우에는 `False`를 반환한다.\n",
    "\n",
    "| `a`     | `b`    | `a and b` |\n",
    "|---------|--------|-----------|\n",
    "|  `True` | `True` | `True`    |\n",
    "|  `True` | `False`| `False`   |\n",
    "|  `False`| `True` | `False`   |\n",
    "|  `False`| `False`| `False`   |"
   ]
  },
  {
   "cell_type": "code",
   "execution_count": 127,
   "id": "19ea1f0b",
   "metadata": {},
   "outputs": [
    {
     "data": {
      "text/plain": [
       "7"
      ]
     },
     "execution_count": 127,
     "metadata": {},
     "output_type": "execute_result"
    }
   ],
   "source": [
    "my_favorite_number"
   ]
  },
  {
   "cell_type": "code",
   "execution_count": 129,
   "id": "7c2a583b",
   "metadata": {},
   "outputs": [
    {
     "data": {
      "text/plain": [
       "True"
      ]
     },
     "execution_count": 129,
     "metadata": {},
     "output_type": "execute_result"
    }
   ],
   "source": [
    "my_favorite_number > 0 and my_favorite_number <= 7"
   ]
  },
  {
   "cell_type": "code",
   "execution_count": 130,
   "id": "a2c20a8e",
   "metadata": {},
   "outputs": [
    {
     "data": {
      "text/plain": [
       "False"
      ]
     },
     "execution_count": 130,
     "metadata": {},
     "output_type": "execute_result"
    }
   ],
   "source": [
    "my_favorite_number < 0 and my_favorite_number <= 3"
   ]
  },
  {
   "cell_type": "code",
   "execution_count": 131,
   "id": "3bce309f",
   "metadata": {},
   "outputs": [
    {
     "data": {
      "text/plain": [
       "True"
      ]
     },
     "execution_count": 131,
     "metadata": {},
     "output_type": "execute_result"
    }
   ],
   "source": [
    "my_favorite_number > 0 and my_favorite_number >= 3"
   ]
  },
  {
   "cell_type": "code",
   "execution_count": 134,
   "id": "293fefed",
   "metadata": {},
   "outputs": [
    {
     "data": {
      "text/plain": [
       "False"
      ]
     },
     "execution_count": 134,
     "metadata": {},
     "output_type": "execute_result"
    }
   ],
   "source": [
    "True and False"
   ]
  },
  {
   "cell_type": "code",
   "execution_count": 133,
   "id": "4d03a2e7",
   "metadata": {},
   "outputs": [
    {
     "data": {
      "text/plain": [
       "True"
      ]
     },
     "execution_count": 133,
     "metadata": {},
     "output_type": "execute_result"
    }
   ],
   "source": [
    "True and True"
   ]
  },
  {
   "cell_type": "markdown",
   "id": "da6618ed",
   "metadata": {},
   "source": [
    "`or` 연산자는 조건 중 하나 이상이 `True`로 판명되면 `True`를 반환한다. 이 경우 두 조건이 모두 `False`인 경우에만 `False`를 반환한다.\n",
    "\n",
    "| `a`     | `b`    | `a or b`  |\n",
    "|---------|--------|-----------|\n",
    "|  `True` | `True` | `True`    |\n",
    "|  `True` | `False`| `True`    |\n",
    "|  `False`| `True` | `True`    |\n",
    "|  `False`| `False`| `False`   |\n"
   ]
  },
  {
   "cell_type": "code",
   "execution_count": 136,
   "id": "8e63c512",
   "metadata": {},
   "outputs": [],
   "source": [
    "a_neutral_number = 3"
   ]
  },
  {
   "cell_type": "code",
   "execution_count": 137,
   "id": "c3a2d43e",
   "metadata": {},
   "outputs": [
    {
     "data": {
      "text/plain": [
       "True"
      ]
     },
     "execution_count": 137,
     "metadata": {},
     "output_type": "execute_result"
    }
   ],
   "source": [
    "a_neutral_number == 3 or my_favorite_number < 0"
   ]
  },
  {
   "cell_type": "code",
   "execution_count": 138,
   "id": "5ce74042",
   "metadata": {},
   "outputs": [
    {
     "data": {
      "text/plain": [
       "False"
      ]
     },
     "execution_count": 138,
     "metadata": {},
     "output_type": "execute_result"
    }
   ],
   "source": [
    "a_neutral_number != 3 or my_favorite_number < 0"
   ]
  },
  {
   "cell_type": "code",
   "execution_count": 139,
   "id": "682666da",
   "metadata": {},
   "outputs": [
    {
     "data": {
      "text/plain": [
       "True"
      ]
     },
     "execution_count": 139,
     "metadata": {},
     "output_type": "execute_result"
    }
   ],
   "source": [
    "my_favorite_number < 0 or True"
   ]
  },
  {
   "cell_type": "code",
   "execution_count": 141,
   "id": "0cbe6809",
   "metadata": {},
   "outputs": [
    {
     "data": {
      "text/plain": [
       "False"
      ]
     },
     "execution_count": 141,
     "metadata": {},
     "output_type": "execute_result"
    }
   ],
   "source": [
    "False or False"
   ]
  },
  {
   "cell_type": "markdown",
   "id": "b5cb2c45",
   "metadata": {},
   "source": [
    "`not`연산자는 조건이 `True`이면 `False`를 반환하고 조건이 `False`이면 `True`를 반환한다."
   ]
  },
  {
   "cell_type": "code",
   "execution_count": 142,
   "id": "b0e27675",
   "metadata": {},
   "outputs": [
    {
     "data": {
      "text/plain": [
       "False"
      ]
     },
     "execution_count": 142,
     "metadata": {},
     "output_type": "execute_result"
    }
   ],
   "source": [
    "not a_neutral_number == 3"
   ]
  },
  {
   "cell_type": "code",
   "execution_count": 143,
   "id": "85462379",
   "metadata": {},
   "outputs": [
    {
     "data": {
      "text/plain": [
       "True"
      ]
     },
     "execution_count": 143,
     "metadata": {},
     "output_type": "execute_result"
    }
   ],
   "source": [
    "not my_favorite_number < 0"
   ]
  },
  {
   "cell_type": "code",
   "execution_count": 145,
   "id": "1e6a0249",
   "metadata": {},
   "outputs": [
    {
     "data": {
      "text/plain": [
       "True"
      ]
     },
     "execution_count": 145,
     "metadata": {},
     "output_type": "execute_result"
    }
   ],
   "source": [
    "not False"
   ]
  },
  {
   "cell_type": "code",
   "execution_count": 146,
   "id": "ab8d035d",
   "metadata": {},
   "outputs": [
    {
     "data": {
      "text/plain": [
       "False"
      ]
     },
     "execution_count": 146,
     "metadata": {},
     "output_type": "execute_result"
    }
   ],
   "source": [
    "not True"
   ]
  },
  {
   "cell_type": "markdown",
   "id": "273af576",
   "metadata": {},
   "source": [
    "또한 논리 연산자를 같이 써 복잡한 조건을 만들 수 있다. 대괄호 또는 괄호`(` 및 `)`를 사용하여 논리 연산자를 적용해야 하는 순서를 나타낸다."
   ]
  },
  {
   "cell_type": "code",
   "execution_count": 147,
   "id": "f5657d4e",
   "metadata": {},
   "outputs": [
    {
     "data": {
      "text/plain": [
       "True"
      ]
     },
     "execution_count": 147,
     "metadata": {},
     "output_type": "execute_result"
    }
   ],
   "source": [
    "(2 > 3 and 4 <= 5) or not (my_favorite_number < 0 and True)"
   ]
  },
  {
   "cell_type": "code",
   "execution_count": 148,
   "id": "d6fb2464",
   "metadata": {},
   "outputs": [
    {
     "data": {
      "text/plain": [
       "False"
      ]
     },
     "execution_count": 148,
     "metadata": {},
     "output_type": "execute_result"
    }
   ],
   "source": [
    "not (True and 0 < 1) or (False and True)"
   ]
  },
  {
   "cell_type": "markdown",
   "id": "beaaf010",
   "metadata": {},
   "source": [
    "괄호를 사용하지않으면 논리 연산자는 왼쪽에서 오른쪽으로 적용된다."
   ]
  },
  {
   "cell_type": "code",
   "execution_count": 149,
   "id": "50745733",
   "metadata": {},
   "outputs": [
    {
     "data": {
      "text/plain": [
       "False"
      ]
     },
     "execution_count": 149,
     "metadata": {},
     "output_type": "execute_result"
    }
   ],
   "source": [
    "not True and 0 < 1 or False and True"
   ]
  },
  {
   "cell_type": "markdown",
   "id": "395b3c9a",
   "metadata": {},
   "source": [
    "다음 노트북에서는 함수와 변수에 대해서 더 자세하게 다룰 겁니다."
   ]
  },
  {
   "cell_type": "code",
   "execution_count": null,
   "id": "e0c2d166",
   "metadata": {},
   "outputs": [],
   "source": []
  }
 ],
 "metadata": {
  "kernelspec": {
   "display_name": "Python 3",
   "language": "python",
   "name": "python3"
  },
  "language_info": {
   "codemirror_mode": {
    "name": "ipython",
    "version": 3
   },
   "file_extension": ".py",
   "mimetype": "text/x-python",
   "name": "python",
   "nbconvert_exporter": "python",
   "pygments_lexer": "ipython3",
   "version": "3.8.8"
  }
 },
 "nbformat": 4,
 "nbformat_minor": 5
}
