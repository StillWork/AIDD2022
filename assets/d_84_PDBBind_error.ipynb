{
  "nbformat": 4,
  "nbformat_minor": 0,
  "metadata": {
    "colab": {
      "name": "d_84_PDBBind_error.ipynb",
      "provenance": [],
      "collapsed_sections": []
    },
    "kernelspec": {
      "name": "python3",
      "display_name": "Python 3"
    },
    "language_info": {
      "name": "python"
    }
  },
  "cells": [
    {
      "cell_type": "code",
      "source": [
        ""
      ],
      "metadata": {
        "id": "McnF3gcqPga-"
      },
      "execution_count": null,
      "outputs": []
    },
    {
      "cell_type": "markdown",
      "source": [
        "# PDBBind 데이터셋\n",
        "- 생체 분자의 3차원 구조와 이들의 결합 친화력을 포함\n",
        " - 단백질-단백질, 단백질-리간드, 단백질-DNA, DNA-리간드 등\n",
        " - (참고) docking: 단백질-리간의 결합 부위를 예측하는 도구\n",
        "- 단백질 정보 은행 (PDB)에서 수집되었다\n",
        " - 잘 정리된 데이터: 핵심 core 데이터만 사용하겠다\n",
        "- 결합 친화력이 클수록 두 분자가 복합체 형태로 더 많이 \n",
        "존재한다는 뜻"
      ],
      "metadata": {
        "id": "9AFYzrfYQAAW"
      }
    },
    {
      "cell_type": "markdown",
      "source": [
        "## 랜덤 포레스트"
      ],
      "metadata": {
        "id": "XzND0ORmPSf0"
      }
    },
    {
      "cell_type": "code",
      "source": [
        "!pip install deepchem"
      ],
      "metadata": {
        "colab": {
          "base_uri": "https://localhost:8080/"
        },
        "id": "OtBTeBwHUrvP",
        "outputId": "ad56a19f-8997-4ce0-9acb-01425d06706b"
      },
      "execution_count": 1,
      "outputs": [
        {
          "output_type": "stream",
          "name": "stdout",
          "text": [
            "Collecting deepchem\n",
            "  Downloading deepchem-2.6.1-py3-none-any.whl (608 kB)\n",
            "\u001b[?25l\r\u001b[K     |▌                               | 10 kB 29.7 MB/s eta 0:00:01\r\u001b[K     |█                               | 20 kB 33.0 MB/s eta 0:00:01\r\u001b[K     |█▋                              | 30 kB 21.5 MB/s eta 0:00:01\r\u001b[K     |██▏                             | 40 kB 17.9 MB/s eta 0:00:01\r\u001b[K     |██▊                             | 51 kB 8.9 MB/s eta 0:00:01\r\u001b[K     |███▎                            | 61 kB 10.4 MB/s eta 0:00:01\r\u001b[K     |███▊                            | 71 kB 10.1 MB/s eta 0:00:01\r\u001b[K     |████▎                           | 81 kB 10.5 MB/s eta 0:00:01\r\u001b[K     |████▉                           | 92 kB 11.6 MB/s eta 0:00:01\r\u001b[K     |█████▍                          | 102 kB 9.8 MB/s eta 0:00:01\r\u001b[K     |██████                          | 112 kB 9.8 MB/s eta 0:00:01\r\u001b[K     |██████▌                         | 122 kB 9.8 MB/s eta 0:00:01\r\u001b[K     |███████                         | 133 kB 9.8 MB/s eta 0:00:01\r\u001b[K     |███████▌                        | 143 kB 9.8 MB/s eta 0:00:01\r\u001b[K     |████████                        | 153 kB 9.8 MB/s eta 0:00:01\r\u001b[K     |████████▋                       | 163 kB 9.8 MB/s eta 0:00:01\r\u001b[K     |█████████▏                      | 174 kB 9.8 MB/s eta 0:00:01\r\u001b[K     |█████████▊                      | 184 kB 9.8 MB/s eta 0:00:01\r\u001b[K     |██████████▎                     | 194 kB 9.8 MB/s eta 0:00:01\r\u001b[K     |██████████▊                     | 204 kB 9.8 MB/s eta 0:00:01\r\u001b[K     |███████████▎                    | 215 kB 9.8 MB/s eta 0:00:01\r\u001b[K     |███████████▉                    | 225 kB 9.8 MB/s eta 0:00:01\r\u001b[K     |████████████▍                   | 235 kB 9.8 MB/s eta 0:00:01\r\u001b[K     |█████████████                   | 245 kB 9.8 MB/s eta 0:00:01\r\u001b[K     |█████████████▌                  | 256 kB 9.8 MB/s eta 0:00:01\r\u001b[K     |██████████████                  | 266 kB 9.8 MB/s eta 0:00:01\r\u001b[K     |██████████████▌                 | 276 kB 9.8 MB/s eta 0:00:01\r\u001b[K     |███████████████                 | 286 kB 9.8 MB/s eta 0:00:01\r\u001b[K     |███████████████▋                | 296 kB 9.8 MB/s eta 0:00:01\r\u001b[K     |████████████████▏               | 307 kB 9.8 MB/s eta 0:00:01\r\u001b[K     |████████████████▊               | 317 kB 9.8 MB/s eta 0:00:01\r\u001b[K     |█████████████████▎              | 327 kB 9.8 MB/s eta 0:00:01\r\u001b[K     |█████████████████▊              | 337 kB 9.8 MB/s eta 0:00:01\r\u001b[K     |██████████████████▎             | 348 kB 9.8 MB/s eta 0:00:01\r\u001b[K     |██████████████████▉             | 358 kB 9.8 MB/s eta 0:00:01\r\u001b[K     |███████████████████▍            | 368 kB 9.8 MB/s eta 0:00:01\r\u001b[K     |████████████████████            | 378 kB 9.8 MB/s eta 0:00:01\r\u001b[K     |████████████████████▌           | 389 kB 9.8 MB/s eta 0:00:01\r\u001b[K     |█████████████████████           | 399 kB 9.8 MB/s eta 0:00:01\r\u001b[K     |█████████████████████▌          | 409 kB 9.8 MB/s eta 0:00:01\r\u001b[K     |██████████████████████          | 419 kB 9.8 MB/s eta 0:00:01\r\u001b[K     |██████████████████████▋         | 430 kB 9.8 MB/s eta 0:00:01\r\u001b[K     |███████████████████████▏        | 440 kB 9.8 MB/s eta 0:00:01\r\u001b[K     |███████████████████████▊        | 450 kB 9.8 MB/s eta 0:00:01\r\u001b[K     |████████████████████████▎       | 460 kB 9.8 MB/s eta 0:00:01\r\u001b[K     |████████████████████████▉       | 471 kB 9.8 MB/s eta 0:00:01\r\u001b[K     |█████████████████████████▎      | 481 kB 9.8 MB/s eta 0:00:01\r\u001b[K     |█████████████████████████▉      | 491 kB 9.8 MB/s eta 0:00:01\r\u001b[K     |██████████████████████████▍     | 501 kB 9.8 MB/s eta 0:00:01\r\u001b[K     |███████████████████████████     | 512 kB 9.8 MB/s eta 0:00:01\r\u001b[K     |███████████████████████████▌    | 522 kB 9.8 MB/s eta 0:00:01\r\u001b[K     |████████████████████████████    | 532 kB 9.8 MB/s eta 0:00:01\r\u001b[K     |████████████████████████████▌   | 542 kB 9.8 MB/s eta 0:00:01\r\u001b[K     |█████████████████████████████   | 552 kB 9.8 MB/s eta 0:00:01\r\u001b[K     |█████████████████████████████▋  | 563 kB 9.8 MB/s eta 0:00:01\r\u001b[K     |██████████████████████████████▏ | 573 kB 9.8 MB/s eta 0:00:01\r\u001b[K     |██████████████████████████████▊ | 583 kB 9.8 MB/s eta 0:00:01\r\u001b[K     |███████████████████████████████▎| 593 kB 9.8 MB/s eta 0:00:01\r\u001b[K     |███████████████████████████████▉| 604 kB 9.8 MB/s eta 0:00:01\r\u001b[K     |████████████████████████████████| 608 kB 9.8 MB/s \n",
            "\u001b[?25hRequirement already satisfied: joblib in /usr/local/lib/python3.7/dist-packages (from deepchem) (1.1.0)\n",
            "Requirement already satisfied: scikit-learn in /usr/local/lib/python3.7/dist-packages (from deepchem) (1.0.2)\n",
            "Requirement already satisfied: pandas in /usr/local/lib/python3.7/dist-packages (from deepchem) (1.3.5)\n",
            "Collecting rdkit-pypi\n",
            "  Downloading rdkit_pypi-2022.3.2-cp37-cp37m-manylinux_2_17_x86_64.manylinux2014_x86_64.whl (22.5 MB)\n",
            "\u001b[K     |████████████████████████████████| 22.5 MB 87.3 MB/s \n",
            "\u001b[?25hRequirement already satisfied: numpy>=1.21 in /usr/local/lib/python3.7/dist-packages (from deepchem) (1.21.6)\n",
            "Requirement already satisfied: scipy in /usr/local/lib/python3.7/dist-packages (from deepchem) (1.4.1)\n",
            "Requirement already satisfied: pytz>=2017.3 in /usr/local/lib/python3.7/dist-packages (from pandas->deepchem) (2022.1)\n",
            "Requirement already satisfied: python-dateutil>=2.7.3 in /usr/local/lib/python3.7/dist-packages (from pandas->deepchem) (2.8.2)\n",
            "Requirement already satisfied: six>=1.5 in /usr/local/lib/python3.7/dist-packages (from python-dateutil>=2.7.3->pandas->deepchem) (1.15.0)\n",
            "Requirement already satisfied: Pillow in /usr/local/lib/python3.7/dist-packages (from rdkit-pypi->deepchem) (7.1.2)\n",
            "Requirement already satisfied: threadpoolctl>=2.0.0 in /usr/local/lib/python3.7/dist-packages (from scikit-learn->deepchem) (3.1.0)\n",
            "Installing collected packages: rdkit-pypi, deepchem\n",
            "Successfully installed deepchem-2.6.1 rdkit-pypi-2022.3.2\n"
          ]
        }
      ]
    },
    {
      "cell_type": "markdown",
      "source": [
        "## 그리드 피처기 옵션\n",
        "- sanitize=True : DeepChem이 탐지한 명백한 오류는 수정\n",
        "- flatten=True : 각 입력에 대해 1차원 피처 벡터를 출력\n",
        "- 복셀(voxel) : 픽셀의 3차원 아나로그 값\n",
        "\n",
        "- splif: Structural Protein-Ligand Interaction Fingerprint"
      ],
      "metadata": {
        "id": "hFc4xGRsU-UD"
      }
    },
    {
      "cell_type": "code",
      "execution_count": 31,
      "metadata": {
        "id": "kN7_tjo6PN3t"
      },
      "outputs": [],
      "source": [
        "# 데이터 로드\n",
        "import deepchem as dc\n",
        "featurizer = dc.feat.RdkitGridFeaturizer(flatten=True, sanitize=True, \n",
        "             feature_types=['hbond', 'salt_bridge', 'pi_stack', 'cation_pi', 'ecfp', 'splif'])\n",
        "pdbbind_tasks, pdbbind_datasets, transformers = dc.molnet.load_pdbbind(featurizer=featurizer, splitter=\"random\", subset=\"core\")\n",
        "train_dataset, valid_dataset, test_dataset = pdbbind_datasets\n"
      ]
    },
    {
      "cell_type": "code",
      "source": [
        "train_dataset.X.shape"
      ],
      "metadata": {
        "colab": {
          "base_uri": "https://localhost:8080/"
        },
        "id": "ktm2Gq8kWilk",
        "outputId": "5ddeb3be-4dc2-4854-cd1a-fc05e354e06c"
      },
      "execution_count": 32,
      "outputs": [
        {
          "output_type": "execute_result",
          "data": {
            "text/plain": [
              "(154, 1)"
            ]
          },
          "metadata": {},
          "execution_count": 32
        }
      ]
    },
    {
      "cell_type": "code",
      "source": [
        "train_dataset.y.shape"
      ],
      "metadata": {
        "colab": {
          "base_uri": "https://localhost:8080/"
        },
        "id": "bBy9yBPokD7S",
        "outputId": "cd2695d9-8049-4698-ef73-b89bc2966cc6"
      },
      "execution_count": 36,
      "outputs": [
        {
          "output_type": "execute_result",
          "data": {
            "text/plain": [
              "(154,)"
            ]
          },
          "metadata": {},
          "execution_count": 36
        }
      ]
    },
    {
      "cell_type": "code",
      "source": [
        "\n",
        "# 랜덤 포레스트 모델 사용\n",
        "\n",
        "from sklearn.ensemble import RandomForestRegressor\n",
        "sklearn_model = RandomForestRegressor(n_estimators=100)\n",
        "model = dc.models.SklearnModel(sklearn_model, model_dir=\"pdbbind_rf\")\n",
        "model.fit(train_dataset)\n",
        "\n",
        "# 검증\n",
        "\n",
        "metric = dc.metrics.Metric(dc.metrics.pearson_r2_score)\n",
        "train_scores = model.evaluate(train_dataset, [metric], transformers)\n",
        "test_scores = model.evaluate(test_dataset, [metric], transformers)\n",
        "print(\"Train scores\")\n",
        "print(train_scores)\n",
        "print(\"Test scores\")\n",
        "print(test_scores)"
      ],
      "metadata": {
        "colab": {
          "base_uri": "https://localhost:8080/"
        },
        "id": "498_NrgfWclv",
        "outputId": "3f489303-2460-40dc-fb49-ced3c2afdb4f"
      },
      "execution_count": 33,
      "outputs": [
        {
          "output_type": "stream",
          "name": "stdout",
          "text": [
            "Train scores\n",
            "{'pearson_r2_score': nan}\n",
            "Test scores\n",
            "{'pearson_r2_score': nan}\n"
          ]
        },
        {
          "output_type": "stream",
          "name": "stderr",
          "text": [
            "/usr/local/lib/python3.7/dist-packages/scipy/stats/stats.py:3508: PearsonRConstantInputWarning: An input array is constant; the correlation coefficent is not defined.\n",
            "  warnings.warn(PearsonRConstantInputWarning())\n",
            "/usr/local/lib/python3.7/dist-packages/scipy/stats/stats.py:3508: PearsonRConstantInputWarning: An input array is constant; the correlation coefficent is not defined.\n",
            "  warnings.warn(PearsonRConstantInputWarning())\n"
          ]
        }
      ]
    },
    {
      "cell_type": "markdown",
      "source": [
        "## 신경망"
      ],
      "metadata": {
        "id": "-LsizzzIPdc2"
      }
    },
    {
      "cell_type": "code",
      "source": [
        "\n",
        "n_features = train_dataset.X.shape[1]\n",
        "model = dc.models.MultitaskRegressor(\n",
        "        n_tasks=len(pdbbind_tasks),\n",
        "        n_features=n_features,\n",
        "        layer_sizes=[2000, 1000],\n",
        "        dropouts=0.5,\n",
        "        model_dir=\"pdbbind_nn\",\n",
        "        learning_rate=0.0003)\n",
        "model.fit(train_dataset, nb_epoch=50)\n",
        "\n",
        "# Evaluate it.\n",
        "\n",
        "metric = dc.metrics.Metric(dc.metrics.pearson_r2_score)\n",
        "train_scores = model.evaluate(train_dataset, [metric], transformers)\n",
        "test_scores = model.evaluate(test_dataset, [metric], transformers)\n",
        "print(\"Train scores\")\n",
        "print(train_scores)\n",
        "print(\"Test scores\")\n",
        "print(test_scores)"
      ],
      "metadata": {
        "colab": {
          "base_uri": "https://localhost:8080/"
        },
        "id": "hpFjpL0oPV5x",
        "outputId": "eefc1cf9-48ca-4e5c-8602-6f93f173476d"
      },
      "execution_count": 34,
      "outputs": [
        {
          "output_type": "stream",
          "name": "stdout",
          "text": [
            "Train scores\n",
            "{'pearson_r2_score': 0.002704200083891712}\n",
            "Test scores\n",
            "{'pearson_r2_score': 0.008446555369604352}\n"
          ]
        }
      ]
    },
    {
      "cell_type": "code",
      "source": [
        ""
      ],
      "metadata": {
        "id": "fidqr86BccH_"
      },
      "execution_count": null,
      "outputs": []
    }
  ]
}